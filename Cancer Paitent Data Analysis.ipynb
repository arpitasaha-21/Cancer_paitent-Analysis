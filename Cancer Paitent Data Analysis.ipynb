{
 "cells": [
  {
   "cell_type": "markdown",
   "id": "84a40361",
   "metadata": {},
   "source": [
    "##### Import libraries"
   ]
  },
  {
   "cell_type": "code",
   "execution_count": 1,
   "id": "6095815e",
   "metadata": {},
   "outputs": [],
   "source": [
    "import numpy as np\n",
    "import pandas as pd\n",
    "import plotly.graph_objs as go\n",
    "import plotly.figure_factory as ff\n",
    "import matplotlib.pyplot as plt\n",
    "from sklearn.linear_model import LogisticRegression\n",
    "from sklearn.metrics import confusion_matrix\n",
    "from sklearn.tree import DecisionTreeClassifier\n",
    "from sklearn import tree\n",
    "from sklearn.preprocessing import StandardScaler\n",
    "from sklearn.model_selection import GridSearchCV\n",
    "from imblearn.over_sampling import SMOTE\n",
    "from imblearn.pipeline import Pipeline\n",
    "from sklearn.linear_model import SGDClassifier\n",
    "from sklearn.metrics import classification_report\n",
    "\n",
    "import warnings\n",
    "warnings.filterwarnings(\"ignore\", category=FutureWarning)"
   ]
  },
  {
   "cell_type": "markdown",
   "id": "05494eca",
   "metadata": {},
   "source": [
    "##### Import dataset"
   ]
  },
  {
   "cell_type": "code",
   "execution_count": 3,
   "id": "4c04ea69",
   "metadata": {},
   "outputs": [
    {
     "data": {
      "text/html": [
       "<div>\n",
       "<style scoped>\n",
       "    .dataframe tbody tr th:only-of-type {\n",
       "        vertical-align: middle;\n",
       "    }\n",
       "\n",
       "    .dataframe tbody tr th {\n",
       "        vertical-align: top;\n",
       "    }\n",
       "\n",
       "    .dataframe thead th {\n",
       "        text-align: right;\n",
       "    }\n",
       "</style>\n",
       "<table border=\"1\" class=\"dataframe\">\n",
       "  <thead>\n",
       "    <tr style=\"text-align: right;\">\n",
       "      <th></th>\n",
       "      <th>Patient Id</th>\n",
       "      <th>Age</th>\n",
       "      <th>Gender</th>\n",
       "      <th>Air Pollution</th>\n",
       "      <th>Alcohol use</th>\n",
       "      <th>Dust Allergy</th>\n",
       "      <th>OccuPational Hazards</th>\n",
       "      <th>Genetic Risk</th>\n",
       "      <th>chronic Lung Disease</th>\n",
       "      <th>Balanced Diet</th>\n",
       "      <th>...</th>\n",
       "      <th>Fatigue</th>\n",
       "      <th>Weight Loss</th>\n",
       "      <th>Shortness of Breath</th>\n",
       "      <th>Wheezing</th>\n",
       "      <th>Swallowing Difficulty</th>\n",
       "      <th>Clubbing of Finger Nails</th>\n",
       "      <th>Frequent Cold</th>\n",
       "      <th>Dry Cough</th>\n",
       "      <th>Snoring</th>\n",
       "      <th>Level</th>\n",
       "    </tr>\n",
       "  </thead>\n",
       "  <tbody>\n",
       "    <tr>\n",
       "      <th>0</th>\n",
       "      <td>P1</td>\n",
       "      <td>33</td>\n",
       "      <td>1</td>\n",
       "      <td>2</td>\n",
       "      <td>4</td>\n",
       "      <td>5</td>\n",
       "      <td>4</td>\n",
       "      <td>3</td>\n",
       "      <td>2</td>\n",
       "      <td>2</td>\n",
       "      <td>...</td>\n",
       "      <td>3</td>\n",
       "      <td>4</td>\n",
       "      <td>2</td>\n",
       "      <td>2</td>\n",
       "      <td>3</td>\n",
       "      <td>1</td>\n",
       "      <td>2</td>\n",
       "      <td>3</td>\n",
       "      <td>4</td>\n",
       "      <td>Low</td>\n",
       "    </tr>\n",
       "    <tr>\n",
       "      <th>1</th>\n",
       "      <td>P10</td>\n",
       "      <td>17</td>\n",
       "      <td>1</td>\n",
       "      <td>3</td>\n",
       "      <td>1</td>\n",
       "      <td>5</td>\n",
       "      <td>3</td>\n",
       "      <td>4</td>\n",
       "      <td>2</td>\n",
       "      <td>2</td>\n",
       "      <td>...</td>\n",
       "      <td>1</td>\n",
       "      <td>3</td>\n",
       "      <td>7</td>\n",
       "      <td>8</td>\n",
       "      <td>6</td>\n",
       "      <td>2</td>\n",
       "      <td>1</td>\n",
       "      <td>7</td>\n",
       "      <td>2</td>\n",
       "      <td>Medium</td>\n",
       "    </tr>\n",
       "    <tr>\n",
       "      <th>2</th>\n",
       "      <td>P100</td>\n",
       "      <td>35</td>\n",
       "      <td>1</td>\n",
       "      <td>4</td>\n",
       "      <td>5</td>\n",
       "      <td>6</td>\n",
       "      <td>5</td>\n",
       "      <td>5</td>\n",
       "      <td>4</td>\n",
       "      <td>6</td>\n",
       "      <td>...</td>\n",
       "      <td>8</td>\n",
       "      <td>7</td>\n",
       "      <td>9</td>\n",
       "      <td>2</td>\n",
       "      <td>1</td>\n",
       "      <td>4</td>\n",
       "      <td>6</td>\n",
       "      <td>7</td>\n",
       "      <td>2</td>\n",
       "      <td>High</td>\n",
       "    </tr>\n",
       "    <tr>\n",
       "      <th>3</th>\n",
       "      <td>P1000</td>\n",
       "      <td>37</td>\n",
       "      <td>1</td>\n",
       "      <td>7</td>\n",
       "      <td>7</td>\n",
       "      <td>7</td>\n",
       "      <td>7</td>\n",
       "      <td>6</td>\n",
       "      <td>7</td>\n",
       "      <td>7</td>\n",
       "      <td>...</td>\n",
       "      <td>4</td>\n",
       "      <td>2</td>\n",
       "      <td>3</td>\n",
       "      <td>1</td>\n",
       "      <td>4</td>\n",
       "      <td>5</td>\n",
       "      <td>6</td>\n",
       "      <td>7</td>\n",
       "      <td>5</td>\n",
       "      <td>High</td>\n",
       "    </tr>\n",
       "    <tr>\n",
       "      <th>4</th>\n",
       "      <td>P101</td>\n",
       "      <td>46</td>\n",
       "      <td>1</td>\n",
       "      <td>6</td>\n",
       "      <td>8</td>\n",
       "      <td>7</td>\n",
       "      <td>7</td>\n",
       "      <td>7</td>\n",
       "      <td>6</td>\n",
       "      <td>7</td>\n",
       "      <td>...</td>\n",
       "      <td>3</td>\n",
       "      <td>2</td>\n",
       "      <td>4</td>\n",
       "      <td>1</td>\n",
       "      <td>4</td>\n",
       "      <td>2</td>\n",
       "      <td>4</td>\n",
       "      <td>2</td>\n",
       "      <td>3</td>\n",
       "      <td>High</td>\n",
       "    </tr>\n",
       "  </tbody>\n",
       "</table>\n",
       "<p>5 rows × 25 columns</p>\n",
       "</div>"
      ],
      "text/plain": [
       "  Patient Id  Age  Gender  Air Pollution  Alcohol use  Dust Allergy  \\\n",
       "0         P1   33       1              2            4             5   \n",
       "1        P10   17       1              3            1             5   \n",
       "2       P100   35       1              4            5             6   \n",
       "3      P1000   37       1              7            7             7   \n",
       "4       P101   46       1              6            8             7   \n",
       "\n",
       "   OccuPational Hazards  Genetic Risk  chronic Lung Disease  Balanced Diet  \\\n",
       "0                     4             3                     2              2   \n",
       "1                     3             4                     2              2   \n",
       "2                     5             5                     4              6   \n",
       "3                     7             6                     7              7   \n",
       "4                     7             7                     6              7   \n",
       "\n",
       "   ...  Fatigue  Weight Loss  Shortness of Breath  Wheezing  \\\n",
       "0  ...        3            4                    2         2   \n",
       "1  ...        1            3                    7         8   \n",
       "2  ...        8            7                    9         2   \n",
       "3  ...        4            2                    3         1   \n",
       "4  ...        3            2                    4         1   \n",
       "\n",
       "   Swallowing Difficulty  Clubbing of Finger Nails  Frequent Cold  Dry Cough  \\\n",
       "0                      3                         1              2          3   \n",
       "1                      6                         2              1          7   \n",
       "2                      1                         4              6          7   \n",
       "3                      4                         5              6          7   \n",
       "4                      4                         2              4          2   \n",
       "\n",
       "   Snoring   Level  \n",
       "0        4     Low  \n",
       "1        2  Medium  \n",
       "2        2    High  \n",
       "3        5    High  \n",
       "4        3    High  \n",
       "\n",
       "[5 rows x 25 columns]"
      ]
     },
     "execution_count": 3,
     "metadata": {},
     "output_type": "execute_result"
    }
   ],
   "source": [
    "dataset = pd.read_excel(\"D:/SPRING 2022-23/ML/FINAL_PROJECT/cancer patient data sets.xlsx\")\n",
    "dataset.head()"
   ]
  },
  {
   "cell_type": "markdown",
   "id": "eeeadb55",
   "metadata": {},
   "source": [
    "##### Check the instances & attributes count of dataset"
   ]
  },
  {
   "cell_type": "code",
   "execution_count": 4,
   "id": "703d14a8",
   "metadata": {},
   "outputs": [
    {
     "name": "stdout",
     "output_type": "stream",
     "text": [
      "(1000, 25)\n"
     ]
    }
   ],
   "source": [
    "print(dataset.shape)"
   ]
  },
  {
   "cell_type": "markdown",
   "id": "265422b5",
   "metadata": {},
   "source": [
    "##### Describe the dataset in transpose"
   ]
  },
  {
   "cell_type": "code",
   "execution_count": 5,
   "id": "7031b143",
   "metadata": {},
   "outputs": [
    {
     "data": {
      "text/html": [
       "<div>\n",
       "<style scoped>\n",
       "    .dataframe tbody tr th:only-of-type {\n",
       "        vertical-align: middle;\n",
       "    }\n",
       "\n",
       "    .dataframe tbody tr th {\n",
       "        vertical-align: top;\n",
       "    }\n",
       "\n",
       "    .dataframe thead th {\n",
       "        text-align: right;\n",
       "    }\n",
       "</style>\n",
       "<table border=\"1\" class=\"dataframe\">\n",
       "  <thead>\n",
       "    <tr style=\"text-align: right;\">\n",
       "      <th></th>\n",
       "      <th>count</th>\n",
       "      <th>mean</th>\n",
       "      <th>std</th>\n",
       "      <th>min</th>\n",
       "      <th>25%</th>\n",
       "      <th>50%</th>\n",
       "      <th>75%</th>\n",
       "      <th>max</th>\n",
       "    </tr>\n",
       "  </thead>\n",
       "  <tbody>\n",
       "    <tr>\n",
       "      <th>Age</th>\n",
       "      <td>1000.0</td>\n",
       "      <td>37.174</td>\n",
       "      <td>12.005493</td>\n",
       "      <td>14.0</td>\n",
       "      <td>27.75</td>\n",
       "      <td>36.0</td>\n",
       "      <td>45.0</td>\n",
       "      <td>73.0</td>\n",
       "    </tr>\n",
       "    <tr>\n",
       "      <th>Gender</th>\n",
       "      <td>1000.0</td>\n",
       "      <td>1.402</td>\n",
       "      <td>0.490547</td>\n",
       "      <td>1.0</td>\n",
       "      <td>1.00</td>\n",
       "      <td>1.0</td>\n",
       "      <td>2.0</td>\n",
       "      <td>2.0</td>\n",
       "    </tr>\n",
       "    <tr>\n",
       "      <th>Air Pollution</th>\n",
       "      <td>1000.0</td>\n",
       "      <td>3.840</td>\n",
       "      <td>2.030400</td>\n",
       "      <td>1.0</td>\n",
       "      <td>2.00</td>\n",
       "      <td>3.0</td>\n",
       "      <td>6.0</td>\n",
       "      <td>8.0</td>\n",
       "    </tr>\n",
       "    <tr>\n",
       "      <th>Alcohol use</th>\n",
       "      <td>1000.0</td>\n",
       "      <td>4.563</td>\n",
       "      <td>2.620477</td>\n",
       "      <td>1.0</td>\n",
       "      <td>2.00</td>\n",
       "      <td>5.0</td>\n",
       "      <td>7.0</td>\n",
       "      <td>8.0</td>\n",
       "    </tr>\n",
       "    <tr>\n",
       "      <th>Dust Allergy</th>\n",
       "      <td>1000.0</td>\n",
       "      <td>5.165</td>\n",
       "      <td>1.980833</td>\n",
       "      <td>1.0</td>\n",
       "      <td>4.00</td>\n",
       "      <td>6.0</td>\n",
       "      <td>7.0</td>\n",
       "      <td>8.0</td>\n",
       "    </tr>\n",
       "    <tr>\n",
       "      <th>OccuPational Hazards</th>\n",
       "      <td>1000.0</td>\n",
       "      <td>4.840</td>\n",
       "      <td>2.107805</td>\n",
       "      <td>1.0</td>\n",
       "      <td>3.00</td>\n",
       "      <td>5.0</td>\n",
       "      <td>7.0</td>\n",
       "      <td>8.0</td>\n",
       "    </tr>\n",
       "    <tr>\n",
       "      <th>Genetic Risk</th>\n",
       "      <td>1000.0</td>\n",
       "      <td>4.580</td>\n",
       "      <td>2.126999</td>\n",
       "      <td>1.0</td>\n",
       "      <td>2.00</td>\n",
       "      <td>5.0</td>\n",
       "      <td>7.0</td>\n",
       "      <td>7.0</td>\n",
       "    </tr>\n",
       "    <tr>\n",
       "      <th>chronic Lung Disease</th>\n",
       "      <td>1000.0</td>\n",
       "      <td>4.380</td>\n",
       "      <td>1.848518</td>\n",
       "      <td>1.0</td>\n",
       "      <td>3.00</td>\n",
       "      <td>4.0</td>\n",
       "      <td>6.0</td>\n",
       "      <td>7.0</td>\n",
       "    </tr>\n",
       "    <tr>\n",
       "      <th>Balanced Diet</th>\n",
       "      <td>1000.0</td>\n",
       "      <td>4.491</td>\n",
       "      <td>2.135528</td>\n",
       "      <td>1.0</td>\n",
       "      <td>2.00</td>\n",
       "      <td>4.0</td>\n",
       "      <td>7.0</td>\n",
       "      <td>7.0</td>\n",
       "    </tr>\n",
       "    <tr>\n",
       "      <th>Obesity</th>\n",
       "      <td>1000.0</td>\n",
       "      <td>4.465</td>\n",
       "      <td>2.124921</td>\n",
       "      <td>1.0</td>\n",
       "      <td>3.00</td>\n",
       "      <td>4.0</td>\n",
       "      <td>7.0</td>\n",
       "      <td>7.0</td>\n",
       "    </tr>\n",
       "    <tr>\n",
       "      <th>Smoking</th>\n",
       "      <td>1000.0</td>\n",
       "      <td>3.948</td>\n",
       "      <td>2.495902</td>\n",
       "      <td>1.0</td>\n",
       "      <td>2.00</td>\n",
       "      <td>3.0</td>\n",
       "      <td>7.0</td>\n",
       "      <td>8.0</td>\n",
       "    </tr>\n",
       "    <tr>\n",
       "      <th>Passive Smoker</th>\n",
       "      <td>1000.0</td>\n",
       "      <td>4.195</td>\n",
       "      <td>2.311778</td>\n",
       "      <td>1.0</td>\n",
       "      <td>2.00</td>\n",
       "      <td>4.0</td>\n",
       "      <td>7.0</td>\n",
       "      <td>8.0</td>\n",
       "    </tr>\n",
       "    <tr>\n",
       "      <th>Chest Pain</th>\n",
       "      <td>1000.0</td>\n",
       "      <td>4.438</td>\n",
       "      <td>2.280209</td>\n",
       "      <td>1.0</td>\n",
       "      <td>2.00</td>\n",
       "      <td>4.0</td>\n",
       "      <td>7.0</td>\n",
       "      <td>9.0</td>\n",
       "    </tr>\n",
       "    <tr>\n",
       "      <th>Coughing of Blood</th>\n",
       "      <td>1000.0</td>\n",
       "      <td>4.859</td>\n",
       "      <td>2.427965</td>\n",
       "      <td>1.0</td>\n",
       "      <td>3.00</td>\n",
       "      <td>4.0</td>\n",
       "      <td>7.0</td>\n",
       "      <td>9.0</td>\n",
       "    </tr>\n",
       "    <tr>\n",
       "      <th>Fatigue</th>\n",
       "      <td>1000.0</td>\n",
       "      <td>3.856</td>\n",
       "      <td>2.244616</td>\n",
       "      <td>1.0</td>\n",
       "      <td>2.00</td>\n",
       "      <td>3.0</td>\n",
       "      <td>5.0</td>\n",
       "      <td>9.0</td>\n",
       "    </tr>\n",
       "    <tr>\n",
       "      <th>Weight Loss</th>\n",
       "      <td>1000.0</td>\n",
       "      <td>3.855</td>\n",
       "      <td>2.206546</td>\n",
       "      <td>1.0</td>\n",
       "      <td>2.00</td>\n",
       "      <td>3.0</td>\n",
       "      <td>6.0</td>\n",
       "      <td>8.0</td>\n",
       "    </tr>\n",
       "    <tr>\n",
       "      <th>Shortness of Breath</th>\n",
       "      <td>1000.0</td>\n",
       "      <td>4.240</td>\n",
       "      <td>2.285087</td>\n",
       "      <td>1.0</td>\n",
       "      <td>2.00</td>\n",
       "      <td>4.0</td>\n",
       "      <td>6.0</td>\n",
       "      <td>9.0</td>\n",
       "    </tr>\n",
       "    <tr>\n",
       "      <th>Wheezing</th>\n",
       "      <td>1000.0</td>\n",
       "      <td>3.777</td>\n",
       "      <td>2.041921</td>\n",
       "      <td>1.0</td>\n",
       "      <td>2.00</td>\n",
       "      <td>4.0</td>\n",
       "      <td>5.0</td>\n",
       "      <td>8.0</td>\n",
       "    </tr>\n",
       "    <tr>\n",
       "      <th>Swallowing Difficulty</th>\n",
       "      <td>1000.0</td>\n",
       "      <td>3.746</td>\n",
       "      <td>2.270383</td>\n",
       "      <td>1.0</td>\n",
       "      <td>2.00</td>\n",
       "      <td>4.0</td>\n",
       "      <td>5.0</td>\n",
       "      <td>8.0</td>\n",
       "    </tr>\n",
       "    <tr>\n",
       "      <th>Clubbing of Finger Nails</th>\n",
       "      <td>1000.0</td>\n",
       "      <td>3.923</td>\n",
       "      <td>2.388048</td>\n",
       "      <td>1.0</td>\n",
       "      <td>2.00</td>\n",
       "      <td>4.0</td>\n",
       "      <td>5.0</td>\n",
       "      <td>9.0</td>\n",
       "    </tr>\n",
       "    <tr>\n",
       "      <th>Frequent Cold</th>\n",
       "      <td>1000.0</td>\n",
       "      <td>3.536</td>\n",
       "      <td>1.832502</td>\n",
       "      <td>1.0</td>\n",
       "      <td>2.00</td>\n",
       "      <td>3.0</td>\n",
       "      <td>5.0</td>\n",
       "      <td>7.0</td>\n",
       "    </tr>\n",
       "    <tr>\n",
       "      <th>Dry Cough</th>\n",
       "      <td>1000.0</td>\n",
       "      <td>3.853</td>\n",
       "      <td>2.039007</td>\n",
       "      <td>1.0</td>\n",
       "      <td>2.00</td>\n",
       "      <td>4.0</td>\n",
       "      <td>6.0</td>\n",
       "      <td>7.0</td>\n",
       "    </tr>\n",
       "    <tr>\n",
       "      <th>Snoring</th>\n",
       "      <td>1000.0</td>\n",
       "      <td>2.926</td>\n",
       "      <td>1.474686</td>\n",
       "      <td>1.0</td>\n",
       "      <td>2.00</td>\n",
       "      <td>3.0</td>\n",
       "      <td>4.0</td>\n",
       "      <td>7.0</td>\n",
       "    </tr>\n",
       "  </tbody>\n",
       "</table>\n",
       "</div>"
      ],
      "text/plain": [
       "                           count    mean        std   min    25%   50%   75%  \\\n",
       "Age                       1000.0  37.174  12.005493  14.0  27.75  36.0  45.0   \n",
       "Gender                    1000.0   1.402   0.490547   1.0   1.00   1.0   2.0   \n",
       "Air Pollution             1000.0   3.840   2.030400   1.0   2.00   3.0   6.0   \n",
       "Alcohol use               1000.0   4.563   2.620477   1.0   2.00   5.0   7.0   \n",
       "Dust Allergy              1000.0   5.165   1.980833   1.0   4.00   6.0   7.0   \n",
       "OccuPational Hazards      1000.0   4.840   2.107805   1.0   3.00   5.0   7.0   \n",
       "Genetic Risk              1000.0   4.580   2.126999   1.0   2.00   5.0   7.0   \n",
       "chronic Lung Disease      1000.0   4.380   1.848518   1.0   3.00   4.0   6.0   \n",
       "Balanced Diet             1000.0   4.491   2.135528   1.0   2.00   4.0   7.0   \n",
       "Obesity                   1000.0   4.465   2.124921   1.0   3.00   4.0   7.0   \n",
       "Smoking                   1000.0   3.948   2.495902   1.0   2.00   3.0   7.0   \n",
       "Passive Smoker            1000.0   4.195   2.311778   1.0   2.00   4.0   7.0   \n",
       "Chest Pain                1000.0   4.438   2.280209   1.0   2.00   4.0   7.0   \n",
       "Coughing of Blood         1000.0   4.859   2.427965   1.0   3.00   4.0   7.0   \n",
       "Fatigue                   1000.0   3.856   2.244616   1.0   2.00   3.0   5.0   \n",
       "Weight Loss               1000.0   3.855   2.206546   1.0   2.00   3.0   6.0   \n",
       "Shortness of Breath       1000.0   4.240   2.285087   1.0   2.00   4.0   6.0   \n",
       "Wheezing                  1000.0   3.777   2.041921   1.0   2.00   4.0   5.0   \n",
       "Swallowing Difficulty     1000.0   3.746   2.270383   1.0   2.00   4.0   5.0   \n",
       "Clubbing of Finger Nails  1000.0   3.923   2.388048   1.0   2.00   4.0   5.0   \n",
       "Frequent Cold             1000.0   3.536   1.832502   1.0   2.00   3.0   5.0   \n",
       "Dry Cough                 1000.0   3.853   2.039007   1.0   2.00   4.0   6.0   \n",
       "Snoring                   1000.0   2.926   1.474686   1.0   2.00   3.0   4.0   \n",
       "\n",
       "                           max  \n",
       "Age                       73.0  \n",
       "Gender                     2.0  \n",
       "Air Pollution              8.0  \n",
       "Alcohol use                8.0  \n",
       "Dust Allergy               8.0  \n",
       "OccuPational Hazards       8.0  \n",
       "Genetic Risk               7.0  \n",
       "chronic Lung Disease       7.0  \n",
       "Balanced Diet              7.0  \n",
       "Obesity                    7.0  \n",
       "Smoking                    8.0  \n",
       "Passive Smoker             8.0  \n",
       "Chest Pain                 9.0  \n",
       "Coughing of Blood          9.0  \n",
       "Fatigue                    9.0  \n",
       "Weight Loss                8.0  \n",
       "Shortness of Breath        9.0  \n",
       "Wheezing                   8.0  \n",
       "Swallowing Difficulty      8.0  \n",
       "Clubbing of Finger Nails   9.0  \n",
       "Frequent Cold              7.0  \n",
       "Dry Cough                  7.0  \n",
       "Snoring                    7.0  "
      ]
     },
     "execution_count": 5,
     "metadata": {},
     "output_type": "execute_result"
    }
   ],
   "source": [
    "dataset.describe().T"
   ]
  },
  {
   "cell_type": "markdown",
   "id": "6b5434e9",
   "metadata": {},
   "source": [
    "##### Check for null value"
   ]
  },
  {
   "cell_type": "code",
   "execution_count": 6,
   "id": "cc1ac769",
   "metadata": {},
   "outputs": [
    {
     "name": "stdout",
     "output_type": "stream",
     "text": [
      "<class 'pandas.core.frame.DataFrame'>\n",
      "RangeIndex: 1000 entries, 0 to 999\n",
      "Data columns (total 25 columns):\n",
      " #   Column                    Non-Null Count  Dtype \n",
      "---  ------                    --------------  ----- \n",
      " 0   Patient Id                1000 non-null   object\n",
      " 1   Age                       1000 non-null   int64 \n",
      " 2   Gender                    1000 non-null   int64 \n",
      " 3   Air Pollution             1000 non-null   int64 \n",
      " 4   Alcohol use               1000 non-null   int64 \n",
      " 5   Dust Allergy              1000 non-null   int64 \n",
      " 6   OccuPational Hazards      1000 non-null   int64 \n",
      " 7   Genetic Risk              1000 non-null   int64 \n",
      " 8   chronic Lung Disease      1000 non-null   int64 \n",
      " 9   Balanced Diet             1000 non-null   int64 \n",
      " 10  Obesity                   1000 non-null   int64 \n",
      " 11  Smoking                   1000 non-null   int64 \n",
      " 12  Passive Smoker            1000 non-null   int64 \n",
      " 13  Chest Pain                1000 non-null   int64 \n",
      " 14  Coughing of Blood         1000 non-null   int64 \n",
      " 15  Fatigue                   1000 non-null   int64 \n",
      " 16  Weight Loss               1000 non-null   int64 \n",
      " 17  Shortness of Breath       1000 non-null   int64 \n",
      " 18  Wheezing                  1000 non-null   int64 \n",
      " 19  Swallowing Difficulty     1000 non-null   int64 \n",
      " 20  Clubbing of Finger Nails  1000 non-null   int64 \n",
      " 21  Frequent Cold             1000 non-null   int64 \n",
      " 22  Dry Cough                 1000 non-null   int64 \n",
      " 23  Snoring                   1000 non-null   int64 \n",
      " 24  Level                     1000 non-null   object\n",
      "dtypes: int64(23), object(2)\n",
      "memory usage: 195.4+ KB\n"
     ]
    }
   ],
   "source": [
    "dataset.info()"
   ]
  },
  {
   "cell_type": "markdown",
   "id": "b92f8c3f",
   "metadata": {},
   "source": [
    "No null value found"
   ]
  },
  {
   "cell_type": "markdown",
   "id": "a4fd615b",
   "metadata": {},
   "source": [
    "##### Remove irrelevant column"
   ]
  },
  {
   "cell_type": "code",
   "execution_count": 7,
   "id": "39fcc573",
   "metadata": {},
   "outputs": [],
   "source": [
    "dataset.drop(['Patient Id'], axis=1, inplace=True)"
   ]
  },
  {
   "cell_type": "code",
   "execution_count": 8,
   "id": "b1f898bc",
   "metadata": {},
   "outputs": [
    {
     "data": {
      "text/html": [
       "<div>\n",
       "<style scoped>\n",
       "    .dataframe tbody tr th:only-of-type {\n",
       "        vertical-align: middle;\n",
       "    }\n",
       "\n",
       "    .dataframe tbody tr th {\n",
       "        vertical-align: top;\n",
       "    }\n",
       "\n",
       "    .dataframe thead th {\n",
       "        text-align: right;\n",
       "    }\n",
       "</style>\n",
       "<table border=\"1\" class=\"dataframe\">\n",
       "  <thead>\n",
       "    <tr style=\"text-align: right;\">\n",
       "      <th></th>\n",
       "      <th>Age</th>\n",
       "      <th>Gender</th>\n",
       "      <th>Air Pollution</th>\n",
       "      <th>Alcohol use</th>\n",
       "      <th>Dust Allergy</th>\n",
       "      <th>OccuPational Hazards</th>\n",
       "      <th>Genetic Risk</th>\n",
       "      <th>chronic Lung Disease</th>\n",
       "      <th>Balanced Diet</th>\n",
       "      <th>Obesity</th>\n",
       "      <th>...</th>\n",
       "      <th>Fatigue</th>\n",
       "      <th>Weight Loss</th>\n",
       "      <th>Shortness of Breath</th>\n",
       "      <th>Wheezing</th>\n",
       "      <th>Swallowing Difficulty</th>\n",
       "      <th>Clubbing of Finger Nails</th>\n",
       "      <th>Frequent Cold</th>\n",
       "      <th>Dry Cough</th>\n",
       "      <th>Snoring</th>\n",
       "      <th>Level</th>\n",
       "    </tr>\n",
       "  </thead>\n",
       "  <tbody>\n",
       "    <tr>\n",
       "      <th>0</th>\n",
       "      <td>33</td>\n",
       "      <td>1</td>\n",
       "      <td>2</td>\n",
       "      <td>4</td>\n",
       "      <td>5</td>\n",
       "      <td>4</td>\n",
       "      <td>3</td>\n",
       "      <td>2</td>\n",
       "      <td>2</td>\n",
       "      <td>4</td>\n",
       "      <td>...</td>\n",
       "      <td>3</td>\n",
       "      <td>4</td>\n",
       "      <td>2</td>\n",
       "      <td>2</td>\n",
       "      <td>3</td>\n",
       "      <td>1</td>\n",
       "      <td>2</td>\n",
       "      <td>3</td>\n",
       "      <td>4</td>\n",
       "      <td>Low</td>\n",
       "    </tr>\n",
       "    <tr>\n",
       "      <th>1</th>\n",
       "      <td>17</td>\n",
       "      <td>1</td>\n",
       "      <td>3</td>\n",
       "      <td>1</td>\n",
       "      <td>5</td>\n",
       "      <td>3</td>\n",
       "      <td>4</td>\n",
       "      <td>2</td>\n",
       "      <td>2</td>\n",
       "      <td>2</td>\n",
       "      <td>...</td>\n",
       "      <td>1</td>\n",
       "      <td>3</td>\n",
       "      <td>7</td>\n",
       "      <td>8</td>\n",
       "      <td>6</td>\n",
       "      <td>2</td>\n",
       "      <td>1</td>\n",
       "      <td>7</td>\n",
       "      <td>2</td>\n",
       "      <td>Medium</td>\n",
       "    </tr>\n",
       "    <tr>\n",
       "      <th>2</th>\n",
       "      <td>35</td>\n",
       "      <td>1</td>\n",
       "      <td>4</td>\n",
       "      <td>5</td>\n",
       "      <td>6</td>\n",
       "      <td>5</td>\n",
       "      <td>5</td>\n",
       "      <td>4</td>\n",
       "      <td>6</td>\n",
       "      <td>7</td>\n",
       "      <td>...</td>\n",
       "      <td>8</td>\n",
       "      <td>7</td>\n",
       "      <td>9</td>\n",
       "      <td>2</td>\n",
       "      <td>1</td>\n",
       "      <td>4</td>\n",
       "      <td>6</td>\n",
       "      <td>7</td>\n",
       "      <td>2</td>\n",
       "      <td>High</td>\n",
       "    </tr>\n",
       "    <tr>\n",
       "      <th>3</th>\n",
       "      <td>37</td>\n",
       "      <td>1</td>\n",
       "      <td>7</td>\n",
       "      <td>7</td>\n",
       "      <td>7</td>\n",
       "      <td>7</td>\n",
       "      <td>6</td>\n",
       "      <td>7</td>\n",
       "      <td>7</td>\n",
       "      <td>7</td>\n",
       "      <td>...</td>\n",
       "      <td>4</td>\n",
       "      <td>2</td>\n",
       "      <td>3</td>\n",
       "      <td>1</td>\n",
       "      <td>4</td>\n",
       "      <td>5</td>\n",
       "      <td>6</td>\n",
       "      <td>7</td>\n",
       "      <td>5</td>\n",
       "      <td>High</td>\n",
       "    </tr>\n",
       "    <tr>\n",
       "      <th>4</th>\n",
       "      <td>46</td>\n",
       "      <td>1</td>\n",
       "      <td>6</td>\n",
       "      <td>8</td>\n",
       "      <td>7</td>\n",
       "      <td>7</td>\n",
       "      <td>7</td>\n",
       "      <td>6</td>\n",
       "      <td>7</td>\n",
       "      <td>7</td>\n",
       "      <td>...</td>\n",
       "      <td>3</td>\n",
       "      <td>2</td>\n",
       "      <td>4</td>\n",
       "      <td>1</td>\n",
       "      <td>4</td>\n",
       "      <td>2</td>\n",
       "      <td>4</td>\n",
       "      <td>2</td>\n",
       "      <td>3</td>\n",
       "      <td>High</td>\n",
       "    </tr>\n",
       "  </tbody>\n",
       "</table>\n",
       "<p>5 rows × 24 columns</p>\n",
       "</div>"
      ],
      "text/plain": [
       "   Age  Gender  Air Pollution  Alcohol use  Dust Allergy  \\\n",
       "0   33       1              2            4             5   \n",
       "1   17       1              3            1             5   \n",
       "2   35       1              4            5             6   \n",
       "3   37       1              7            7             7   \n",
       "4   46       1              6            8             7   \n",
       "\n",
       "   OccuPational Hazards  Genetic Risk  chronic Lung Disease  Balanced Diet  \\\n",
       "0                     4             3                     2              2   \n",
       "1                     3             4                     2              2   \n",
       "2                     5             5                     4              6   \n",
       "3                     7             6                     7              7   \n",
       "4                     7             7                     6              7   \n",
       "\n",
       "   Obesity  ...  Fatigue  Weight Loss  Shortness of Breath  Wheezing  \\\n",
       "0        4  ...        3            4                    2         2   \n",
       "1        2  ...        1            3                    7         8   \n",
       "2        7  ...        8            7                    9         2   \n",
       "3        7  ...        4            2                    3         1   \n",
       "4        7  ...        3            2                    4         1   \n",
       "\n",
       "   Swallowing Difficulty  Clubbing of Finger Nails  Frequent Cold  Dry Cough  \\\n",
       "0                      3                         1              2          3   \n",
       "1                      6                         2              1          7   \n",
       "2                      1                         4              6          7   \n",
       "3                      4                         5              6          7   \n",
       "4                      4                         2              4          2   \n",
       "\n",
       "   Snoring   Level  \n",
       "0        4     Low  \n",
       "1        2  Medium  \n",
       "2        2    High  \n",
       "3        5    High  \n",
       "4        3    High  \n",
       "\n",
       "[5 rows x 24 columns]"
      ]
     },
     "execution_count": 8,
     "metadata": {},
     "output_type": "execute_result"
    }
   ],
   "source": [
    "dataset.head()"
   ]
  },
  {
   "cell_type": "markdown",
   "id": "eef2f530",
   "metadata": {},
   "source": [
    "##### Converting categorical data into numerical (Level column)"
   ]
  },
  {
   "cell_type": "code",
   "execution_count": 9,
   "id": "a31c078b",
   "metadata": {},
   "outputs": [],
   "source": [
    "def converter(column):\n",
    "    if column == 'Low':\n",
    "        return 0\n",
    "    elif column == 'Medium':\n",
    "        return 1\n",
    "    else:\n",
    "        return 2\n",
    "    \n",
    "dataset['Level']=dataset['Level'].apply(converter)"
   ]
  },
  {
   "cell_type": "code",
   "execution_count": 10,
   "id": "a5ad69cb",
   "metadata": {},
   "outputs": [
    {
     "name": "stdout",
     "output_type": "stream",
     "text": [
      "<class 'pandas.core.frame.DataFrame'>\n",
      "RangeIndex: 1000 entries, 0 to 999\n",
      "Data columns (total 24 columns):\n",
      " #   Column                    Non-Null Count  Dtype\n",
      "---  ------                    --------------  -----\n",
      " 0   Age                       1000 non-null   int64\n",
      " 1   Gender                    1000 non-null   int64\n",
      " 2   Air Pollution             1000 non-null   int64\n",
      " 3   Alcohol use               1000 non-null   int64\n",
      " 4   Dust Allergy              1000 non-null   int64\n",
      " 5   OccuPational Hazards      1000 non-null   int64\n",
      " 6   Genetic Risk              1000 non-null   int64\n",
      " 7   chronic Lung Disease      1000 non-null   int64\n",
      " 8   Balanced Diet             1000 non-null   int64\n",
      " 9   Obesity                   1000 non-null   int64\n",
      " 10  Smoking                   1000 non-null   int64\n",
      " 11  Passive Smoker            1000 non-null   int64\n",
      " 12  Chest Pain                1000 non-null   int64\n",
      " 13  Coughing of Blood         1000 non-null   int64\n",
      " 14  Fatigue                   1000 non-null   int64\n",
      " 15  Weight Loss               1000 non-null   int64\n",
      " 16  Shortness of Breath       1000 non-null   int64\n",
      " 17  Wheezing                  1000 non-null   int64\n",
      " 18  Swallowing Difficulty     1000 non-null   int64\n",
      " 19  Clubbing of Finger Nails  1000 non-null   int64\n",
      " 20  Frequent Cold             1000 non-null   int64\n",
      " 21  Dry Cough                 1000 non-null   int64\n",
      " 22  Snoring                   1000 non-null   int64\n",
      " 23  Level                     1000 non-null   int64\n",
      "dtypes: int64(24)\n",
      "memory usage: 187.6 KB\n"
     ]
    }
   ],
   "source": [
    "dataset.info()"
   ]
  },
  {
   "cell_type": "markdown",
   "id": "65830e0d",
   "metadata": {},
   "source": [
    "##### Checking for missing value"
   ]
  },
  {
   "cell_type": "code",
   "execution_count": 11,
   "id": "e26804ee",
   "metadata": {},
   "outputs": [
    {
     "data": {
      "text/plain": [
       "Age                         0\n",
       "Gender                      0\n",
       "Air Pollution               0\n",
       "Alcohol use                 0\n",
       "Dust Allergy                0\n",
       "OccuPational Hazards        0\n",
       "Genetic Risk                0\n",
       "chronic Lung Disease        0\n",
       "Balanced Diet               0\n",
       "Obesity                     0\n",
       "Smoking                     0\n",
       "Passive Smoker              0\n",
       "Chest Pain                  0\n",
       "Coughing of Blood           0\n",
       "Fatigue                     0\n",
       "Weight Loss                 0\n",
       "Shortness of Breath         0\n",
       "Wheezing                    0\n",
       "Swallowing Difficulty       0\n",
       "Clubbing of Finger Nails    0\n",
       "Frequent Cold               0\n",
       "Dry Cough                   0\n",
       "Snoring                     0\n",
       "Level                       0\n",
       "dtype: int64"
      ]
     },
     "execution_count": 11,
     "metadata": {},
     "output_type": "execute_result"
    }
   ],
   "source": [
    "dataset.isnull().sum()"
   ]
  },
  {
   "cell_type": "markdown",
   "id": "5ad10995",
   "metadata": {},
   "source": [
    "No missing value found"
   ]
  },
  {
   "cell_type": "markdown",
   "id": "535c3ef0",
   "metadata": {},
   "source": [
    "##### Plot boxplot to view the outliers"
   ]
  },
  {
   "cell_type": "code",
   "execution_count": 13,
   "id": "fce7dc03",
   "metadata": {},
   "outputs": [
    {
     "data": {
      "image/png": "[encoded data removed]",
      "text/plain": [
       "<Figure size 720x576 with 25 Axes>"
      ]
     },
     "metadata": {
      "needs_background": "light"
     },
     "output_type": "display_data"
    }
   ],
   "source": [
    "columns=list(dataset.columns)\n",
    "dataset[columns].plot(kind=\"box\", subplots=\"True\", layout=(5, 5) ,figsize=(10,8))\n",
    "plt.show()"
   ]
  },
  {
   "cell_type": "markdown",
   "id": "6a950e8b",
   "metadata": {},
   "source": [
    "##### Capturing the outlier using IQR for age"
   ]
  },
  {
   "cell_type": "code",
   "execution_count": 14,
   "id": "4b00e797",
   "metadata": {},
   "outputs": [
    {
     "name": "stdout",
     "output_type": "stream",
     "text": [
      "----------Outliers in variable 'Age' for the given dataset----------\n",
      "[73, 73, 73, 73, 73, 73, 73, 73, 73, 73]\n"
     ]
    }
   ],
   "source": [
    "X=dataset.Age\n",
    "Q1=np.quantile(X, .25)\n",
    "Q3=np.quantile(X, .75)\n",
    "IQR=Q3-Q1\n",
    "Lb=Q1-(1.5*IQR)\n",
    "Ub=Q3+(1.5*IQR)\n",
    "Outliers=[]\n",
    "for i in X:\n",
    "    if (i<Lb or i> Ub):\n",
    "        Outliers.append(i)\n",
    "    \n",
    "print(\"----------Outliers in variable 'Age' for the given dataset----------\")\n",
    "print(Outliers)"
   ]
  },
  {
   "cell_type": "markdown",
   "id": "244ff132",
   "metadata": {},
   "source": [
    "##### Remove outliers for age"
   ]
  },
  {
   "cell_type": "code",
   "execution_count": 15,
   "id": "47638bdc",
   "metadata": {},
   "outputs": [],
   "source": [
    "for ele in Outliers:\n",
    "    dataset.drop(dataset[(dataset['Age']==ele)].index, inplace=True)"
   ]
  },
  {
   "cell_type": "markdown",
   "id": "1c17070c",
   "metadata": {},
   "source": [
    "##### Plot histogram to check the data distribution"
   ]
  },
  {
   "cell_type": "code",
   "execution_count": 16,
   "id": "55956bd8",
   "metadata": {},
   "outputs": [
    {
     "data": {
      "image/png": "[encoded data removed]",
      "text/plain": [
       "<Figure size 1008x792 with 25 Axes>"
      ]
     },
     "metadata": {
      "needs_background": "light"
     },
     "output_type": "display_data"
    }
   ],
   "source": [
    "dataset.hist(figsize=(14,11))\n",
    "plt.show()"
   ]
  },
  {
   "cell_type": "markdown",
   "id": "a6371313",
   "metadata": {},
   "source": [
    "##### Plot correlation graph (Heat map)"
   ]
  },
  {
   "cell_type": "code",
   "execution_count": 38,
   "id": "d15ea6b8",
   "metadata": {},
   "outputs": [
    {
     "data": {
      "application/vnd.plotly.v1+json": {
       "config": {
        "plotlyServerURL": "https://plot.ly"
       },
       "data": [
        {
         "colorscale": [
          [
           0,
           "#0d0887"
          ],
          [
           0.1111111111111111,
           "#46039f"
          ],
          [
           0.2222222222222222,
           "#7201a8"
          ],
          [
           0.3333333333333333,
           "#9c179e"
          ],
          [
           0.4444444444444444,
           "#bd3786"
          ],
          [
           0.5555555555555556,
           "#d8576b"
          ],
          [
           0.6666666666666666,
           "#ed7953"
          ],
          [
           0.7777777777777778,
           "#fb9f3a"
          ],
          [
           0.8888888888888888,
           "#fdca26"
          ],
          [
           1,
           "#f0f921"
          ]
         ],
         "reversescale": false,
         "showscale": true,
         "type": "heatmap",
         "x": [
          "Age",
          "Gender",
          "Air Pollution",
          "Alcohol use",
          "Dust Allergy",
          "OccuPational Hazards",
          "Genetic Risk",
          "chronic Lung Disease",
          "Balanced Diet",
          "Obesity",
          "Smoking",
          "Passive Smoker",
          "Chest Pain",
          "Coughing of Blood",
          "Fatigue",
          "Weight Loss",
          "Shortness of Breath",
          "Wheezing",
          "Swallowing Difficulty",
          "Clubbing of Finger Nails",
          "Frequent Cold",
          "Dry Cough",
          "Snoring",
          "Level"
         ],
         "y": [
          "Age",
          "Gender",
          "Air Pollution",
          "Alcohol use",
          "Dust Allergy",
          "OccuPational Hazards",
          "Genetic Risk",
          "chronic Lung Disease",
          "Balanced Diet",
          "Obesity",
          "Smoking",
          "Passive Smoker",
          "Chest Pain",
          "Coughing of Blood",
          "Fatigue",
          "Weight Loss",
          "Shortness of Breath",
          "Wheezing",
          "Swallowing Difficulty",
          "Clubbing of Finger Nails",
          "Frequent Cold",
          "Dry Cough",
          "Snoring",
          "Level"
         ],
         "z": [
          [
           1,
           -0.186561983457556,
           0.08637216416730246,
           0.14194266122627136,
           0.023589888974991407,
           0.06278184317619367,
           0.055693146522795375,
           0.12464293367254632,
           -0.01729593902874378,
           0.028041160707227685,
           0.02799634822818949,
           -0.005873189359212287,
           0.0056907752575371265,
           0.05373105462412332,
           0.09762368710333658,
           0.12446284650979843,
           0.01271195175872485,
           -0.07271263536408382,
           -0.07323212561735352,
           0.06684509377204485,
           0.03075242477289769,
           -0.02070875055406418,
           0.014964770354691083,
           0.0653556719182102
          ],
          [
           -0.186561983457556,
           1,
           -0.2434063539131674,
           -0.22419450669215718,
           -0.20168585948201395,
           -0.19237427302305857,
           -0.2184296021384453,
           -0.20308729639316686,
           -0.09444514081667872,
           -0.1221809434249856,
           -0.1967721252759421,
           -0.18267370728776544,
           -0.21718870755062653,
           -0.1465249558095365,
           -0.11633306251903139,
           -0.061459474219476735,
           -0.039844397153940954,
           -0.08412253357959865,
           -0.06909169614407107,
           -0.041166287223752755,
           -0.012151741161215833,
           -0.11531414613655468,
           -0.1878338349169431,
           -0.1661852499576068
          ],
          [
           0.08637216416730246,
           -0.2434063539131674,
           1,
           0.74649154469567,
           0.636691199392051,
           0.6095103005417475,
           0.7041683166763827,
           0.6261531176548988,
           0.5229743540311765,
           0.6011983587392661,
           0.4797406148280938,
           0.6061242599756069,
           0.5854561667664425,
           0.6085084449161271,
           0.2117073472493807,
           0.2608831029841872,
           0.2663470473529377,
           0.060727692804222126,
           -0.07460700161151874,
           0.24693379859406014,
           0.1846317468469523,
           0.25727469839333084,
           -0.017780002609840452,
           0.6375492703515045
          ],
          [
           0.14194266122627136,
           -0.22419450669215718,
           0.74649154469567,
           1,
           0.8182855061305957,
           0.8797290708859287,
           0.8768171626053196,
           0.7633109755756556,
           0.6520716055155484,
           0.6691477734403947,
           0.5461796469645046,
           0.5919085922075257,
           0.7171867929542325,
           0.668318017549694,
           0.23725531920734003,
           0.2104793662382466,
           0.43347421604204966,
           0.18664114130861878,
           -0.10833474422494285,
           0.4214801860640546,
           0.19059264802389353,
           0.20691497829031208,
           0.12662055193690916,
           0.7202487680753559
          ],
          [
           0.023589888974991407,
           -0.20168585948201395,
           0.636691199392051,
           0.8182855061305957,
           1,
           0.8363122131719148,
           0.7875411315278793,
           0.6190345604495527,
           0.6463983005045391,
           0.7004565470541642,
           0.356874749697594,
           0.5593637162768624,
           0.6397038639122876,
           0.6256168811510749,
           0.3325038704687996,
           0.32394464580375837,
           0.5174165994575278,
           0.3100261679081312,
           0.036600741012939184,
           0.3506118023976772,
           0.2277058868472657,
           0.2976462149488395,
           0.05568192709313031,
           0.7148262182352203
          ],
          [
           0.06278184317619367,
           -0.19237427302305857,
           0.6095103005417475,
           0.8797290708859287,
           0.8363122131719148,
           1,
           0.8945801215266999,
           0.8585398361950874,
           0.6927374835865613,
           0.722250035454993,
           0.5032113541859228,
           0.5554001441172611,
           0.7756904077679432,
           0.6459317597928517,
           0.2678081265171476,
           0.17666227067662207,
           0.3670034377586634,
           0.18029027181421944,
           -0.0019392625343109425,
           0.36828481985643124,
           0.07899908915252486,
           0.15998277766485852,
           0.023445497606880052,
           0.6733525369234017
          ],
          [
           0.055693146522795375,
           -0.2184296021384453,
           0.7041683166763827,
           0.8768171626053196,
           0.7875411315278793,
           0.8945801215266999,
           1,
           0.8363280638833173,
           0.6783759997260358,
           0.730006745825556,
           0.5407579927022056,
           0.608465588200489,
           0.8322194695020773,
           0.6332837344546991,
           0.23062241390388685,
           0.2751875513758476,
           0.4553933585032842,
           0.21213776175056165,
           -0.05531849139452059,
           0.3652715477005465,
           0.09760094202414664,
           0.18877612554753484,
           -0.05281628263509816,
           0.7034233115282966
          ],
          [
           0.12464293367254632,
           -0.20308729639316686,
           0.6261531176548988,
           0.7633109755756556,
           0.6190345604495527,
           0.8585398361950874,
           0.8363280638833173,
           1,
           0.6221612432623178,
           0.6014353659041021,
           0.581202402336852,
           0.5721935055996394,
           0.7824955935761618,
           0.6031431725964793,
           0.24762551707879185,
           0.10553396715417987,
           0.18045810448682112,
           0.06043144626177082,
           0.01147280227350817,
           0.3019160355939694,
           0.03379979902045315,
           0.1112789363430853,
           0.04562097381266724,
           0.6105944067542944
          ],
          [
           -0.01729593902874378,
           -0.09444514081667872,
           0.5229743540311765,
           0.6520716055155484,
           0.6463983005045391,
           0.6927374835865613,
           0.6783759997260358,
           0.6221612432623178,
           1,
           0.7071369444411938,
           0.644036177302942,
           0.7249104430019163,
           0.7987092621500383,
           0.7465383990838874,
           0.4012417584261788,
           -0.00378790758818146,
           0.339998552015849,
           0.07059628908626278,
           0.05600438879731236,
           0.04799887912079749,
           0.27720958632751336,
           0.32713250453184545,
           0.15787641910782893,
           0.7086279998452262
          ],
          [
           0.028041160707227685,
           -0.1221809434249856,
           0.6011983587392661,
           0.6691477734403947,
           0.7004565470541642,
           0.722250035454993,
           0.730006745825556,
           0.6014353659041021,
           0.7071369444411938,
           1,
           0.4893814091201061,
           0.6816387212313797,
           0.6729451057452321,
           0.8149320223883214,
           0.5528135391489992,
           0.3148212426572718,
           0.40559033162704206,
           0.0969051856728668,
           0.13130835183970546,
           0.15168990122081705,
           0.29485356115437544,
           0.1991203786442696,
           0.0411160751558455,
           0.827918236301672
          ],
          [
           0.02799634822818949,
           -0.1967721252759421,
           0.4797406148280938,
           0.5461796469645046,
           0.356874749697594,
           0.5032113541859228,
           0.5407579927022056,
           0.581202402336852,
           0.644036177302942,
           0.4893814091201061,
           1,
           0.7666536358557519,
           0.6528356648832018,
           0.5618830376307815,
           0.20168590922409482,
           -0.20954442510993984,
           -0.036499533040369195,
           -0.03334778590292004,
           0.26141622434243306,
           -0.028401546923678616,
           0.06376962745704004,
           -0.007321884882191983,
           0.20247682125108069,
           0.5278747591015308
          ],
          [
           -0.005873189359212287,
           -0.18267370728776544,
           0.6061242599756069,
           0.5919085922075257,
           0.5593637162768624,
           0.5554001441172611,
           0.608465588200489,
           0.5721935055996394,
           0.7249104430019163,
           0.6816387212313797,
           0.7666536358557519,
           1,
           0.6958497809201585,
           0.6364194807771093,
           0.37793242280268274,
           0.05978191602170254,
           0.060455213882878535,
           0.20425557971480734,
           0.35604038302044416,
           -0.03282861358309528,
           0.11056872316791891,
           0.11778741796236598,
           0.2508081259919645,
           0.7043146019795102
          ],
          [
           0.0056907752575371265,
           -0.21718870755062653,
           0.5854561667664425,
           0.7171867929542325,
           0.6397038639122876,
           0.7756904077679432,
           0.8322194695020773,
           0.7824955935761618,
           0.7987092621500383,
           0.6729451057452321,
           0.6528356648832018,
           0.6958497809201585,
           1,
           0.7122446489214845,
           0.2510573352895425,
           -0.00012674052908240232,
           0.2359059423154755,
           0.10983427041526726,
           0.07538097376215284,
           0.08369358699219047,
           0.046855851553852704,
           0.1403880914179316,
           0.14192720235510514,
           0.6458679350154104
          ],
          [
           0.05373105462412332,
           -0.1465249558095365,
           0.6085084449161271,
           0.668318017549694,
           0.6256168811510749,
           0.6459317597928517,
           0.6332837344546991,
           0.6031431725964793,
           0.7465383990838874,
           0.8149320223883214,
           0.5618830376307815,
           0.6364194807771093,
           0.7122446489214845,
           1,
           0.4815204955100046,
           0.10616735703424002,
           0.3192889181953381,
           -0.0855168807235734,
           0.08765156134038246,
           -0.06618850001856685,
           0.24745951549539388,
           0.14787400420204094,
           0.08849040690829811,
           0.7821725246063951
          ],
          [
           0.09762368710333658,
           -0.11633306251903139,
           0.2117073472493807,
           0.23725531920734003,
           0.3325038704687996,
           0.2678081265171476,
           0.23062241390388685,
           0.24762551707879185,
           0.4012417584261788,
           0.5528135391489992,
           0.20168590922409482,
           0.37793242280268274,
           0.2510573352895425,
           0.4815204955100046,
           1,
           0.47013490091693033,
           0.3993331052291698,
           0.17571973481834915,
           0.15147360050036943,
           0.04135299796952271,
           0.41283801363476136,
           0.2720184797950047,
           0.23262465190434092,
           0.6251942359303269
          ],
          [
           0.12446284650979843,
           -0.061459474219476735,
           0.2608831029841872,
           0.2104793662382466,
           0.32394464580375837,
           0.17666227067662207,
           0.2751875513758476,
           0.10553396715417987,
           -0.00378790758818146,
           0.3148212426572718,
           -0.20954442510993984,
           0.05978191602170254,
           -0.00012674052908240232,
           0.10616735703424002,
           0.47013490091693033,
           1,
           0.5796941615142633,
           0.3292816599903137,
           0.049046285191369936,
           0.3748431837252702,
           0.15656747012450628,
           0.19396026389454837,
           -0.19209554016709726,
           0.35271777051198966
          ],
          [
           0.01271195175872485,
           -0.039844397153940954,
           0.2663470473529377,
           0.43347421604204966,
           0.5174165994575278,
           0.3670034377586634,
           0.4553933585032842,
           0.18045810448682112,
           0.339998552015849,
           0.40559033162704206,
           -0.036499533040369195,
           0.060455213882878535,
           0.2359059423154755,
           0.3192889181953381,
           0.3993331052291698,
           0.5796941615142633,
           1,
           0.21581536655530273,
           -0.19306681300227568,
           0.4835814098904939,
           0.3669273676343532,
           0.48934251368043613,
           -0.15517574225445474,
           0.49913015434137653
          ],
          [
           -0.07271263536408382,
           -0.08412253357959865,
           0.060727692804222126,
           0.18664114130861878,
           0.3100261679081312,
           0.18029027181421944,
           0.21213776175056165,
           0.06043144626177082,
           0.07059628908626278,
           0.0969051856728668,
           -0.03334778590292004,
           0.20425557971480734,
           0.10983427041526726,
           -0.0855168807235734,
           0.17571973481834915,
           0.3292816599903137,
           0.21581536655530273,
           1,
           0.38719270119349336,
           0.3335558812659708,
           0.08786634669935699,
           0.0642600445720972,
           0.11130540437633776,
           0.24306422640322217
          ],
          [
           -0.07323212561735352,
           -0.06909169614407107,
           -0.07460700161151874,
           -0.10833474422494285,
           0.036600741012939184,
           -0.0019392625343109425,
           -0.05531849139452059,
           0.01147280227350817,
           0.05600438879731236,
           0.13130835183970546,
           0.26141622434243306,
           0.35604038302044416,
           0.07538097376215284,
           0.08765156134038246,
           0.15147360050036943,
           0.049046285191369936,
           -0.19306681300227568,
           0.38719270119349336,
           1,
           -0.13098753126301887,
           0.1174451762677447,
           -0.04311164091924401,
           0.20478648234528374,
           0.25007546398849456
          ],
          [
           0.06684509377204485,
           -0.041166287223752755,
           0.24693379859406014,
           0.4214801860640546,
           0.3506118023976772,
           0.36828481985643124,
           0.3652715477005465,
           0.3019160355939694,
           0.04799887912079749,
           0.15168990122081705,
           -0.028401546923678616,
           -0.03282861358309528,
           0.08369358699219047,
           -0.06618850001856685,
           0.04135299796952271,
           0.3748431837252702,
           0.4835814098904939,
           0.3335558812659708,
           -0.13098753126301887,
           1,
           0.23430312342591164,
           0.3186759482392374,
           -0.022770024867855065,
           0.2803725421670769
          ],
          [
           0.03075242477289769,
           -0.012151741161215833,
           0.1846317468469523,
           0.19059264802389353,
           0.2277058868472657,
           0.07899908915252486,
           0.09760094202414664,
           0.03379979902045315,
           0.27720958632751336,
           0.29485356115437544,
           0.06376962745704004,
           0.11056872316791891,
           0.046855851553852704,
           0.24745951549539388,
           0.41283801363476136,
           0.15656747012450628,
           0.3669273676343532,
           0.08786634669935699,
           0.1174451762677447,
           0.23430312342591164,
           1,
           0.5388950644500546,
           0.3309307757893453,
           0.4473179640236757
          ],
          [
           -0.02070875055406418,
           -0.11531414613655468,
           0.25727469839333084,
           0.20691497829031208,
           0.2976462149488395,
           0.15998277766485852,
           0.18877612554753484,
           0.1112789363430853,
           0.32713250453184545,
           0.1991203786442696,
           -0.007321884882191983,
           0.11778741796236598,
           0.1403880914179316,
           0.14787400420204094,
           0.2720184797950047,
           0.19396026389454837,
           0.48934251368043613,
           0.0642600445720972,
           -0.04311164091924401,
           0.3186759482392374,
           0.5388950644500546,
           1,
           0.1842322071545627,
           0.3769075016402474
          ],
          [
           0.014964770354691083,
           -0.1878338349169431,
           -0.017780002609840452,
           0.12662055193690916,
           0.05568192709313031,
           0.023445497606880052,
           -0.05281628263509816,
           0.04562097381266724,
           0.15787641910782893,
           0.0411160751558455,
           0.20247682125108069,
           0.2508081259919645,
           0.14192720235510514,
           0.08849040690829811,
           0.23262465190434092,
           -0.19209554016709726,
           -0.15517574225445474,
           0.11130540437633776,
           0.20478648234528374,
           -0.022770024867855065,
           0.3309307757893453,
           0.1842322071545627,
           1,
           0.2894692197755588
          ],
          [
           0.0653556719182102,
           -0.1661852499576068,
           0.6375492703515045,
           0.7202487680753559,
           0.7148262182352203,
           0.6733525369234017,
           0.7034233115282966,
           0.6105944067542944,
           0.7086279998452262,
           0.827918236301672,
           0.5278747591015308,
           0.7043146019795102,
           0.6458679350154104,
           0.7821725246063951,
           0.6251942359303269,
           0.35271777051198966,
           0.49913015434137653,
           0.24306422640322217,
           0.25007546398849456,
           0.2803725421670769,
           0.4473179640236757,
           0.3769075016402474,
           0.2894692197755588,
           1
          ]
         ]
        }
       ],
       "layout": {
        "annotations": [
         {
          "font": {
           "color": "#000000"
          },
          "showarrow": false,
          "text": "1.0",
          "x": "Age",
          "xref": "x",
          "y": "Age",
          "yref": "y"
         },
         {
          "font": {
           "color": "#FFFFFF"
          },
          "showarrow": false,
          "text": "-0.19",
          "x": "Gender",
          "xref": "x",
          "y": "Age",
          "yref": "y"
         },
         {
          "font": {
           "color": "#FFFFFF"
          },
          "showarrow": false,
          "text": "0.09",
          "x": "Air Pollution",
          "xref": "x",
          "y": "Age",
          "yref": "y"
         },
         {
          "font": {
           "color": "#FFFFFF"
          },
          "showarrow": false,
          "text": "0.14",
          "x": "Alcohol use",
          "xref": "x",
          "y": "Age",
          "yref": "y"
         },
         {
          "font": {
           "color": "#FFFFFF"
          },
          "showarrow": false,
          "text": "0.02",
          "x": "Dust Allergy",
          "xref": "x",
          "y": "Age",
          "yref": "y"
         },
         {
          "font": {
           "color": "#FFFFFF"
          },
          "showarrow": false,
          "text": "0.06",
          "x": "OccuPational Hazards",
          "xref": "x",
          "y": "Age",
          "yref": "y"
         },
         {
          "font": {
           "color": "#FFFFFF"
          },
          "showarrow": false,
          "text": "0.06",
          "x": "Genetic Risk",
          "xref": "x",
          "y": "Age",
          "yref": "y"
         },
         {
          "font": {
           "color": "#FFFFFF"
          },
          "showarrow": false,
          "text": "0.12",
          "x": "chronic Lung Disease",
          "xref": "x",
          "y": "Age",
          "yref": "y"
         },
         {
          "font": {
           "color": "#FFFFFF"
          },
          "showarrow": false,
          "text": "-0.02",
          "x": "Balanced Diet",
          "xref": "x",
          "y": "Age",
          "yref": "y"
         },
         {
          "font": {
           "color": "#FFFFFF"
          },
          "showarrow": false,
          "text": "0.03",
          "x": "Obesity",
          "xref": "x",
          "y": "Age",
          "yref": "y"
         },
         {
          "font": {
           "color": "#FFFFFF"
          },
          "showarrow": false,
          "text": "0.03",
          "x": "Smoking",
          "xref": "x",
          "y": "Age",
          "yref": "y"
         },
         {
          "font": {
           "color": "#FFFFFF"
          },
          "showarrow": false,
          "text": "-0.01",
          "x": "Passive Smoker",
          "xref": "x",
          "y": "Age",
          "yref": "y"
         },
         {
          "font": {
           "color": "#FFFFFF"
          },
          "showarrow": false,
          "text": "0.01",
          "x": "Chest Pain",
          "xref": "x",
          "y": "Age",
          "yref": "y"
         },
         {
          "font": {
           "color": "#FFFFFF"
          },
          "showarrow": false,
          "text": "0.05",
          "x": "Coughing of Blood",
          "xref": "x",
          "y": "Age",
          "yref": "y"
         },
         {
          "font": {
           "color": "#FFFFFF"
          },
          "showarrow": false,
          "text": "0.1",
          "x": "Fatigue",
          "xref": "x",
          "y": "Age",
          "yref": "y"
         },
         {
          "font": {
           "color": "#FFFFFF"
          },
          "showarrow": false,
          "text": "0.12",
          "x": "Weight Loss",
          "xref": "x",
          "y": "Age",
          "yref": "y"
         },
         {
          "font": {
           "color": "#FFFFFF"
          },
          "showarrow": false,
          "text": "0.01",
          "x": "Shortness of Breath",
          "xref": "x",
          "y": "Age",
          "yref": "y"
         },
         {
          "font": {
           "color": "#FFFFFF"
          },
          "showarrow": false,
          "text": "-0.07",
          "x": "Wheezing",
          "xref": "x",
          "y": "Age",
          "yref": "y"
         },
         {
          "font": {
           "color": "#FFFFFF"
          },
          "showarrow": false,
          "text": "-0.07",
          "x": "Swallowing Difficulty",
          "xref": "x",
          "y": "Age",
          "yref": "y"
         },
         {
          "font": {
           "color": "#FFFFFF"
          },
          "showarrow": false,
          "text": "0.07",
          "x": "Clubbing of Finger Nails",
          "xref": "x",
          "y": "Age",
          "yref": "y"
         },
         {
          "font": {
           "color": "#FFFFFF"
          },
          "showarrow": false,
          "text": "0.03",
          "x": "Frequent Cold",
          "xref": "x",
          "y": "Age",
          "yref": "y"
         },
         {
          "font": {
           "color": "#FFFFFF"
          },
          "showarrow": false,
          "text": "-0.02",
          "x": "Dry Cough",
          "xref": "x",
          "y": "Age",
          "yref": "y"
         },
         {
          "font": {
           "color": "#FFFFFF"
          },
          "showarrow": false,
          "text": "0.01",
          "x": "Snoring",
          "xref": "x",
          "y": "Age",
          "yref": "y"
         },
         {
          "font": {
           "color": "#FFFFFF"
          },
          "showarrow": false,
          "text": "0.07",
          "x": "Level",
          "xref": "x",
          "y": "Age",
          "yref": "y"
         },
         {
          "font": {
           "color": "#FFFFFF"
          },
          "showarrow": false,
          "text": "-0.19",
          "x": "Age",
          "xref": "x",
          "y": "Gender",
          "yref": "y"
         },
         {
          "font": {
           "color": "#000000"
          },
          "showarrow": false,
          "text": "1.0",
          "x": "Gender",
          "xref": "x",
          "y": "Gender",
          "yref": "y"
         },
         {
          "font": {
           "color": "#FFFFFF"
          },
          "showarrow": false,
          "text": "-0.24",
          "x": "Air Pollution",
          "xref": "x",
          "y": "Gender",
          "yref": "y"
         },
         {
          "font": {
           "color": "#FFFFFF"
          },
          "showarrow": false,
          "text": "-0.22",
          "x": "Alcohol use",
          "xref": "x",
          "y": "Gender",
          "yref": "y"
         },
         {
          "font": {
           "color": "#FFFFFF"
          },
          "showarrow": false,
          "text": "-0.2",
          "x": "Dust Allergy",
          "xref": "x",
          "y": "Gender",
          "yref": "y"
         },
         {
          "font": {
           "color": "#FFFFFF"
          },
          "showarrow": false,
          "text": "-0.19",
          "x": "OccuPational Hazards",
          "xref": "x",
          "y": "Gender",
          "yref": "y"
         },
         {
          "font": {
           "color": "#FFFFFF"
          },
          "showarrow": false,
          "text": "-0.22",
          "x": "Genetic Risk",
          "xref": "x",
          "y": "Gender",
          "yref": "y"
         },
         {
          "font": {
           "color": "#FFFFFF"
          },
          "showarrow": false,
          "text": "-0.2",
          "x": "chronic Lung Disease",
          "xref": "x",
          "y": "Gender",
          "yref": "y"
         },
         {
          "font": {
           "color": "#FFFFFF"
          },
          "showarrow": false,
          "text": "-0.09",
          "x": "Balanced Diet",
          "xref": "x",
          "y": "Gender",
          "yref": "y"
         },
         {
          "font": {
           "color": "#FFFFFF"
          },
          "showarrow": false,
          "text": "-0.12",
          "x": "Obesity",
          "xref": "x",
          "y": "Gender",
          "yref": "y"
         },
         {
          "font": {
           "color": "#FFFFFF"
          },
          "showarrow": false,
          "text": "-0.2",
          "x": "Smoking",
          "xref": "x",
          "y": "Gender",
          "yref": "y"
         },
         {
          "font": {
           "color": "#FFFFFF"
          },
          "showarrow": false,
          "text": "-0.18",
          "x": "Passive Smoker",
          "xref": "x",
          "y": "Gender",
          "yref": "y"
         },
         {
          "font": {
           "color": "#FFFFFF"
          },
          "showarrow": false,
          "text": "-0.22",
          "x": "Chest Pain",
          "xref": "x",
          "y": "Gender",
          "yref": "y"
         },
         {
          "font": {
           "color": "#FFFFFF"
          },
          "showarrow": false,
          "text": "-0.15",
          "x": "Coughing of Blood",
          "xref": "x",
          "y": "Gender",
          "yref": "y"
         },
         {
          "font": {
           "color": "#FFFFFF"
          },
          "showarrow": false,
          "text": "-0.12",
          "x": "Fatigue",
          "xref": "x",
          "y": "Gender",
          "yref": "y"
         },
         {
          "font": {
           "color": "#FFFFFF"
          },
          "showarrow": false,
          "text": "-0.06",
          "x": "Weight Loss",
          "xref": "x",
          "y": "Gender",
          "yref": "y"
         },
         {
          "font": {
           "color": "#FFFFFF"
          },
          "showarrow": false,
          "text": "-0.04",
          "x": "Shortness of Breath",
          "xref": "x",
          "y": "Gender",
          "yref": "y"
         },
         {
          "font": {
           "color": "#FFFFFF"
          },
          "showarrow": false,
          "text": "-0.08",
          "x": "Wheezing",
          "xref": "x",
          "y": "Gender",
          "yref": "y"
         },
         {
          "font": {
           "color": "#FFFFFF"
          },
          "showarrow": false,
          "text": "-0.07",
          "x": "Swallowing Difficulty",
          "xref": "x",
          "y": "Gender",
          "yref": "y"
         },
         {
          "font": {
           "color": "#FFFFFF"
          },
          "showarrow": false,
          "text": "-0.04",
          "x": "Clubbing of Finger Nails",
          "xref": "x",
          "y": "Gender",
          "yref": "y"
         },
         {
          "font": {
           "color": "#FFFFFF"
          },
          "showarrow": false,
          "text": "-0.01",
          "x": "Frequent Cold",
          "xref": "x",
          "y": "Gender",
          "yref": "y"
         },
         {
          "font": {
           "color": "#FFFFFF"
          },
          "showarrow": false,
          "text": "-0.12",
          "x": "Dry Cough",
          "xref": "x",
          "y": "Gender",
          "yref": "y"
         },
         {
          "font": {
           "color": "#FFFFFF"
          },
          "showarrow": false,
          "text": "-0.19",
          "x": "Snoring",
          "xref": "x",
          "y": "Gender",
          "yref": "y"
         },
         {
          "font": {
           "color": "#FFFFFF"
          },
          "showarrow": false,
          "text": "-0.17",
          "x": "Level",
          "xref": "x",
          "y": "Gender",
          "yref": "y"
         },
         {
          "font": {
           "color": "#FFFFFF"
          },
          "showarrow": false,
          "text": "0.09",
          "x": "Age",
          "xref": "x",
          "y": "Air Pollution",
          "yref": "y"
         },
         {
          "font": {
           "color": "#FFFFFF"
          },
          "showarrow": false,
          "text": "-0.24",
          "x": "Gender",
          "xref": "x",
          "y": "Air Pollution",
          "yref": "y"
         },
         {
          "font": {
           "color": "#000000"
          },
          "showarrow": false,
          "text": "1.0",
          "x": "Air Pollution",
          "xref": "x",
          "y": "Air Pollution",
          "yref": "y"
         },
         {
          "font": {
           "color": "#000000"
          },
          "showarrow": false,
          "text": "0.75",
          "x": "Alcohol use",
          "xref": "x",
          "y": "Air Pollution",
          "yref": "y"
         },
         {
          "font": {
           "color": "#000000"
          },
          "showarrow": false,
          "text": "0.64",
          "x": "Dust Allergy",
          "xref": "x",
          "y": "Air Pollution",
          "yref": "y"
         },
         {
          "font": {
           "color": "#000000"
          },
          "showarrow": false,
          "text": "0.61",
          "x": "OccuPational Hazards",
          "xref": "x",
          "y": "Air Pollution",
          "yref": "y"
         },
         {
          "font": {
           "color": "#000000"
          },
          "showarrow": false,
          "text": "0.7",
          "x": "Genetic Risk",
          "xref": "x",
          "y": "Air Pollution",
          "yref": "y"
         },
         {
          "font": {
           "color": "#000000"
          },
          "showarrow": false,
          "text": "0.63",
          "x": "chronic Lung Disease",
          "xref": "x",
          "y": "Air Pollution",
          "yref": "y"
         },
         {
          "font": {
           "color": "#000000"
          },
          "showarrow": false,
          "text": "0.52",
          "x": "Balanced Diet",
          "xref": "x",
          "y": "Air Pollution",
          "yref": "y"
         },
         {
          "font": {
           "color": "#000000"
          },
          "showarrow": false,
          "text": "0.6",
          "x": "Obesity",
          "xref": "x",
          "y": "Air Pollution",
          "yref": "y"
         },
         {
          "font": {
           "color": "#000000"
          },
          "showarrow": false,
          "text": "0.48",
          "x": "Smoking",
          "xref": "x",
          "y": "Air Pollution",
          "yref": "y"
         },
         {
          "font": {
           "color": "#000000"
          },
          "showarrow": false,
          "text": "0.61",
          "x": "Passive Smoker",
          "xref": "x",
          "y": "Air Pollution",
          "yref": "y"
         },
         {
          "font": {
           "color": "#000000"
          },
          "showarrow": false,
          "text": "0.59",
          "x": "Chest Pain",
          "xref": "x",
          "y": "Air Pollution",
          "yref": "y"
         },
         {
          "font": {
           "color": "#000000"
          },
          "showarrow": false,
          "text": "0.61",
          "x": "Coughing of Blood",
          "xref": "x",
          "y": "Air Pollution",
          "yref": "y"
         },
         {
          "font": {
           "color": "#FFFFFF"
          },
          "showarrow": false,
          "text": "0.21",
          "x": "Fatigue",
          "xref": "x",
          "y": "Air Pollution",
          "yref": "y"
         },
         {
          "font": {
           "color": "#FFFFFF"
          },
          "showarrow": false,
          "text": "0.26",
          "x": "Weight Loss",
          "xref": "x",
          "y": "Air Pollution",
          "yref": "y"
         },
         {
          "font": {
           "color": "#FFFFFF"
          },
          "showarrow": false,
          "text": "0.27",
          "x": "Shortness of Breath",
          "xref": "x",
          "y": "Air Pollution",
          "yref": "y"
         },
         {
          "font": {
           "color": "#FFFFFF"
          },
          "showarrow": false,
          "text": "0.06",
          "x": "Wheezing",
          "xref": "x",
          "y": "Air Pollution",
          "yref": "y"
         },
         {
          "font": {
           "color": "#FFFFFF"
          },
          "showarrow": false,
          "text": "-0.07",
          "x": "Swallowing Difficulty",
          "xref": "x",
          "y": "Air Pollution",
          "yref": "y"
         },
         {
          "font": {
           "color": "#FFFFFF"
          },
          "showarrow": false,
          "text": "0.25",
          "x": "Clubbing of Finger Nails",
          "xref": "x",
          "y": "Air Pollution",
          "yref": "y"
         },
         {
          "font": {
           "color": "#FFFFFF"
          },
          "showarrow": false,
          "text": "0.18",
          "x": "Frequent Cold",
          "xref": "x",
          "y": "Air Pollution",
          "yref": "y"
         },
         {
          "font": {
           "color": "#FFFFFF"
          },
          "showarrow": false,
          "text": "0.26",
          "x": "Dry Cough",
          "xref": "x",
          "y": "Air Pollution",
          "yref": "y"
         },
         {
          "font": {
           "color": "#FFFFFF"
          },
          "showarrow": false,
          "text": "-0.02",
          "x": "Snoring",
          "xref": "x",
          "y": "Air Pollution",
          "yref": "y"
         },
         {
          "font": {
           "color": "#000000"
          },
          "showarrow": false,
          "text": "0.64",
          "x": "Level",
          "xref": "x",
          "y": "Air Pollution",
          "yref": "y"
         },
         {
          "font": {
           "color": "#FFFFFF"
          },
          "showarrow": false,
          "text": "0.14",
          "x": "Age",
          "xref": "x",
          "y": "Alcohol use",
          "yref": "y"
         },
         {
          "font": {
           "color": "#FFFFFF"
          },
          "showarrow": false,
          "text": "-0.22",
          "x": "Gender",
          "xref": "x",
          "y": "Alcohol use",
          "yref": "y"
         },
         {
          "font": {
           "color": "#000000"
          },
          "showarrow": false,
          "text": "0.75",
          "x": "Air Pollution",
          "xref": "x",
          "y": "Alcohol use",
          "yref": "y"
         },
         {
          "font": {
           "color": "#000000"
          },
          "showarrow": false,
          "text": "1.0",
          "x": "Alcohol use",
          "xref": "x",
          "y": "Alcohol use",
          "yref": "y"
         },
         {
          "font": {
           "color": "#000000"
          },
          "showarrow": false,
          "text": "0.82",
          "x": "Dust Allergy",
          "xref": "x",
          "y": "Alcohol use",
          "yref": "y"
         },
         {
          "font": {
           "color": "#000000"
          },
          "showarrow": false,
          "text": "0.88",
          "x": "OccuPational Hazards",
          "xref": "x",
          "y": "Alcohol use",
          "yref": "y"
         },
         {
          "font": {
           "color": "#000000"
          },
          "showarrow": false,
          "text": "0.88",
          "x": "Genetic Risk",
          "xref": "x",
          "y": "Alcohol use",
          "yref": "y"
         },
         {
          "font": {
           "color": "#000000"
          },
          "showarrow": false,
          "text": "0.76",
          "x": "chronic Lung Disease",
          "xref": "x",
          "y": "Alcohol use",
          "yref": "y"
         },
         {
          "font": {
           "color": "#000000"
          },
          "showarrow": false,
          "text": "0.65",
          "x": "Balanced Diet",
          "xref": "x",
          "y": "Alcohol use",
          "yref": "y"
         },
         {
          "font": {
           "color": "#000000"
          },
          "showarrow": false,
          "text": "0.67",
          "x": "Obesity",
          "xref": "x",
          "y": "Alcohol use",
          "yref": "y"
         },
         {
          "font": {
           "color": "#000000"
          },
          "showarrow": false,
          "text": "0.55",
          "x": "Smoking",
          "xref": "x",
          "y": "Alcohol use",
          "yref": "y"
         },
         {
          "font": {
           "color": "#000000"
          },
          "showarrow": false,
          "text": "0.59",
          "x": "Passive Smoker",
          "xref": "x",
          "y": "Alcohol use",
          "yref": "y"
         },
         {
          "font": {
           "color": "#000000"
          },
          "showarrow": false,
          "text": "0.72",
          "x": "Chest Pain",
          "xref": "x",
          "y": "Alcohol use",
          "yref": "y"
         },
         {
          "font": {
           "color": "#000000"
          },
          "showarrow": false,
          "text": "0.67",
          "x": "Coughing of Blood",
          "xref": "x",
          "y": "Alcohol use",
          "yref": "y"
         },
         {
          "font": {
           "color": "#FFFFFF"
          },
          "showarrow": false,
          "text": "0.24",
          "x": "Fatigue",
          "xref": "x",
          "y": "Alcohol use",
          "yref": "y"
         },
         {
          "font": {
           "color": "#FFFFFF"
          },
          "showarrow": false,
          "text": "0.21",
          "x": "Weight Loss",
          "xref": "x",
          "y": "Alcohol use",
          "yref": "y"
         },
         {
          "font": {
           "color": "#000000"
          },
          "showarrow": false,
          "text": "0.43",
          "x": "Shortness of Breath",
          "xref": "x",
          "y": "Alcohol use",
          "yref": "y"
         },
         {
          "font": {
           "color": "#FFFFFF"
          },
          "showarrow": false,
          "text": "0.19",
          "x": "Wheezing",
          "xref": "x",
          "y": "Alcohol use",
          "yref": "y"
         },
         {
          "font": {
           "color": "#FFFFFF"
          },
          "showarrow": false,
          "text": "-0.11",
          "x": "Swallowing Difficulty",
          "xref": "x",
          "y": "Alcohol use",
          "yref": "y"
         },
         {
          "font": {
           "color": "#000000"
          },
          "showarrow": false,
          "text": "0.42",
          "x": "Clubbing of Finger Nails",
          "xref": "x",
          "y": "Alcohol use",
          "yref": "y"
         },
         {
          "font": {
           "color": "#FFFFFF"
          },
          "showarrow": false,
          "text": "0.19",
          "x": "Frequent Cold",
          "xref": "x",
          "y": "Alcohol use",
          "yref": "y"
         },
         {
          "font": {
           "color": "#FFFFFF"
          },
          "showarrow": false,
          "text": "0.21",
          "x": "Dry Cough",
          "xref": "x",
          "y": "Alcohol use",
          "yref": "y"
         },
         {
          "font": {
           "color": "#FFFFFF"
          },
          "showarrow": false,
          "text": "0.13",
          "x": "Snoring",
          "xref": "x",
          "y": "Alcohol use",
          "yref": "y"
         },
         {
          "font": {
           "color": "#000000"
          },
          "showarrow": false,
          "text": "0.72",
          "x": "Level",
          "xref": "x",
          "y": "Alcohol use",
          "yref": "y"
         },
         {
          "font": {
           "color": "#FFFFFF"
          },
          "showarrow": false,
          "text": "0.02",
          "x": "Age",
          "xref": "x",
          "y": "Dust Allergy",
          "yref": "y"
         },
         {
          "font": {
           "color": "#FFFFFF"
          },
          "showarrow": false,
          "text": "-0.2",
          "x": "Gender",
          "xref": "x",
          "y": "Dust Allergy",
          "yref": "y"
         },
         {
          "font": {
           "color": "#000000"
          },
          "showarrow": false,
          "text": "0.64",
          "x": "Air Pollution",
          "xref": "x",
          "y": "Dust Allergy",
          "yref": "y"
         },
         {
          "font": {
           "color": "#000000"
          },
          "showarrow": false,
          "text": "0.82",
          "x": "Alcohol use",
          "xref": "x",
          "y": "Dust Allergy",
          "yref": "y"
         },
         {
          "font": {
           "color": "#000000"
          },
          "showarrow": false,
          "text": "1.0",
          "x": "Dust Allergy",
          "xref": "x",
          "y": "Dust Allergy",
          "yref": "y"
         },
         {
          "font": {
           "color": "#000000"
          },
          "showarrow": false,
          "text": "0.84",
          "x": "OccuPational Hazards",
          "xref": "x",
          "y": "Dust Allergy",
          "yref": "y"
         },
         {
          "font": {
           "color": "#000000"
          },
          "showarrow": false,
          "text": "0.79",
          "x": "Genetic Risk",
          "xref": "x",
          "y": "Dust Allergy",
          "yref": "y"
         },
         {
          "font": {
           "color": "#000000"
          },
          "showarrow": false,
          "text": "0.62",
          "x": "chronic Lung Disease",
          "xref": "x",
          "y": "Dust Allergy",
          "yref": "y"
         },
         {
          "font": {
           "color": "#000000"
          },
          "showarrow": false,
          "text": "0.65",
          "x": "Balanced Diet",
          "xref": "x",
          "y": "Dust Allergy",
          "yref": "y"
         },
         {
          "font": {
           "color": "#000000"
          },
          "showarrow": false,
          "text": "0.7",
          "x": "Obesity",
          "xref": "x",
          "y": "Dust Allergy",
          "yref": "y"
         },
         {
          "font": {
           "color": "#FFFFFF"
          },
          "showarrow": false,
          "text": "0.36",
          "x": "Smoking",
          "xref": "x",
          "y": "Dust Allergy",
          "yref": "y"
         },
         {
          "font": {
           "color": "#000000"
          },
          "showarrow": false,
          "text": "0.56",
          "x": "Passive Smoker",
          "xref": "x",
          "y": "Dust Allergy",
          "yref": "y"
         },
         {
          "font": {
           "color": "#000000"
          },
          "showarrow": false,
          "text": "0.64",
          "x": "Chest Pain",
          "xref": "x",
          "y": "Dust Allergy",
          "yref": "y"
         },
         {
          "font": {
           "color": "#000000"
          },
          "showarrow": false,
          "text": "0.63",
          "x": "Coughing of Blood",
          "xref": "x",
          "y": "Dust Allergy",
          "yref": "y"
         },
         {
          "font": {
           "color": "#FFFFFF"
          },
          "showarrow": false,
          "text": "0.33",
          "x": "Fatigue",
          "xref": "x",
          "y": "Dust Allergy",
          "yref": "y"
         },
         {
          "font": {
           "color": "#FFFFFF"
          },
          "showarrow": false,
          "text": "0.32",
          "x": "Weight Loss",
          "xref": "x",
          "y": "Dust Allergy",
          "yref": "y"
         },
         {
          "font": {
           "color": "#000000"
          },
          "showarrow": false,
          "text": "0.52",
          "x": "Shortness of Breath",
          "xref": "x",
          "y": "Dust Allergy",
          "yref": "y"
         },
         {
          "font": {
           "color": "#FFFFFF"
          },
          "showarrow": false,
          "text": "0.31",
          "x": "Wheezing",
          "xref": "x",
          "y": "Dust Allergy",
          "yref": "y"
         },
         {
          "font": {
           "color": "#FFFFFF"
          },
          "showarrow": false,
          "text": "0.04",
          "x": "Swallowing Difficulty",
          "xref": "x",
          "y": "Dust Allergy",
          "yref": "y"
         },
         {
          "font": {
           "color": "#FFFFFF"
          },
          "showarrow": false,
          "text": "0.35",
          "x": "Clubbing of Finger Nails",
          "xref": "x",
          "y": "Dust Allergy",
          "yref": "y"
         },
         {
          "font": {
           "color": "#FFFFFF"
          },
          "showarrow": false,
          "text": "0.23",
          "x": "Frequent Cold",
          "xref": "x",
          "y": "Dust Allergy",
          "yref": "y"
         },
         {
          "font": {
           "color": "#FFFFFF"
          },
          "showarrow": false,
          "text": "0.3",
          "x": "Dry Cough",
          "xref": "x",
          "y": "Dust Allergy",
          "yref": "y"
         },
         {
          "font": {
           "color": "#FFFFFF"
          },
          "showarrow": false,
          "text": "0.06",
          "x": "Snoring",
          "xref": "x",
          "y": "Dust Allergy",
          "yref": "y"
         },
         {
          "font": {
           "color": "#000000"
          },
          "showarrow": false,
          "text": "0.71",
          "x": "Level",
          "xref": "x",
          "y": "Dust Allergy",
          "yref": "y"
         },
         {
          "font": {
           "color": "#FFFFFF"
          },
          "showarrow": false,
          "text": "0.06",
          "x": "Age",
          "xref": "x",
          "y": "OccuPational Hazards",
          "yref": "y"
         },
         {
          "font": {
           "color": "#FFFFFF"
          },
          "showarrow": false,
          "text": "-0.19",
          "x": "Gender",
          "xref": "x",
          "y": "OccuPational Hazards",
          "yref": "y"
         },
         {
          "font": {
           "color": "#000000"
          },
          "showarrow": false,
          "text": "0.61",
          "x": "Air Pollution",
          "xref": "x",
          "y": "OccuPational Hazards",
          "yref": "y"
         },
         {
          "font": {
           "color": "#000000"
          },
          "showarrow": false,
          "text": "0.88",
          "x": "Alcohol use",
          "xref": "x",
          "y": "OccuPational Hazards",
          "yref": "y"
         },
         {
          "font": {
           "color": "#000000"
          },
          "showarrow": false,
          "text": "0.84",
          "x": "Dust Allergy",
          "xref": "x",
          "y": "OccuPational Hazards",
          "yref": "y"
         },
         {
          "font": {
           "color": "#000000"
          },
          "showarrow": false,
          "text": "1.0",
          "x": "OccuPational Hazards",
          "xref": "x",
          "y": "OccuPational Hazards",
          "yref": "y"
         },
         {
          "font": {
           "color": "#000000"
          },
          "showarrow": false,
          "text": "0.89",
          "x": "Genetic Risk",
          "xref": "x",
          "y": "OccuPational Hazards",
          "yref": "y"
         },
         {
          "font": {
           "color": "#000000"
          },
          "showarrow": false,
          "text": "0.86",
          "x": "chronic Lung Disease",
          "xref": "x",
          "y": "OccuPational Hazards",
          "yref": "y"
         },
         {
          "font": {
           "color": "#000000"
          },
          "showarrow": false,
          "text": "0.69",
          "x": "Balanced Diet",
          "xref": "x",
          "y": "OccuPational Hazards",
          "yref": "y"
         },
         {
          "font": {
           "color": "#000000"
          },
          "showarrow": false,
          "text": "0.72",
          "x": "Obesity",
          "xref": "x",
          "y": "OccuPational Hazards",
          "yref": "y"
         },
         {
          "font": {
           "color": "#000000"
          },
          "showarrow": false,
          "text": "0.5",
          "x": "Smoking",
          "xref": "x",
          "y": "OccuPational Hazards",
          "yref": "y"
         },
         {
          "font": {
           "color": "#000000"
          },
          "showarrow": false,
          "text": "0.56",
          "x": "Passive Smoker",
          "xref": "x",
          "y": "OccuPational Hazards",
          "yref": "y"
         },
         {
          "font": {
           "color": "#000000"
          },
          "showarrow": false,
          "text": "0.78",
          "x": "Chest Pain",
          "xref": "x",
          "y": "OccuPational Hazards",
          "yref": "y"
         },
         {
          "font": {
           "color": "#000000"
          },
          "showarrow": false,
          "text": "0.65",
          "x": "Coughing of Blood",
          "xref": "x",
          "y": "OccuPational Hazards",
          "yref": "y"
         },
         {
          "font": {
           "color": "#FFFFFF"
          },
          "showarrow": false,
          "text": "0.27",
          "x": "Fatigue",
          "xref": "x",
          "y": "OccuPational Hazards",
          "yref": "y"
         },
         {
          "font": {
           "color": "#FFFFFF"
          },
          "showarrow": false,
          "text": "0.18",
          "x": "Weight Loss",
          "xref": "x",
          "y": "OccuPational Hazards",
          "yref": "y"
         },
         {
          "font": {
           "color": "#FFFFFF"
          },
          "showarrow": false,
          "text": "0.37",
          "x": "Shortness of Breath",
          "xref": "x",
          "y": "OccuPational Hazards",
          "yref": "y"
         },
         {
          "font": {
           "color": "#FFFFFF"
          },
          "showarrow": false,
          "text": "0.18",
          "x": "Wheezing",
          "xref": "x",
          "y": "OccuPational Hazards",
          "yref": "y"
         },
         {
          "font": {
           "color": "#FFFFFF"
          },
          "showarrow": false,
          "text": "-0.0",
          "x": "Swallowing Difficulty",
          "xref": "x",
          "y": "OccuPational Hazards",
          "yref": "y"
         },
         {
          "font": {
           "color": "#FFFFFF"
          },
          "showarrow": false,
          "text": "0.37",
          "x": "Clubbing of Finger Nails",
          "xref": "x",
          "y": "OccuPational Hazards",
          "yref": "y"
         },
         {
          "font": {
           "color": "#FFFFFF"
          },
          "showarrow": false,
          "text": "0.08",
          "x": "Frequent Cold",
          "xref": "x",
          "y": "OccuPational Hazards",
          "yref": "y"
         },
         {
          "font": {
           "color": "#FFFFFF"
          },
          "showarrow": false,
          "text": "0.16",
          "x": "Dry Cough",
          "xref": "x",
          "y": "OccuPational Hazards",
          "yref": "y"
         },
         {
          "font": {
           "color": "#FFFFFF"
          },
          "showarrow": false,
          "text": "0.02",
          "x": "Snoring",
          "xref": "x",
          "y": "OccuPational Hazards",
          "yref": "y"
         },
         {
          "font": {
           "color": "#000000"
          },
          "showarrow": false,
          "text": "0.67",
          "x": "Level",
          "xref": "x",
          "y": "OccuPational Hazards",
          "yref": "y"
         },
         {
          "font": {
           "color": "#FFFFFF"
          },
          "showarrow": false,
          "text": "0.06",
          "x": "Age",
          "xref": "x",
          "y": "Genetic Risk",
          "yref": "y"
         },
         {
          "font": {
           "color": "#FFFFFF"
          },
          "showarrow": false,
          "text": "-0.22",
          "x": "Gender",
          "xref": "x",
          "y": "Genetic Risk",
          "yref": "y"
         },
         {
          "font": {
           "color": "#000000"
          },
          "showarrow": false,
          "text": "0.7",
          "x": "Air Pollution",
          "xref": "x",
          "y": "Genetic Risk",
          "yref": "y"
         },
         {
          "font": {
           "color": "#000000"
          },
          "showarrow": false,
          "text": "0.88",
          "x": "Alcohol use",
          "xref": "x",
          "y": "Genetic Risk",
          "yref": "y"
         },
         {
          "font": {
           "color": "#000000"
          },
          "showarrow": false,
          "text": "0.79",
          "x": "Dust Allergy",
          "xref": "x",
          "y": "Genetic Risk",
          "yref": "y"
         },
         {
          "font": {
           "color": "#000000"
          },
          "showarrow": false,
          "text": "0.89",
          "x": "OccuPational Hazards",
          "xref": "x",
          "y": "Genetic Risk",
          "yref": "y"
         },
         {
          "font": {
           "color": "#000000"
          },
          "showarrow": false,
          "text": "1.0",
          "x": "Genetic Risk",
          "xref": "x",
          "y": "Genetic Risk",
          "yref": "y"
         },
         {
          "font": {
           "color": "#000000"
          },
          "showarrow": false,
          "text": "0.84",
          "x": "chronic Lung Disease",
          "xref": "x",
          "y": "Genetic Risk",
          "yref": "y"
         },
         {
          "font": {
           "color": "#000000"
          },
          "showarrow": false,
          "text": "0.68",
          "x": "Balanced Diet",
          "xref": "x",
          "y": "Genetic Risk",
          "yref": "y"
         },
         {
          "font": {
           "color": "#000000"
          },
          "showarrow": false,
          "text": "0.73",
          "x": "Obesity",
          "xref": "x",
          "y": "Genetic Risk",
          "yref": "y"
         },
         {
          "font": {
           "color": "#000000"
          },
          "showarrow": false,
          "text": "0.54",
          "x": "Smoking",
          "xref": "x",
          "y": "Genetic Risk",
          "yref": "y"
         },
         {
          "font": {
           "color": "#000000"
          },
          "showarrow": false,
          "text": "0.61",
          "x": "Passive Smoker",
          "xref": "x",
          "y": "Genetic Risk",
          "yref": "y"
         },
         {
          "font": {
           "color": "#000000"
          },
          "showarrow": false,
          "text": "0.83",
          "x": "Chest Pain",
          "xref": "x",
          "y": "Genetic Risk",
          "yref": "y"
         },
         {
          "font": {
           "color": "#000000"
          },
          "showarrow": false,
          "text": "0.63",
          "x": "Coughing of Blood",
          "xref": "x",
          "y": "Genetic Risk",
          "yref": "y"
         },
         {
          "font": {
           "color": "#FFFFFF"
          },
          "showarrow": false,
          "text": "0.23",
          "x": "Fatigue",
          "xref": "x",
          "y": "Genetic Risk",
          "yref": "y"
         },
         {
          "font": {
           "color": "#FFFFFF"
          },
          "showarrow": false,
          "text": "0.28",
          "x": "Weight Loss",
          "xref": "x",
          "y": "Genetic Risk",
          "yref": "y"
         },
         {
          "font": {
           "color": "#000000"
          },
          "showarrow": false,
          "text": "0.46",
          "x": "Shortness of Breath",
          "xref": "x",
          "y": "Genetic Risk",
          "yref": "y"
         },
         {
          "font": {
           "color": "#FFFFFF"
          },
          "showarrow": false,
          "text": "0.21",
          "x": "Wheezing",
          "xref": "x",
          "y": "Genetic Risk",
          "yref": "y"
         },
         {
          "font": {
           "color": "#FFFFFF"
          },
          "showarrow": false,
          "text": "-0.06",
          "x": "Swallowing Difficulty",
          "xref": "x",
          "y": "Genetic Risk",
          "yref": "y"
         },
         {
          "font": {
           "color": "#FFFFFF"
          },
          "showarrow": false,
          "text": "0.37",
          "x": "Clubbing of Finger Nails",
          "xref": "x",
          "y": "Genetic Risk",
          "yref": "y"
         },
         {
          "font": {
           "color": "#FFFFFF"
          },
          "showarrow": false,
          "text": "0.1",
          "x": "Frequent Cold",
          "xref": "x",
          "y": "Genetic Risk",
          "yref": "y"
         },
         {
          "font": {
           "color": "#FFFFFF"
          },
          "showarrow": false,
          "text": "0.19",
          "x": "Dry Cough",
          "xref": "x",
          "y": "Genetic Risk",
          "yref": "y"
         },
         {
          "font": {
           "color": "#FFFFFF"
          },
          "showarrow": false,
          "text": "-0.05",
          "x": "Snoring",
          "xref": "x",
          "y": "Genetic Risk",
          "yref": "y"
         },
         {
          "font": {
           "color": "#000000"
          },
          "showarrow": false,
          "text": "0.7",
          "x": "Level",
          "xref": "x",
          "y": "Genetic Risk",
          "yref": "y"
         },
         {
          "font": {
           "color": "#FFFFFF"
          },
          "showarrow": false,
          "text": "0.12",
          "x": "Age",
          "xref": "x",
          "y": "chronic Lung Disease",
          "yref": "y"
         },
         {
          "font": {
           "color": "#FFFFFF"
          },
          "showarrow": false,
          "text": "-0.2",
          "x": "Gender",
          "xref": "x",
          "y": "chronic Lung Disease",
          "yref": "y"
         },
         {
          "font": {
           "color": "#000000"
          },
          "showarrow": false,
          "text": "0.63",
          "x": "Air Pollution",
          "xref": "x",
          "y": "chronic Lung Disease",
          "yref": "y"
         },
         {
          "font": {
           "color": "#000000"
          },
          "showarrow": false,
          "text": "0.76",
          "x": "Alcohol use",
          "xref": "x",
          "y": "chronic Lung Disease",
          "yref": "y"
         },
         {
          "font": {
           "color": "#000000"
          },
          "showarrow": false,
          "text": "0.62",
          "x": "Dust Allergy",
          "xref": "x",
          "y": "chronic Lung Disease",
          "yref": "y"
         },
         {
          "font": {
           "color": "#000000"
          },
          "showarrow": false,
          "text": "0.86",
          "x": "OccuPational Hazards",
          "xref": "x",
          "y": "chronic Lung Disease",
          "yref": "y"
         },
         {
          "font": {
           "color": "#000000"
          },
          "showarrow": false,
          "text": "0.84",
          "x": "Genetic Risk",
          "xref": "x",
          "y": "chronic Lung Disease",
          "yref": "y"
         },
         {
          "font": {
           "color": "#000000"
          },
          "showarrow": false,
          "text": "1.0",
          "x": "chronic Lung Disease",
          "xref": "x",
          "y": "chronic Lung Disease",
          "yref": "y"
         },
         {
          "font": {
           "color": "#000000"
          },
          "showarrow": false,
          "text": "0.62",
          "x": "Balanced Diet",
          "xref": "x",
          "y": "chronic Lung Disease",
          "yref": "y"
         },
         {
          "font": {
           "color": "#000000"
          },
          "showarrow": false,
          "text": "0.6",
          "x": "Obesity",
          "xref": "x",
          "y": "chronic Lung Disease",
          "yref": "y"
         },
         {
          "font": {
           "color": "#000000"
          },
          "showarrow": false,
          "text": "0.58",
          "x": "Smoking",
          "xref": "x",
          "y": "chronic Lung Disease",
          "yref": "y"
         },
         {
          "font": {
           "color": "#000000"
          },
          "showarrow": false,
          "text": "0.57",
          "x": "Passive Smoker",
          "xref": "x",
          "y": "chronic Lung Disease",
          "yref": "y"
         },
         {
          "font": {
           "color": "#000000"
          },
          "showarrow": false,
          "text": "0.78",
          "x": "Chest Pain",
          "xref": "x",
          "y": "chronic Lung Disease",
          "yref": "y"
         },
         {
          "font": {
           "color": "#000000"
          },
          "showarrow": false,
          "text": "0.6",
          "x": "Coughing of Blood",
          "xref": "x",
          "y": "chronic Lung Disease",
          "yref": "y"
         },
         {
          "font": {
           "color": "#FFFFFF"
          },
          "showarrow": false,
          "text": "0.25",
          "x": "Fatigue",
          "xref": "x",
          "y": "chronic Lung Disease",
          "yref": "y"
         },
         {
          "font": {
           "color": "#FFFFFF"
          },
          "showarrow": false,
          "text": "0.11",
          "x": "Weight Loss",
          "xref": "x",
          "y": "chronic Lung Disease",
          "yref": "y"
         },
         {
          "font": {
           "color": "#FFFFFF"
          },
          "showarrow": false,
          "text": "0.18",
          "x": "Shortness of Breath",
          "xref": "x",
          "y": "chronic Lung Disease",
          "yref": "y"
         },
         {
          "font": {
           "color": "#FFFFFF"
          },
          "showarrow": false,
          "text": "0.06",
          "x": "Wheezing",
          "xref": "x",
          "y": "chronic Lung Disease",
          "yref": "y"
         },
         {
          "font": {
           "color": "#FFFFFF"
          },
          "showarrow": false,
          "text": "0.01",
          "x": "Swallowing Difficulty",
          "xref": "x",
          "y": "chronic Lung Disease",
          "yref": "y"
         },
         {
          "font": {
           "color": "#FFFFFF"
          },
          "showarrow": false,
          "text": "0.3",
          "x": "Clubbing of Finger Nails",
          "xref": "x",
          "y": "chronic Lung Disease",
          "yref": "y"
         },
         {
          "font": {
           "color": "#FFFFFF"
          },
          "showarrow": false,
          "text": "0.03",
          "x": "Frequent Cold",
          "xref": "x",
          "y": "chronic Lung Disease",
          "yref": "y"
         },
         {
          "font": {
           "color": "#FFFFFF"
          },
          "showarrow": false,
          "text": "0.11",
          "x": "Dry Cough",
          "xref": "x",
          "y": "chronic Lung Disease",
          "yref": "y"
         },
         {
          "font": {
           "color": "#FFFFFF"
          },
          "showarrow": false,
          "text": "0.05",
          "x": "Snoring",
          "xref": "x",
          "y": "chronic Lung Disease",
          "yref": "y"
         },
         {
          "font": {
           "color": "#000000"
          },
          "showarrow": false,
          "text": "0.61",
          "x": "Level",
          "xref": "x",
          "y": "chronic Lung Disease",
          "yref": "y"
         },
         {
          "font": {
           "color": "#FFFFFF"
          },
          "showarrow": false,
          "text": "-0.02",
          "x": "Age",
          "xref": "x",
          "y": "Balanced Diet",
          "yref": "y"
         },
         {
          "font": {
           "color": "#FFFFFF"
          },
          "showarrow": false,
          "text": "-0.09",
          "x": "Gender",
          "xref": "x",
          "y": "Balanced Diet",
          "yref": "y"
         },
         {
          "font": {
           "color": "#000000"
          },
          "showarrow": false,
          "text": "0.52",
          "x": "Air Pollution",
          "xref": "x",
          "y": "Balanced Diet",
          "yref": "y"
         },
         {
          "font": {
           "color": "#000000"
          },
          "showarrow": false,
          "text": "0.65",
          "x": "Alcohol use",
          "xref": "x",
          "y": "Balanced Diet",
          "yref": "y"
         },
         {
          "font": {
           "color": "#000000"
          },
          "showarrow": false,
          "text": "0.65",
          "x": "Dust Allergy",
          "xref": "x",
          "y": "Balanced Diet",
          "yref": "y"
         },
         {
          "font": {
           "color": "#000000"
          },
          "showarrow": false,
          "text": "0.69",
          "x": "OccuPational Hazards",
          "xref": "x",
          "y": "Balanced Diet",
          "yref": "y"
         },
         {
          "font": {
           "color": "#000000"
          },
          "showarrow": false,
          "text": "0.68",
          "x": "Genetic Risk",
          "xref": "x",
          "y": "Balanced Diet",
          "yref": "y"
         },
         {
          "font": {
           "color": "#000000"
          },
          "showarrow": false,
          "text": "0.62",
          "x": "chronic Lung Disease",
          "xref": "x",
          "y": "Balanced Diet",
          "yref": "y"
         },
         {
          "font": {
           "color": "#000000"
          },
          "showarrow": false,
          "text": "1.0",
          "x": "Balanced Diet",
          "xref": "x",
          "y": "Balanced Diet",
          "yref": "y"
         },
         {
          "font": {
           "color": "#000000"
          },
          "showarrow": false,
          "text": "0.71",
          "x": "Obesity",
          "xref": "x",
          "y": "Balanced Diet",
          "yref": "y"
         },
         {
          "font": {
           "color": "#000000"
          },
          "showarrow": false,
          "text": "0.64",
          "x": "Smoking",
          "xref": "x",
          "y": "Balanced Diet",
          "yref": "y"
         },
         {
          "font": {
           "color": "#000000"
          },
          "showarrow": false,
          "text": "0.72",
          "x": "Passive Smoker",
          "xref": "x",
          "y": "Balanced Diet",
          "yref": "y"
         },
         {
          "font": {
           "color": "#000000"
          },
          "showarrow": false,
          "text": "0.8",
          "x": "Chest Pain",
          "xref": "x",
          "y": "Balanced Diet",
          "yref": "y"
         },
         {
          "font": {
           "color": "#000000"
          },
          "showarrow": false,
          "text": "0.75",
          "x": "Coughing of Blood",
          "xref": "x",
          "y": "Balanced Diet",
          "yref": "y"
         },
         {
          "font": {
           "color": "#000000"
          },
          "showarrow": false,
          "text": "0.4",
          "x": "Fatigue",
          "xref": "x",
          "y": "Balanced Diet",
          "yref": "y"
         },
         {
          "font": {
           "color": "#FFFFFF"
          },
          "showarrow": false,
          "text": "-0.0",
          "x": "Weight Loss",
          "xref": "x",
          "y": "Balanced Diet",
          "yref": "y"
         },
         {
          "font": {
           "color": "#FFFFFF"
          },
          "showarrow": false,
          "text": "0.34",
          "x": "Shortness of Breath",
          "xref": "x",
          "y": "Balanced Diet",
          "yref": "y"
         },
         {
          "font": {
           "color": "#FFFFFF"
          },
          "showarrow": false,
          "text": "0.07",
          "x": "Wheezing",
          "xref": "x",
          "y": "Balanced Diet",
          "yref": "y"
         },
         {
          "font": {
           "color": "#FFFFFF"
          },
          "showarrow": false,
          "text": "0.06",
          "x": "Swallowing Difficulty",
          "xref": "x",
          "y": "Balanced Diet",
          "yref": "y"
         },
         {
          "font": {
           "color": "#FFFFFF"
          },
          "showarrow": false,
          "text": "0.05",
          "x": "Clubbing of Finger Nails",
          "xref": "x",
          "y": "Balanced Diet",
          "yref": "y"
         },
         {
          "font": {
           "color": "#FFFFFF"
          },
          "showarrow": false,
          "text": "0.28",
          "x": "Frequent Cold",
          "xref": "x",
          "y": "Balanced Diet",
          "yref": "y"
         },
         {
          "font": {
           "color": "#FFFFFF"
          },
          "showarrow": false,
          "text": "0.33",
          "x": "Dry Cough",
          "xref": "x",
          "y": "Balanced Diet",
          "yref": "y"
         },
         {
          "font": {
           "color": "#FFFFFF"
          },
          "showarrow": false,
          "text": "0.16",
          "x": "Snoring",
          "xref": "x",
          "y": "Balanced Diet",
          "yref": "y"
         },
         {
          "font": {
           "color": "#000000"
          },
          "showarrow": false,
          "text": "0.71",
          "x": "Level",
          "xref": "x",
          "y": "Balanced Diet",
          "yref": "y"
         },
         {
          "font": {
           "color": "#FFFFFF"
          },
          "showarrow": false,
          "text": "0.03",
          "x": "Age",
          "xref": "x",
          "y": "Obesity",
          "yref": "y"
         },
         {
          "font": {
           "color": "#FFFFFF"
          },
          "showarrow": false,
          "text": "-0.12",
          "x": "Gender",
          "xref": "x",
          "y": "Obesity",
          "yref": "y"
         },
         {
          "font": {
           "color": "#000000"
          },
          "showarrow": false,
          "text": "0.6",
          "x": "Air Pollution",
          "xref": "x",
          "y": "Obesity",
          "yref": "y"
         },
         {
          "font": {
           "color": "#000000"
          },
          "showarrow": false,
          "text": "0.67",
          "x": "Alcohol use",
          "xref": "x",
          "y": "Obesity",
          "yref": "y"
         },
         {
          "font": {
           "color": "#000000"
          },
          "showarrow": false,
          "text": "0.7",
          "x": "Dust Allergy",
          "xref": "x",
          "y": "Obesity",
          "yref": "y"
         },
         {
          "font": {
           "color": "#000000"
          },
          "showarrow": false,
          "text": "0.72",
          "x": "OccuPational Hazards",
          "xref": "x",
          "y": "Obesity",
          "yref": "y"
         },
         {
          "font": {
           "color": "#000000"
          },
          "showarrow": false,
          "text": "0.73",
          "x": "Genetic Risk",
          "xref": "x",
          "y": "Obesity",
          "yref": "y"
         },
         {
          "font": {
           "color": "#000000"
          },
          "showarrow": false,
          "text": "0.6",
          "x": "chronic Lung Disease",
          "xref": "x",
          "y": "Obesity",
          "yref": "y"
         },
         {
          "font": {
           "color": "#000000"
          },
          "showarrow": false,
          "text": "0.71",
          "x": "Balanced Diet",
          "xref": "x",
          "y": "Obesity",
          "yref": "y"
         },
         {
          "font": {
           "color": "#000000"
          },
          "showarrow": false,
          "text": "1.0",
          "x": "Obesity",
          "xref": "x",
          "y": "Obesity",
          "yref": "y"
         },
         {
          "font": {
           "color": "#000000"
          },
          "showarrow": false,
          "text": "0.49",
          "x": "Smoking",
          "xref": "x",
          "y": "Obesity",
          "yref": "y"
         },
         {
          "font": {
           "color": "#000000"
          },
          "showarrow": false,
          "text": "0.68",
          "x": "Passive Smoker",
          "xref": "x",
          "y": "Obesity",
          "yref": "y"
         },
         {
          "font": {
           "color": "#000000"
          },
          "showarrow": false,
          "text": "0.67",
          "x": "Chest Pain",
          "xref": "x",
          "y": "Obesity",
          "yref": "y"
         },
         {
          "font": {
           "color": "#000000"
          },
          "showarrow": false,
          "text": "0.81",
          "x": "Coughing of Blood",
          "xref": "x",
          "y": "Obesity",
          "yref": "y"
         },
         {
          "font": {
           "color": "#000000"
          },
          "showarrow": false,
          "text": "0.55",
          "x": "Fatigue",
          "xref": "x",
          "y": "Obesity",
          "yref": "y"
         },
         {
          "font": {
           "color": "#FFFFFF"
          },
          "showarrow": false,
          "text": "0.31",
          "x": "Weight Loss",
          "xref": "x",
          "y": "Obesity",
          "yref": "y"
         },
         {
          "font": {
           "color": "#000000"
          },
          "showarrow": false,
          "text": "0.41",
          "x": "Shortness of Breath",
          "xref": "x",
          "y": "Obesity",
          "yref": "y"
         },
         {
          "font": {
           "color": "#FFFFFF"
          },
          "showarrow": false,
          "text": "0.1",
          "x": "Wheezing",
          "xref": "x",
          "y": "Obesity",
          "yref": "y"
         },
         {
          "font": {
           "color": "#FFFFFF"
          },
          "showarrow": false,
          "text": "0.13",
          "x": "Swallowing Difficulty",
          "xref": "x",
          "y": "Obesity",
          "yref": "y"
         },
         {
          "font": {
           "color": "#FFFFFF"
          },
          "showarrow": false,
          "text": "0.15",
          "x": "Clubbing of Finger Nails",
          "xref": "x",
          "y": "Obesity",
          "yref": "y"
         },
         {
          "font": {
           "color": "#FFFFFF"
          },
          "showarrow": false,
          "text": "0.29",
          "x": "Frequent Cold",
          "xref": "x",
          "y": "Obesity",
          "yref": "y"
         },
         {
          "font": {
           "color": "#FFFFFF"
          },
          "showarrow": false,
          "text": "0.2",
          "x": "Dry Cough",
          "xref": "x",
          "y": "Obesity",
          "yref": "y"
         },
         {
          "font": {
           "color": "#FFFFFF"
          },
          "showarrow": false,
          "text": "0.04",
          "x": "Snoring",
          "xref": "x",
          "y": "Obesity",
          "yref": "y"
         },
         {
          "font": {
           "color": "#000000"
          },
          "showarrow": false,
          "text": "0.83",
          "x": "Level",
          "xref": "x",
          "y": "Obesity",
          "yref": "y"
         },
         {
          "font": {
           "color": "#FFFFFF"
          },
          "showarrow": false,
          "text": "0.03",
          "x": "Age",
          "xref": "x",
          "y": "Smoking",
          "yref": "y"
         },
         {
          "font": {
           "color": "#FFFFFF"
          },
          "showarrow": false,
          "text": "-0.2",
          "x": "Gender",
          "xref": "x",
          "y": "Smoking",
          "yref": "y"
         },
         {
          "font": {
           "color": "#000000"
          },
          "showarrow": false,
          "text": "0.48",
          "x": "Air Pollution",
          "xref": "x",
          "y": "Smoking",
          "yref": "y"
         },
         {
          "font": {
           "color": "#000000"
          },
          "showarrow": false,
          "text": "0.55",
          "x": "Alcohol use",
          "xref": "x",
          "y": "Smoking",
          "yref": "y"
         },
         {
          "font": {
           "color": "#FFFFFF"
          },
          "showarrow": false,
          "text": "0.36",
          "x": "Dust Allergy",
          "xref": "x",
          "y": "Smoking",
          "yref": "y"
         },
         {
          "font": {
           "color": "#000000"
          },
          "showarrow": false,
          "text": "0.5",
          "x": "OccuPational Hazards",
          "xref": "x",
          "y": "Smoking",
          "yref": "y"
         },
         {
          "font": {
           "color": "#000000"
          },
          "showarrow": false,
          "text": "0.54",
          "x": "Genetic Risk",
          "xref": "x",
          "y": "Smoking",
          "yref": "y"
         },
         {
          "font": {
           "color": "#000000"
          },
          "showarrow": false,
          "text": "0.58",
          "x": "chronic Lung Disease",
          "xref": "x",
          "y": "Smoking",
          "yref": "y"
         },
         {
          "font": {
           "color": "#000000"
          },
          "showarrow": false,
          "text": "0.64",
          "x": "Balanced Diet",
          "xref": "x",
          "y": "Smoking",
          "yref": "y"
         },
         {
          "font": {
           "color": "#000000"
          },
          "showarrow": false,
          "text": "0.49",
          "x": "Obesity",
          "xref": "x",
          "y": "Smoking",
          "yref": "y"
         },
         {
          "font": {
           "color": "#000000"
          },
          "showarrow": false,
          "text": "1.0",
          "x": "Smoking",
          "xref": "x",
          "y": "Smoking",
          "yref": "y"
         },
         {
          "font": {
           "color": "#000000"
          },
          "showarrow": false,
          "text": "0.77",
          "x": "Passive Smoker",
          "xref": "x",
          "y": "Smoking",
          "yref": "y"
         },
         {
          "font": {
           "color": "#000000"
          },
          "showarrow": false,
          "text": "0.65",
          "x": "Chest Pain",
          "xref": "x",
          "y": "Smoking",
          "yref": "y"
         },
         {
          "font": {
           "color": "#000000"
          },
          "showarrow": false,
          "text": "0.56",
          "x": "Coughing of Blood",
          "xref": "x",
          "y": "Smoking",
          "yref": "y"
         },
         {
          "font": {
           "color": "#FFFFFF"
          },
          "showarrow": false,
          "text": "0.2",
          "x": "Fatigue",
          "xref": "x",
          "y": "Smoking",
          "yref": "y"
         },
         {
          "font": {
           "color": "#FFFFFF"
          },
          "showarrow": false,
          "text": "-0.21",
          "x": "Weight Loss",
          "xref": "x",
          "y": "Smoking",
          "yref": "y"
         },
         {
          "font": {
           "color": "#FFFFFF"
          },
          "showarrow": false,
          "text": "-0.04",
          "x": "Shortness of Breath",
          "xref": "x",
          "y": "Smoking",
          "yref": "y"
         },
         {
          "font": {
           "color": "#FFFFFF"
          },
          "showarrow": false,
          "text": "-0.03",
          "x": "Wheezing",
          "xref": "x",
          "y": "Smoking",
          "yref": "y"
         },
         {
          "font": {
           "color": "#FFFFFF"
          },
          "showarrow": false,
          "text": "0.26",
          "x": "Swallowing Difficulty",
          "xref": "x",
          "y": "Smoking",
          "yref": "y"
         },
         {
          "font": {
           "color": "#FFFFFF"
          },
          "showarrow": false,
          "text": "-0.03",
          "x": "Clubbing of Finger Nails",
          "xref": "x",
          "y": "Smoking",
          "yref": "y"
         },
         {
          "font": {
           "color": "#FFFFFF"
          },
          "showarrow": false,
          "text": "0.06",
          "x": "Frequent Cold",
          "xref": "x",
          "y": "Smoking",
          "yref": "y"
         },
         {
          "font": {
           "color": "#FFFFFF"
          },
          "showarrow": false,
          "text": "-0.01",
          "x": "Dry Cough",
          "xref": "x",
          "y": "Smoking",
          "yref": "y"
         },
         {
          "font": {
           "color": "#FFFFFF"
          },
          "showarrow": false,
          "text": "0.2",
          "x": "Snoring",
          "xref": "x",
          "y": "Smoking",
          "yref": "y"
         },
         {
          "font": {
           "color": "#000000"
          },
          "showarrow": false,
          "text": "0.53",
          "x": "Level",
          "xref": "x",
          "y": "Smoking",
          "yref": "y"
         },
         {
          "font": {
           "color": "#FFFFFF"
          },
          "showarrow": false,
          "text": "-0.01",
          "x": "Age",
          "xref": "x",
          "y": "Passive Smoker",
          "yref": "y"
         },
         {
          "font": {
           "color": "#FFFFFF"
          },
          "showarrow": false,
          "text": "-0.18",
          "x": "Gender",
          "xref": "x",
          "y": "Passive Smoker",
          "yref": "y"
         },
         {
          "font": {
           "color": "#000000"
          },
          "showarrow": false,
          "text": "0.61",
          "x": "Air Pollution",
          "xref": "x",
          "y": "Passive Smoker",
          "yref": "y"
         },
         {
          "font": {
           "color": "#000000"
          },
          "showarrow": false,
          "text": "0.59",
          "x": "Alcohol use",
          "xref": "x",
          "y": "Passive Smoker",
          "yref": "y"
         },
         {
          "font": {
           "color": "#000000"
          },
          "showarrow": false,
          "text": "0.56",
          "x": "Dust Allergy",
          "xref": "x",
          "y": "Passive Smoker",
          "yref": "y"
         },
         {
          "font": {
           "color": "#000000"
          },
          "showarrow": false,
          "text": "0.56",
          "x": "OccuPational Hazards",
          "xref": "x",
          "y": "Passive Smoker",
          "yref": "y"
         },
         {
          "font": {
           "color": "#000000"
          },
          "showarrow": false,
          "text": "0.61",
          "x": "Genetic Risk",
          "xref": "x",
          "y": "Passive Smoker",
          "yref": "y"
         },
         {
          "font": {
           "color": "#000000"
          },
          "showarrow": false,
          "text": "0.57",
          "x": "chronic Lung Disease",
          "xref": "x",
          "y": "Passive Smoker",
          "yref": "y"
         },
         {
          "font": {
           "color": "#000000"
          },
          "showarrow": false,
          "text": "0.72",
          "x": "Balanced Diet",
          "xref": "x",
          "y": "Passive Smoker",
          "yref": "y"
         },
         {
          "font": {
           "color": "#000000"
          },
          "showarrow": false,
          "text": "0.68",
          "x": "Obesity",
          "xref": "x",
          "y": "Passive Smoker",
          "yref": "y"
         },
         {
          "font": {
           "color": "#000000"
          },
          "showarrow": false,
          "text": "0.77",
          "x": "Smoking",
          "xref": "x",
          "y": "Passive Smoker",
          "yref": "y"
         },
         {
          "font": {
           "color": "#000000"
          },
          "showarrow": false,
          "text": "1.0",
          "x": "Passive Smoker",
          "xref": "x",
          "y": "Passive Smoker",
          "yref": "y"
         },
         {
          "font": {
           "color": "#000000"
          },
          "showarrow": false,
          "text": "0.7",
          "x": "Chest Pain",
          "xref": "x",
          "y": "Passive Smoker",
          "yref": "y"
         },
         {
          "font": {
           "color": "#000000"
          },
          "showarrow": false,
          "text": "0.64",
          "x": "Coughing of Blood",
          "xref": "x",
          "y": "Passive Smoker",
          "yref": "y"
         },
         {
          "font": {
           "color": "#FFFFFF"
          },
          "showarrow": false,
          "text": "0.38",
          "x": "Fatigue",
          "xref": "x",
          "y": "Passive Smoker",
          "yref": "y"
         },
         {
          "font": {
           "color": "#FFFFFF"
          },
          "showarrow": false,
          "text": "0.06",
          "x": "Weight Loss",
          "xref": "x",
          "y": "Passive Smoker",
          "yref": "y"
         },
         {
          "font": {
           "color": "#FFFFFF"
          },
          "showarrow": false,
          "text": "0.06",
          "x": "Shortness of Breath",
          "xref": "x",
          "y": "Passive Smoker",
          "yref": "y"
         },
         {
          "font": {
           "color": "#FFFFFF"
          },
          "showarrow": false,
          "text": "0.2",
          "x": "Wheezing",
          "xref": "x",
          "y": "Passive Smoker",
          "yref": "y"
         },
         {
          "font": {
           "color": "#FFFFFF"
          },
          "showarrow": false,
          "text": "0.36",
          "x": "Swallowing Difficulty",
          "xref": "x",
          "y": "Passive Smoker",
          "yref": "y"
         },
         {
          "font": {
           "color": "#FFFFFF"
          },
          "showarrow": false,
          "text": "-0.03",
          "x": "Clubbing of Finger Nails",
          "xref": "x",
          "y": "Passive Smoker",
          "yref": "y"
         },
         {
          "font": {
           "color": "#FFFFFF"
          },
          "showarrow": false,
          "text": "0.11",
          "x": "Frequent Cold",
          "xref": "x",
          "y": "Passive Smoker",
          "yref": "y"
         },
         {
          "font": {
           "color": "#FFFFFF"
          },
          "showarrow": false,
          "text": "0.12",
          "x": "Dry Cough",
          "xref": "x",
          "y": "Passive Smoker",
          "yref": "y"
         },
         {
          "font": {
           "color": "#FFFFFF"
          },
          "showarrow": false,
          "text": "0.25",
          "x": "Snoring",
          "xref": "x",
          "y": "Passive Smoker",
          "yref": "y"
         },
         {
          "font": {
           "color": "#000000"
          },
          "showarrow": false,
          "text": "0.7",
          "x": "Level",
          "xref": "x",
          "y": "Passive Smoker",
          "yref": "y"
         },
         {
          "font": {
           "color": "#FFFFFF"
          },
          "showarrow": false,
          "text": "0.01",
          "x": "Age",
          "xref": "x",
          "y": "Chest Pain",
          "yref": "y"
         },
         {
          "font": {
           "color": "#FFFFFF"
          },
          "showarrow": false,
          "text": "-0.22",
          "x": "Gender",
          "xref": "x",
          "y": "Chest Pain",
          "yref": "y"
         },
         {
          "font": {
           "color": "#000000"
          },
          "showarrow": false,
          "text": "0.59",
          "x": "Air Pollution",
          "xref": "x",
          "y": "Chest Pain",
          "yref": "y"
         },
         {
          "font": {
           "color": "#000000"
          },
          "showarrow": false,
          "text": "0.72",
          "x": "Alcohol use",
          "xref": "x",
          "y": "Chest Pain",
          "yref": "y"
         },
         {
          "font": {
           "color": "#000000"
          },
          "showarrow": false,
          "text": "0.64",
          "x": "Dust Allergy",
          "xref": "x",
          "y": "Chest Pain",
          "yref": "y"
         },
         {
          "font": {
           "color": "#000000"
          },
          "showarrow": false,
          "text": "0.78",
          "x": "OccuPational Hazards",
          "xref": "x",
          "y": "Chest Pain",
          "yref": "y"
         },
         {
          "font": {
           "color": "#000000"
          },
          "showarrow": false,
          "text": "0.83",
          "x": "Genetic Risk",
          "xref": "x",
          "y": "Chest Pain",
          "yref": "y"
         },
         {
          "font": {
           "color": "#000000"
          },
          "showarrow": false,
          "text": "0.78",
          "x": "chronic Lung Disease",
          "xref": "x",
          "y": "Chest Pain",
          "yref": "y"
         },
         {
          "font": {
           "color": "#000000"
          },
          "showarrow": false,
          "text": "0.8",
          "x": "Balanced Diet",
          "xref": "x",
          "y": "Chest Pain",
          "yref": "y"
         },
         {
          "font": {
           "color": "#000000"
          },
          "showarrow": false,
          "text": "0.67",
          "x": "Obesity",
          "xref": "x",
          "y": "Chest Pain",
          "yref": "y"
         },
         {
          "font": {
           "color": "#000000"
          },
          "showarrow": false,
          "text": "0.65",
          "x": "Smoking",
          "xref": "x",
          "y": "Chest Pain",
          "yref": "y"
         },
         {
          "font": {
           "color": "#000000"
          },
          "showarrow": false,
          "text": "0.7",
          "x": "Passive Smoker",
          "xref": "x",
          "y": "Chest Pain",
          "yref": "y"
         },
         {
          "font": {
           "color": "#000000"
          },
          "showarrow": false,
          "text": "1.0",
          "x": "Chest Pain",
          "xref": "x",
          "y": "Chest Pain",
          "yref": "y"
         },
         {
          "font": {
           "color": "#000000"
          },
          "showarrow": false,
          "text": "0.71",
          "x": "Coughing of Blood",
          "xref": "x",
          "y": "Chest Pain",
          "yref": "y"
         },
         {
          "font": {
           "color": "#FFFFFF"
          },
          "showarrow": false,
          "text": "0.25",
          "x": "Fatigue",
          "xref": "x",
          "y": "Chest Pain",
          "yref": "y"
         },
         {
          "font": {
           "color": "#FFFFFF"
          },
          "showarrow": false,
          "text": "-0.0",
          "x": "Weight Loss",
          "xref": "x",
          "y": "Chest Pain",
          "yref": "y"
         },
         {
          "font": {
           "color": "#FFFFFF"
          },
          "showarrow": false,
          "text": "0.24",
          "x": "Shortness of Breath",
          "xref": "x",
          "y": "Chest Pain",
          "yref": "y"
         },
         {
          "font": {
           "color": "#FFFFFF"
          },
          "showarrow": false,
          "text": "0.11",
          "x": "Wheezing",
          "xref": "x",
          "y": "Chest Pain",
          "yref": "y"
         },
         {
          "font": {
           "color": "#FFFFFF"
          },
          "showarrow": false,
          "text": "0.08",
          "x": "Swallowing Difficulty",
          "xref": "x",
          "y": "Chest Pain",
          "yref": "y"
         },
         {
          "font": {
           "color": "#FFFFFF"
          },
          "showarrow": false,
          "text": "0.08",
          "x": "Clubbing of Finger Nails",
          "xref": "x",
          "y": "Chest Pain",
          "yref": "y"
         },
         {
          "font": {
           "color": "#FFFFFF"
          },
          "showarrow": false,
          "text": "0.05",
          "x": "Frequent Cold",
          "xref": "x",
          "y": "Chest Pain",
          "yref": "y"
         },
         {
          "font": {
           "color": "#FFFFFF"
          },
          "showarrow": false,
          "text": "0.14",
          "x": "Dry Cough",
          "xref": "x",
          "y": "Chest Pain",
          "yref": "y"
         },
         {
          "font": {
           "color": "#FFFFFF"
          },
          "showarrow": false,
          "text": "0.14",
          "x": "Snoring",
          "xref": "x",
          "y": "Chest Pain",
          "yref": "y"
         },
         {
          "font": {
           "color": "#000000"
          },
          "showarrow": false,
          "text": "0.65",
          "x": "Level",
          "xref": "x",
          "y": "Chest Pain",
          "yref": "y"
         },
         {
          "font": {
           "color": "#FFFFFF"
          },
          "showarrow": false,
          "text": "0.05",
          "x": "Age",
          "xref": "x",
          "y": "Coughing of Blood",
          "yref": "y"
         },
         {
          "font": {
           "color": "#FFFFFF"
          },
          "showarrow": false,
          "text": "-0.15",
          "x": "Gender",
          "xref": "x",
          "y": "Coughing of Blood",
          "yref": "y"
         },
         {
          "font": {
           "color": "#000000"
          },
          "showarrow": false,
          "text": "0.61",
          "x": "Air Pollution",
          "xref": "x",
          "y": "Coughing of Blood",
          "yref": "y"
         },
         {
          "font": {
           "color": "#000000"
          },
          "showarrow": false,
          "text": "0.67",
          "x": "Alcohol use",
          "xref": "x",
          "y": "Coughing of Blood",
          "yref": "y"
         },
         {
          "font": {
           "color": "#000000"
          },
          "showarrow": false,
          "text": "0.63",
          "x": "Dust Allergy",
          "xref": "x",
          "y": "Coughing of Blood",
          "yref": "y"
         },
         {
          "font": {
           "color": "#000000"
          },
          "showarrow": false,
          "text": "0.65",
          "x": "OccuPational Hazards",
          "xref": "x",
          "y": "Coughing of Blood",
          "yref": "y"
         },
         {
          "font": {
           "color": "#000000"
          },
          "showarrow": false,
          "text": "0.63",
          "x": "Genetic Risk",
          "xref": "x",
          "y": "Coughing of Blood",
          "yref": "y"
         },
         {
          "font": {
           "color": "#000000"
          },
          "showarrow": false,
          "text": "0.6",
          "x": "chronic Lung Disease",
          "xref": "x",
          "y": "Coughing of Blood",
          "yref": "y"
         },
         {
          "font": {
           "color": "#000000"
          },
          "showarrow": false,
          "text": "0.75",
          "x": "Balanced Diet",
          "xref": "x",
          "y": "Coughing of Blood",
          "yref": "y"
         },
         {
          "font": {
           "color": "#000000"
          },
          "showarrow": false,
          "text": "0.81",
          "x": "Obesity",
          "xref": "x",
          "y": "Coughing of Blood",
          "yref": "y"
         },
         {
          "font": {
           "color": "#000000"
          },
          "showarrow": false,
          "text": "0.56",
          "x": "Smoking",
          "xref": "x",
          "y": "Coughing of Blood",
          "yref": "y"
         },
         {
          "font": {
           "color": "#000000"
          },
          "showarrow": false,
          "text": "0.64",
          "x": "Passive Smoker",
          "xref": "x",
          "y": "Coughing of Blood",
          "yref": "y"
         },
         {
          "font": {
           "color": "#000000"
          },
          "showarrow": false,
          "text": "0.71",
          "x": "Chest Pain",
          "xref": "x",
          "y": "Coughing of Blood",
          "yref": "y"
         },
         {
          "font": {
           "color": "#000000"
          },
          "showarrow": false,
          "text": "1.0",
          "x": "Coughing of Blood",
          "xref": "x",
          "y": "Coughing of Blood",
          "yref": "y"
         },
         {
          "font": {
           "color": "#000000"
          },
          "showarrow": false,
          "text": "0.48",
          "x": "Fatigue",
          "xref": "x",
          "y": "Coughing of Blood",
          "yref": "y"
         },
         {
          "font": {
           "color": "#FFFFFF"
          },
          "showarrow": false,
          "text": "0.11",
          "x": "Weight Loss",
          "xref": "x",
          "y": "Coughing of Blood",
          "yref": "y"
         },
         {
          "font": {
           "color": "#FFFFFF"
          },
          "showarrow": false,
          "text": "0.32",
          "x": "Shortness of Breath",
          "xref": "x",
          "y": "Coughing of Blood",
          "yref": "y"
         },
         {
          "font": {
           "color": "#FFFFFF"
          },
          "showarrow": false,
          "text": "-0.09",
          "x": "Wheezing",
          "xref": "x",
          "y": "Coughing of Blood",
          "yref": "y"
         },
         {
          "font": {
           "color": "#FFFFFF"
          },
          "showarrow": false,
          "text": "0.09",
          "x": "Swallowing Difficulty",
          "xref": "x",
          "y": "Coughing of Blood",
          "yref": "y"
         },
         {
          "font": {
           "color": "#FFFFFF"
          },
          "showarrow": false,
          "text": "-0.07",
          "x": "Clubbing of Finger Nails",
          "xref": "x",
          "y": "Coughing of Blood",
          "yref": "y"
         },
         {
          "font": {
           "color": "#FFFFFF"
          },
          "showarrow": false,
          "text": "0.25",
          "x": "Frequent Cold",
          "xref": "x",
          "y": "Coughing of Blood",
          "yref": "y"
         },
         {
          "font": {
           "color": "#FFFFFF"
          },
          "showarrow": false,
          "text": "0.15",
          "x": "Dry Cough",
          "xref": "x",
          "y": "Coughing of Blood",
          "yref": "y"
         },
         {
          "font": {
           "color": "#FFFFFF"
          },
          "showarrow": false,
          "text": "0.09",
          "x": "Snoring",
          "xref": "x",
          "y": "Coughing of Blood",
          "yref": "y"
         },
         {
          "font": {
           "color": "#000000"
          },
          "showarrow": false,
          "text": "0.78",
          "x": "Level",
          "xref": "x",
          "y": "Coughing of Blood",
          "yref": "y"
         },
         {
          "font": {
           "color": "#FFFFFF"
          },
          "showarrow": false,
          "text": "0.1",
          "x": "Age",
          "xref": "x",
          "y": "Fatigue",
          "yref": "y"
         },
         {
          "font": {
           "color": "#FFFFFF"
          },
          "showarrow": false,
          "text": "-0.12",
          "x": "Gender",
          "xref": "x",
          "y": "Fatigue",
          "yref": "y"
         },
         {
          "font": {
           "color": "#FFFFFF"
          },
          "showarrow": false,
          "text": "0.21",
          "x": "Air Pollution",
          "xref": "x",
          "y": "Fatigue",
          "yref": "y"
         },
         {
          "font": {
           "color": "#FFFFFF"
          },
          "showarrow": false,
          "text": "0.24",
          "x": "Alcohol use",
          "xref": "x",
          "y": "Fatigue",
          "yref": "y"
         },
         {
          "font": {
           "color": "#FFFFFF"
          },
          "showarrow": false,
          "text": "0.33",
          "x": "Dust Allergy",
          "xref": "x",
          "y": "Fatigue",
          "yref": "y"
         },
         {
          "font": {
           "color": "#FFFFFF"
          },
          "showarrow": false,
          "text": "0.27",
          "x": "OccuPational Hazards",
          "xref": "x",
          "y": "Fatigue",
          "yref": "y"
         },
         {
          "font": {
           "color": "#FFFFFF"
          },
          "showarrow": false,
          "text": "0.23",
          "x": "Genetic Risk",
          "xref": "x",
          "y": "Fatigue",
          "yref": "y"
         },
         {
          "font": {
           "color": "#FFFFFF"
          },
          "showarrow": false,
          "text": "0.25",
          "x": "chronic Lung Disease",
          "xref": "x",
          "y": "Fatigue",
          "yref": "y"
         },
         {
          "font": {
           "color": "#000000"
          },
          "showarrow": false,
          "text": "0.4",
          "x": "Balanced Diet",
          "xref": "x",
          "y": "Fatigue",
          "yref": "y"
         },
         {
          "font": {
           "color": "#000000"
          },
          "showarrow": false,
          "text": "0.55",
          "x": "Obesity",
          "xref": "x",
          "y": "Fatigue",
          "yref": "y"
         },
         {
          "font": {
           "color": "#FFFFFF"
          },
          "showarrow": false,
          "text": "0.2",
          "x": "Smoking",
          "xref": "x",
          "y": "Fatigue",
          "yref": "y"
         },
         {
          "font": {
           "color": "#FFFFFF"
          },
          "showarrow": false,
          "text": "0.38",
          "x": "Passive Smoker",
          "xref": "x",
          "y": "Fatigue",
          "yref": "y"
         },
         {
          "font": {
           "color": "#FFFFFF"
          },
          "showarrow": false,
          "text": "0.25",
          "x": "Chest Pain",
          "xref": "x",
          "y": "Fatigue",
          "yref": "y"
         },
         {
          "font": {
           "color": "#000000"
          },
          "showarrow": false,
          "text": "0.48",
          "x": "Coughing of Blood",
          "xref": "x",
          "y": "Fatigue",
          "yref": "y"
         },
         {
          "font": {
           "color": "#000000"
          },
          "showarrow": false,
          "text": "1.0",
          "x": "Fatigue",
          "xref": "x",
          "y": "Fatigue",
          "yref": "y"
         },
         {
          "font": {
           "color": "#000000"
          },
          "showarrow": false,
          "text": "0.47",
          "x": "Weight Loss",
          "xref": "x",
          "y": "Fatigue",
          "yref": "y"
         },
         {
          "font": {
           "color": "#000000"
          },
          "showarrow": false,
          "text": "0.4",
          "x": "Shortness of Breath",
          "xref": "x",
          "y": "Fatigue",
          "yref": "y"
         },
         {
          "font": {
           "color": "#FFFFFF"
          },
          "showarrow": false,
          "text": "0.18",
          "x": "Wheezing",
          "xref": "x",
          "y": "Fatigue",
          "yref": "y"
         },
         {
          "font": {
           "color": "#FFFFFF"
          },
          "showarrow": false,
          "text": "0.15",
          "x": "Swallowing Difficulty",
          "xref": "x",
          "y": "Fatigue",
          "yref": "y"
         },
         {
          "font": {
           "color": "#FFFFFF"
          },
          "showarrow": false,
          "text": "0.04",
          "x": "Clubbing of Finger Nails",
          "xref": "x",
          "y": "Fatigue",
          "yref": "y"
         },
         {
          "font": {
           "color": "#000000"
          },
          "showarrow": false,
          "text": "0.41",
          "x": "Frequent Cold",
          "xref": "x",
          "y": "Fatigue",
          "yref": "y"
         },
         {
          "font": {
           "color": "#FFFFFF"
          },
          "showarrow": false,
          "text": "0.27",
          "x": "Dry Cough",
          "xref": "x",
          "y": "Fatigue",
          "yref": "y"
         },
         {
          "font": {
           "color": "#FFFFFF"
          },
          "showarrow": false,
          "text": "0.23",
          "x": "Snoring",
          "xref": "x",
          "y": "Fatigue",
          "yref": "y"
         },
         {
          "font": {
           "color": "#000000"
          },
          "showarrow": false,
          "text": "0.63",
          "x": "Level",
          "xref": "x",
          "y": "Fatigue",
          "yref": "y"
         },
         {
          "font": {
           "color": "#FFFFFF"
          },
          "showarrow": false,
          "text": "0.12",
          "x": "Age",
          "xref": "x",
          "y": "Weight Loss",
          "yref": "y"
         },
         {
          "font": {
           "color": "#FFFFFF"
          },
          "showarrow": false,
          "text": "-0.06",
          "x": "Gender",
          "xref": "x",
          "y": "Weight Loss",
          "yref": "y"
         },
         {
          "font": {
           "color": "#FFFFFF"
          },
          "showarrow": false,
          "text": "0.26",
          "x": "Air Pollution",
          "xref": "x",
          "y": "Weight Loss",
          "yref": "y"
         },
         {
          "font": {
           "color": "#FFFFFF"
          },
          "showarrow": false,
          "text": "0.21",
          "x": "Alcohol use",
          "xref": "x",
          "y": "Weight Loss",
          "yref": "y"
         },
         {
          "font": {
           "color": "#FFFFFF"
          },
          "showarrow": false,
          "text": "0.32",
          "x": "Dust Allergy",
          "xref": "x",
          "y": "Weight Loss",
          "yref": "y"
         },
         {
          "font": {
           "color": "#FFFFFF"
          },
          "showarrow": false,
          "text": "0.18",
          "x": "OccuPational Hazards",
          "xref": "x",
          "y": "Weight Loss",
          "yref": "y"
         },
         {
          "font": {
           "color": "#FFFFFF"
          },
          "showarrow": false,
          "text": "0.28",
          "x": "Genetic Risk",
          "xref": "x",
          "y": "Weight Loss",
          "yref": "y"
         },
         {
          "font": {
           "color": "#FFFFFF"
          },
          "showarrow": false,
          "text": "0.11",
          "x": "chronic Lung Disease",
          "xref": "x",
          "y": "Weight Loss",
          "yref": "y"
         },
         {
          "font": {
           "color": "#FFFFFF"
          },
          "showarrow": false,
          "text": "-0.0",
          "x": "Balanced Diet",
          "xref": "x",
          "y": "Weight Loss",
          "yref": "y"
         },
         {
          "font": {
           "color": "#FFFFFF"
          },
          "showarrow": false,
          "text": "0.31",
          "x": "Obesity",
          "xref": "x",
          "y": "Weight Loss",
          "yref": "y"
         },
         {
          "font": {
           "color": "#FFFFFF"
          },
          "showarrow": false,
          "text": "-0.21",
          "x": "Smoking",
          "xref": "x",
          "y": "Weight Loss",
          "yref": "y"
         },
         {
          "font": {
           "color": "#FFFFFF"
          },
          "showarrow": false,
          "text": "0.06",
          "x": "Passive Smoker",
          "xref": "x",
          "y": "Weight Loss",
          "yref": "y"
         },
         {
          "font": {
           "color": "#FFFFFF"
          },
          "showarrow": false,
          "text": "-0.0",
          "x": "Chest Pain",
          "xref": "x",
          "y": "Weight Loss",
          "yref": "y"
         },
         {
          "font": {
           "color": "#FFFFFF"
          },
          "showarrow": false,
          "text": "0.11",
          "x": "Coughing of Blood",
          "xref": "x",
          "y": "Weight Loss",
          "yref": "y"
         },
         {
          "font": {
           "color": "#000000"
          },
          "showarrow": false,
          "text": "0.47",
          "x": "Fatigue",
          "xref": "x",
          "y": "Weight Loss",
          "yref": "y"
         },
         {
          "font": {
           "color": "#000000"
          },
          "showarrow": false,
          "text": "1.0",
          "x": "Weight Loss",
          "xref": "x",
          "y": "Weight Loss",
          "yref": "y"
         },
         {
          "font": {
           "color": "#000000"
          },
          "showarrow": false,
          "text": "0.58",
          "x": "Shortness of Breath",
          "xref": "x",
          "y": "Weight Loss",
          "yref": "y"
         },
         {
          "font": {
           "color": "#FFFFFF"
          },
          "showarrow": false,
          "text": "0.33",
          "x": "Wheezing",
          "xref": "x",
          "y": "Weight Loss",
          "yref": "y"
         },
         {
          "font": {
           "color": "#FFFFFF"
          },
          "showarrow": false,
          "text": "0.05",
          "x": "Swallowing Difficulty",
          "xref": "x",
          "y": "Weight Loss",
          "yref": "y"
         },
         {
          "font": {
           "color": "#FFFFFF"
          },
          "showarrow": false,
          "text": "0.37",
          "x": "Clubbing of Finger Nails",
          "xref": "x",
          "y": "Weight Loss",
          "yref": "y"
         },
         {
          "font": {
           "color": "#FFFFFF"
          },
          "showarrow": false,
          "text": "0.16",
          "x": "Frequent Cold",
          "xref": "x",
          "y": "Weight Loss",
          "yref": "y"
         },
         {
          "font": {
           "color": "#FFFFFF"
          },
          "showarrow": false,
          "text": "0.19",
          "x": "Dry Cough",
          "xref": "x",
          "y": "Weight Loss",
          "yref": "y"
         },
         {
          "font": {
           "color": "#FFFFFF"
          },
          "showarrow": false,
          "text": "-0.19",
          "x": "Snoring",
          "xref": "x",
          "y": "Weight Loss",
          "yref": "y"
         },
         {
          "font": {
           "color": "#FFFFFF"
          },
          "showarrow": false,
          "text": "0.35",
          "x": "Level",
          "xref": "x",
          "y": "Weight Loss",
          "yref": "y"
         },
         {
          "font": {
           "color": "#FFFFFF"
          },
          "showarrow": false,
          "text": "0.01",
          "x": "Age",
          "xref": "x",
          "y": "Shortness of Breath",
          "yref": "y"
         },
         {
          "font": {
           "color": "#FFFFFF"
          },
          "showarrow": false,
          "text": "-0.04",
          "x": "Gender",
          "xref": "x",
          "y": "Shortness of Breath",
          "yref": "y"
         },
         {
          "font": {
           "color": "#FFFFFF"
          },
          "showarrow": false,
          "text": "0.27",
          "x": "Air Pollution",
          "xref": "x",
          "y": "Shortness of Breath",
          "yref": "y"
         },
         {
          "font": {
           "color": "#000000"
          },
          "showarrow": false,
          "text": "0.43",
          "x": "Alcohol use",
          "xref": "x",
          "y": "Shortness of Breath",
          "yref": "y"
         },
         {
          "font": {
           "color": "#000000"
          },
          "showarrow": false,
          "text": "0.52",
          "x": "Dust Allergy",
          "xref": "x",
          "y": "Shortness of Breath",
          "yref": "y"
         },
         {
          "font": {
           "color": "#FFFFFF"
          },
          "showarrow": false,
          "text": "0.37",
          "x": "OccuPational Hazards",
          "xref": "x",
          "y": "Shortness of Breath",
          "yref": "y"
         },
         {
          "font": {
           "color": "#000000"
          },
          "showarrow": false,
          "text": "0.46",
          "x": "Genetic Risk",
          "xref": "x",
          "y": "Shortness of Breath",
          "yref": "y"
         },
         {
          "font": {
           "color": "#FFFFFF"
          },
          "showarrow": false,
          "text": "0.18",
          "x": "chronic Lung Disease",
          "xref": "x",
          "y": "Shortness of Breath",
          "yref": "y"
         },
         {
          "font": {
           "color": "#FFFFFF"
          },
          "showarrow": false,
          "text": "0.34",
          "x": "Balanced Diet",
          "xref": "x",
          "y": "Shortness of Breath",
          "yref": "y"
         },
         {
          "font": {
           "color": "#000000"
          },
          "showarrow": false,
          "text": "0.41",
          "x": "Obesity",
          "xref": "x",
          "y": "Shortness of Breath",
          "yref": "y"
         },
         {
          "font": {
           "color": "#FFFFFF"
          },
          "showarrow": false,
          "text": "-0.04",
          "x": "Smoking",
          "xref": "x",
          "y": "Shortness of Breath",
          "yref": "y"
         },
         {
          "font": {
           "color": "#FFFFFF"
          },
          "showarrow": false,
          "text": "0.06",
          "x": "Passive Smoker",
          "xref": "x",
          "y": "Shortness of Breath",
          "yref": "y"
         },
         {
          "font": {
           "color": "#FFFFFF"
          },
          "showarrow": false,
          "text": "0.24",
          "x": "Chest Pain",
          "xref": "x",
          "y": "Shortness of Breath",
          "yref": "y"
         },
         {
          "font": {
           "color": "#FFFFFF"
          },
          "showarrow": false,
          "text": "0.32",
          "x": "Coughing of Blood",
          "xref": "x",
          "y": "Shortness of Breath",
          "yref": "y"
         },
         {
          "font": {
           "color": "#000000"
          },
          "showarrow": false,
          "text": "0.4",
          "x": "Fatigue",
          "xref": "x",
          "y": "Shortness of Breath",
          "yref": "y"
         },
         {
          "font": {
           "color": "#000000"
          },
          "showarrow": false,
          "text": "0.58",
          "x": "Weight Loss",
          "xref": "x",
          "y": "Shortness of Breath",
          "yref": "y"
         },
         {
          "font": {
           "color": "#000000"
          },
          "showarrow": false,
          "text": "1.0",
          "x": "Shortness of Breath",
          "xref": "x",
          "y": "Shortness of Breath",
          "yref": "y"
         },
         {
          "font": {
           "color": "#FFFFFF"
          },
          "showarrow": false,
          "text": "0.22",
          "x": "Wheezing",
          "xref": "x",
          "y": "Shortness of Breath",
          "yref": "y"
         },
         {
          "font": {
           "color": "#FFFFFF"
          },
          "showarrow": false,
          "text": "-0.19",
          "x": "Swallowing Difficulty",
          "xref": "x",
          "y": "Shortness of Breath",
          "yref": "y"
         },
         {
          "font": {
           "color": "#000000"
          },
          "showarrow": false,
          "text": "0.48",
          "x": "Clubbing of Finger Nails",
          "xref": "x",
          "y": "Shortness of Breath",
          "yref": "y"
         },
         {
          "font": {
           "color": "#FFFFFF"
          },
          "showarrow": false,
          "text": "0.37",
          "x": "Frequent Cold",
          "xref": "x",
          "y": "Shortness of Breath",
          "yref": "y"
         },
         {
          "font": {
           "color": "#000000"
          },
          "showarrow": false,
          "text": "0.49",
          "x": "Dry Cough",
          "xref": "x",
          "y": "Shortness of Breath",
          "yref": "y"
         },
         {
          "font": {
           "color": "#FFFFFF"
          },
          "showarrow": false,
          "text": "-0.16",
          "x": "Snoring",
          "xref": "x",
          "y": "Shortness of Breath",
          "yref": "y"
         },
         {
          "font": {
           "color": "#000000"
          },
          "showarrow": false,
          "text": "0.5",
          "x": "Level",
          "xref": "x",
          "y": "Shortness of Breath",
          "yref": "y"
         },
         {
          "font": {
           "color": "#FFFFFF"
          },
          "showarrow": false,
          "text": "-0.07",
          "x": "Age",
          "xref": "x",
          "y": "Wheezing",
          "yref": "y"
         },
         {
          "font": {
           "color": "#FFFFFF"
          },
          "showarrow": false,
          "text": "-0.08",
          "x": "Gender",
          "xref": "x",
          "y": "Wheezing",
          "yref": "y"
         },
         {
          "font": {
           "color": "#FFFFFF"
          },
          "showarrow": false,
          "text": "0.06",
          "x": "Air Pollution",
          "xref": "x",
          "y": "Wheezing",
          "yref": "y"
         },
         {
          "font": {
           "color": "#FFFFFF"
          },
          "showarrow": false,
          "text": "0.19",
          "x": "Alcohol use",
          "xref": "x",
          "y": "Wheezing",
          "yref": "y"
         },
         {
          "font": {
           "color": "#FFFFFF"
          },
          "showarrow": false,
          "text": "0.31",
          "x": "Dust Allergy",
          "xref": "x",
          "y": "Wheezing",
          "yref": "y"
         },
         {
          "font": {
           "color": "#FFFFFF"
          },
          "showarrow": false,
          "text": "0.18",
          "x": "OccuPational Hazards",
          "xref": "x",
          "y": "Wheezing",
          "yref": "y"
         },
         {
          "font": {
           "color": "#FFFFFF"
          },
          "showarrow": false,
          "text": "0.21",
          "x": "Genetic Risk",
          "xref": "x",
          "y": "Wheezing",
          "yref": "y"
         },
         {
          "font": {
           "color": "#FFFFFF"
          },
          "showarrow": false,
          "text": "0.06",
          "x": "chronic Lung Disease",
          "xref": "x",
          "y": "Wheezing",
          "yref": "y"
         },
         {
          "font": {
           "color": "#FFFFFF"
          },
          "showarrow": false,
          "text": "0.07",
          "x": "Balanced Diet",
          "xref": "x",
          "y": "Wheezing",
          "yref": "y"
         },
         {
          "font": {
           "color": "#FFFFFF"
          },
          "showarrow": false,
          "text": "0.1",
          "x": "Obesity",
          "xref": "x",
          "y": "Wheezing",
          "yref": "y"
         },
         {
          "font": {
           "color": "#FFFFFF"
          },
          "showarrow": false,
          "text": "-0.03",
          "x": "Smoking",
          "xref": "x",
          "y": "Wheezing",
          "yref": "y"
         },
         {
          "font": {
           "color": "#FFFFFF"
          },
          "showarrow": false,
          "text": "0.2",
          "x": "Passive Smoker",
          "xref": "x",
          "y": "Wheezing",
          "yref": "y"
         },
         {
          "font": {
           "color": "#FFFFFF"
          },
          "showarrow": false,
          "text": "0.11",
          "x": "Chest Pain",
          "xref": "x",
          "y": "Wheezing",
          "yref": "y"
         },
         {
          "font": {
           "color": "#FFFFFF"
          },
          "showarrow": false,
          "text": "-0.09",
          "x": "Coughing of Blood",
          "xref": "x",
          "y": "Wheezing",
          "yref": "y"
         },
         {
          "font": {
           "color": "#FFFFFF"
          },
          "showarrow": false,
          "text": "0.18",
          "x": "Fatigue",
          "xref": "x",
          "y": "Wheezing",
          "yref": "y"
         },
         {
          "font": {
           "color": "#FFFFFF"
          },
          "showarrow": false,
          "text": "0.33",
          "x": "Weight Loss",
          "xref": "x",
          "y": "Wheezing",
          "yref": "y"
         },
         {
          "font": {
           "color": "#FFFFFF"
          },
          "showarrow": false,
          "text": "0.22",
          "x": "Shortness of Breath",
          "xref": "x",
          "y": "Wheezing",
          "yref": "y"
         },
         {
          "font": {
           "color": "#000000"
          },
          "showarrow": false,
          "text": "1.0",
          "x": "Wheezing",
          "xref": "x",
          "y": "Wheezing",
          "yref": "y"
         },
         {
          "font": {
           "color": "#000000"
          },
          "showarrow": false,
          "text": "0.39",
          "x": "Swallowing Difficulty",
          "xref": "x",
          "y": "Wheezing",
          "yref": "y"
         },
         {
          "font": {
           "color": "#FFFFFF"
          },
          "showarrow": false,
          "text": "0.33",
          "x": "Clubbing of Finger Nails",
          "xref": "x",
          "y": "Wheezing",
          "yref": "y"
         },
         {
          "font": {
           "color": "#FFFFFF"
          },
          "showarrow": false,
          "text": "0.09",
          "x": "Frequent Cold",
          "xref": "x",
          "y": "Wheezing",
          "yref": "y"
         },
         {
          "font": {
           "color": "#FFFFFF"
          },
          "showarrow": false,
          "text": "0.06",
          "x": "Dry Cough",
          "xref": "x",
          "y": "Wheezing",
          "yref": "y"
         },
         {
          "font": {
           "color": "#FFFFFF"
          },
          "showarrow": false,
          "text": "0.11",
          "x": "Snoring",
          "xref": "x",
          "y": "Wheezing",
          "yref": "y"
         },
         {
          "font": {
           "color": "#FFFFFF"
          },
          "showarrow": false,
          "text": "0.24",
          "x": "Level",
          "xref": "x",
          "y": "Wheezing",
          "yref": "y"
         },
         {
          "font": {
           "color": "#FFFFFF"
          },
          "showarrow": false,
          "text": "-0.07",
          "x": "Age",
          "xref": "x",
          "y": "Swallowing Difficulty",
          "yref": "y"
         },
         {
          "font": {
           "color": "#FFFFFF"
          },
          "showarrow": false,
          "text": "-0.07",
          "x": "Gender",
          "xref": "x",
          "y": "Swallowing Difficulty",
          "yref": "y"
         },
         {
          "font": {
           "color": "#FFFFFF"
          },
          "showarrow": false,
          "text": "-0.07",
          "x": "Air Pollution",
          "xref": "x",
          "y": "Swallowing Difficulty",
          "yref": "y"
         },
         {
          "font": {
           "color": "#FFFFFF"
          },
          "showarrow": false,
          "text": "-0.11",
          "x": "Alcohol use",
          "xref": "x",
          "y": "Swallowing Difficulty",
          "yref": "y"
         },
         {
          "font": {
           "color": "#FFFFFF"
          },
          "showarrow": false,
          "text": "0.04",
          "x": "Dust Allergy",
          "xref": "x",
          "y": "Swallowing Difficulty",
          "yref": "y"
         },
         {
          "font": {
           "color": "#FFFFFF"
          },
          "showarrow": false,
          "text": "-0.0",
          "x": "OccuPational Hazards",
          "xref": "x",
          "y": "Swallowing Difficulty",
          "yref": "y"
         },
         {
          "font": {
           "color": "#FFFFFF"
          },
          "showarrow": false,
          "text": "-0.06",
          "x": "Genetic Risk",
          "xref": "x",
          "y": "Swallowing Difficulty",
          "yref": "y"
         },
         {
          "font": {
           "color": "#FFFFFF"
          },
          "showarrow": false,
          "text": "0.01",
          "x": "chronic Lung Disease",
          "xref": "x",
          "y": "Swallowing Difficulty",
          "yref": "y"
         },
         {
          "font": {
           "color": "#FFFFFF"
          },
          "showarrow": false,
          "text": "0.06",
          "x": "Balanced Diet",
          "xref": "x",
          "y": "Swallowing Difficulty",
          "yref": "y"
         },
         {
          "font": {
           "color": "#FFFFFF"
          },
          "showarrow": false,
          "text": "0.13",
          "x": "Obesity",
          "xref": "x",
          "y": "Swallowing Difficulty",
          "yref": "y"
         },
         {
          "font": {
           "color": "#FFFFFF"
          },
          "showarrow": false,
          "text": "0.26",
          "x": "Smoking",
          "xref": "x",
          "y": "Swallowing Difficulty",
          "yref": "y"
         },
         {
          "font": {
           "color": "#FFFFFF"
          },
          "showarrow": false,
          "text": "0.36",
          "x": "Passive Smoker",
          "xref": "x",
          "y": "Swallowing Difficulty",
          "yref": "y"
         },
         {
          "font": {
           "color": "#FFFFFF"
          },
          "showarrow": false,
          "text": "0.08",
          "x": "Chest Pain",
          "xref": "x",
          "y": "Swallowing Difficulty",
          "yref": "y"
         },
         {
          "font": {
           "color": "#FFFFFF"
          },
          "showarrow": false,
          "text": "0.09",
          "x": "Coughing of Blood",
          "xref": "x",
          "y": "Swallowing Difficulty",
          "yref": "y"
         },
         {
          "font": {
           "color": "#FFFFFF"
          },
          "showarrow": false,
          "text": "0.15",
          "x": "Fatigue",
          "xref": "x",
          "y": "Swallowing Difficulty",
          "yref": "y"
         },
         {
          "font": {
           "color": "#FFFFFF"
          },
          "showarrow": false,
          "text": "0.05",
          "x": "Weight Loss",
          "xref": "x",
          "y": "Swallowing Difficulty",
          "yref": "y"
         },
         {
          "font": {
           "color": "#FFFFFF"
          },
          "showarrow": false,
          "text": "-0.19",
          "x": "Shortness of Breath",
          "xref": "x",
          "y": "Swallowing Difficulty",
          "yref": "y"
         },
         {
          "font": {
           "color": "#000000"
          },
          "showarrow": false,
          "text": "0.39",
          "x": "Wheezing",
          "xref": "x",
          "y": "Swallowing Difficulty",
          "yref": "y"
         },
         {
          "font": {
           "color": "#000000"
          },
          "showarrow": false,
          "text": "1.0",
          "x": "Swallowing Difficulty",
          "xref": "x",
          "y": "Swallowing Difficulty",
          "yref": "y"
         },
         {
          "font": {
           "color": "#FFFFFF"
          },
          "showarrow": false,
          "text": "-0.13",
          "x": "Clubbing of Finger Nails",
          "xref": "x",
          "y": "Swallowing Difficulty",
          "yref": "y"
         },
         {
          "font": {
           "color": "#FFFFFF"
          },
          "showarrow": false,
          "text": "0.12",
          "x": "Frequent Cold",
          "xref": "x",
          "y": "Swallowing Difficulty",
          "yref": "y"
         },
         {
          "font": {
           "color": "#FFFFFF"
          },
          "showarrow": false,
          "text": "-0.04",
          "x": "Dry Cough",
          "xref": "x",
          "y": "Swallowing Difficulty",
          "yref": "y"
         },
         {
          "font": {
           "color": "#FFFFFF"
          },
          "showarrow": false,
          "text": "0.2",
          "x": "Snoring",
          "xref": "x",
          "y": "Swallowing Difficulty",
          "yref": "y"
         },
         {
          "font": {
           "color": "#FFFFFF"
          },
          "showarrow": false,
          "text": "0.25",
          "x": "Level",
          "xref": "x",
          "y": "Swallowing Difficulty",
          "yref": "y"
         },
         {
          "font": {
           "color": "#FFFFFF"
          },
          "showarrow": false,
          "text": "0.07",
          "x": "Age",
          "xref": "x",
          "y": "Clubbing of Finger Nails",
          "yref": "y"
         },
         {
          "font": {
           "color": "#FFFFFF"
          },
          "showarrow": false,
          "text": "-0.04",
          "x": "Gender",
          "xref": "x",
          "y": "Clubbing of Finger Nails",
          "yref": "y"
         },
         {
          "font": {
           "color": "#FFFFFF"
          },
          "showarrow": false,
          "text": "0.25",
          "x": "Air Pollution",
          "xref": "x",
          "y": "Clubbing of Finger Nails",
          "yref": "y"
         },
         {
          "font": {
           "color": "#000000"
          },
          "showarrow": false,
          "text": "0.42",
          "x": "Alcohol use",
          "xref": "x",
          "y": "Clubbing of Finger Nails",
          "yref": "y"
         },
         {
          "font": {
           "color": "#FFFFFF"
          },
          "showarrow": false,
          "text": "0.35",
          "x": "Dust Allergy",
          "xref": "x",
          "y": "Clubbing of Finger Nails",
          "yref": "y"
         },
         {
          "font": {
           "color": "#FFFFFF"
          },
          "showarrow": false,
          "text": "0.37",
          "x": "OccuPational Hazards",
          "xref": "x",
          "y": "Clubbing of Finger Nails",
          "yref": "y"
         },
         {
          "font": {
           "color": "#FFFFFF"
          },
          "showarrow": false,
          "text": "0.37",
          "x": "Genetic Risk",
          "xref": "x",
          "y": "Clubbing of Finger Nails",
          "yref": "y"
         },
         {
          "font": {
           "color": "#FFFFFF"
          },
          "showarrow": false,
          "text": "0.3",
          "x": "chronic Lung Disease",
          "xref": "x",
          "y": "Clubbing of Finger Nails",
          "yref": "y"
         },
         {
          "font": {
           "color": "#FFFFFF"
          },
          "showarrow": false,
          "text": "0.05",
          "x": "Balanced Diet",
          "xref": "x",
          "y": "Clubbing of Finger Nails",
          "yref": "y"
         },
         {
          "font": {
           "color": "#FFFFFF"
          },
          "showarrow": false,
          "text": "0.15",
          "x": "Obesity",
          "xref": "x",
          "y": "Clubbing of Finger Nails",
          "yref": "y"
         },
         {
          "font": {
           "color": "#FFFFFF"
          },
          "showarrow": false,
          "text": "-0.03",
          "x": "Smoking",
          "xref": "x",
          "y": "Clubbing of Finger Nails",
          "yref": "y"
         },
         {
          "font": {
           "color": "#FFFFFF"
          },
          "showarrow": false,
          "text": "-0.03",
          "x": "Passive Smoker",
          "xref": "x",
          "y": "Clubbing of Finger Nails",
          "yref": "y"
         },
         {
          "font": {
           "color": "#FFFFFF"
          },
          "showarrow": false,
          "text": "0.08",
          "x": "Chest Pain",
          "xref": "x",
          "y": "Clubbing of Finger Nails",
          "yref": "y"
         },
         {
          "font": {
           "color": "#FFFFFF"
          },
          "showarrow": false,
          "text": "-0.07",
          "x": "Coughing of Blood",
          "xref": "x",
          "y": "Clubbing of Finger Nails",
          "yref": "y"
         },
         {
          "font": {
           "color": "#FFFFFF"
          },
          "showarrow": false,
          "text": "0.04",
          "x": "Fatigue",
          "xref": "x",
          "y": "Clubbing of Finger Nails",
          "yref": "y"
         },
         {
          "font": {
           "color": "#FFFFFF"
          },
          "showarrow": false,
          "text": "0.37",
          "x": "Weight Loss",
          "xref": "x",
          "y": "Clubbing of Finger Nails",
          "yref": "y"
         },
         {
          "font": {
           "color": "#000000"
          },
          "showarrow": false,
          "text": "0.48",
          "x": "Shortness of Breath",
          "xref": "x",
          "y": "Clubbing of Finger Nails",
          "yref": "y"
         },
         {
          "font": {
           "color": "#FFFFFF"
          },
          "showarrow": false,
          "text": "0.33",
          "x": "Wheezing",
          "xref": "x",
          "y": "Clubbing of Finger Nails",
          "yref": "y"
         },
         {
          "font": {
           "color": "#FFFFFF"
          },
          "showarrow": false,
          "text": "-0.13",
          "x": "Swallowing Difficulty",
          "xref": "x",
          "y": "Clubbing of Finger Nails",
          "yref": "y"
         },
         {
          "font": {
           "color": "#000000"
          },
          "showarrow": false,
          "text": "1.0",
          "x": "Clubbing of Finger Nails",
          "xref": "x",
          "y": "Clubbing of Finger Nails",
          "yref": "y"
         },
         {
          "font": {
           "color": "#FFFFFF"
          },
          "showarrow": false,
          "text": "0.23",
          "x": "Frequent Cold",
          "xref": "x",
          "y": "Clubbing of Finger Nails",
          "yref": "y"
         },
         {
          "font": {
           "color": "#FFFFFF"
          },
          "showarrow": false,
          "text": "0.32",
          "x": "Dry Cough",
          "xref": "x",
          "y": "Clubbing of Finger Nails",
          "yref": "y"
         },
         {
          "font": {
           "color": "#FFFFFF"
          },
          "showarrow": false,
          "text": "-0.02",
          "x": "Snoring",
          "xref": "x",
          "y": "Clubbing of Finger Nails",
          "yref": "y"
         },
         {
          "font": {
           "color": "#FFFFFF"
          },
          "showarrow": false,
          "text": "0.28",
          "x": "Level",
          "xref": "x",
          "y": "Clubbing of Finger Nails",
          "yref": "y"
         },
         {
          "font": {
           "color": "#FFFFFF"
          },
          "showarrow": false,
          "text": "0.03",
          "x": "Age",
          "xref": "x",
          "y": "Frequent Cold",
          "yref": "y"
         },
         {
          "font": {
           "color": "#FFFFFF"
          },
          "showarrow": false,
          "text": "-0.01",
          "x": "Gender",
          "xref": "x",
          "y": "Frequent Cold",
          "yref": "y"
         },
         {
          "font": {
           "color": "#FFFFFF"
          },
          "showarrow": false,
          "text": "0.18",
          "x": "Air Pollution",
          "xref": "x",
          "y": "Frequent Cold",
          "yref": "y"
         },
         {
          "font": {
           "color": "#FFFFFF"
          },
          "showarrow": false,
          "text": "0.19",
          "x": "Alcohol use",
          "xref": "x",
          "y": "Frequent Cold",
          "yref": "y"
         },
         {
          "font": {
           "color": "#FFFFFF"
          },
          "showarrow": false,
          "text": "0.23",
          "x": "Dust Allergy",
          "xref": "x",
          "y": "Frequent Cold",
          "yref": "y"
         },
         {
          "font": {
           "color": "#FFFFFF"
          },
          "showarrow": false,
          "text": "0.08",
          "x": "OccuPational Hazards",
          "xref": "x",
          "y": "Frequent Cold",
          "yref": "y"
         },
         {
          "font": {
           "color": "#FFFFFF"
          },
          "showarrow": false,
          "text": "0.1",
          "x": "Genetic Risk",
          "xref": "x",
          "y": "Frequent Cold",
          "yref": "y"
         },
         {
          "font": {
           "color": "#FFFFFF"
          },
          "showarrow": false,
          "text": "0.03",
          "x": "chronic Lung Disease",
          "xref": "x",
          "y": "Frequent Cold",
          "yref": "y"
         },
         {
          "font": {
           "color": "#FFFFFF"
          },
          "showarrow": false,
          "text": "0.28",
          "x": "Balanced Diet",
          "xref": "x",
          "y": "Frequent Cold",
          "yref": "y"
         },
         {
          "font": {
           "color": "#FFFFFF"
          },
          "showarrow": false,
          "text": "0.29",
          "x": "Obesity",
          "xref": "x",
          "y": "Frequent Cold",
          "yref": "y"
         },
         {
          "font": {
           "color": "#FFFFFF"
          },
          "showarrow": false,
          "text": "0.06",
          "x": "Smoking",
          "xref": "x",
          "y": "Frequent Cold",
          "yref": "y"
         },
         {
          "font": {
           "color": "#FFFFFF"
          },
          "showarrow": false,
          "text": "0.11",
          "x": "Passive Smoker",
          "xref": "x",
          "y": "Frequent Cold",
          "yref": "y"
         },
         {
          "font": {
           "color": "#FFFFFF"
          },
          "showarrow": false,
          "text": "0.05",
          "x": "Chest Pain",
          "xref": "x",
          "y": "Frequent Cold",
          "yref": "y"
         },
         {
          "font": {
           "color": "#FFFFFF"
          },
          "showarrow": false,
          "text": "0.25",
          "x": "Coughing of Blood",
          "xref": "x",
          "y": "Frequent Cold",
          "yref": "y"
         },
         {
          "font": {
           "color": "#000000"
          },
          "showarrow": false,
          "text": "0.41",
          "x": "Fatigue",
          "xref": "x",
          "y": "Frequent Cold",
          "yref": "y"
         },
         {
          "font": {
           "color": "#FFFFFF"
          },
          "showarrow": false,
          "text": "0.16",
          "x": "Weight Loss",
          "xref": "x",
          "y": "Frequent Cold",
          "yref": "y"
         },
         {
          "font": {
           "color": "#FFFFFF"
          },
          "showarrow": false,
          "text": "0.37",
          "x": "Shortness of Breath",
          "xref": "x",
          "y": "Frequent Cold",
          "yref": "y"
         },
         {
          "font": {
           "color": "#FFFFFF"
          },
          "showarrow": false,
          "text": "0.09",
          "x": "Wheezing",
          "xref": "x",
          "y": "Frequent Cold",
          "yref": "y"
         },
         {
          "font": {
           "color": "#FFFFFF"
          },
          "showarrow": false,
          "text": "0.12",
          "x": "Swallowing Difficulty",
          "xref": "x",
          "y": "Frequent Cold",
          "yref": "y"
         },
         {
          "font": {
           "color": "#FFFFFF"
          },
          "showarrow": false,
          "text": "0.23",
          "x": "Clubbing of Finger Nails",
          "xref": "x",
          "y": "Frequent Cold",
          "yref": "y"
         },
         {
          "font": {
           "color": "#000000"
          },
          "showarrow": false,
          "text": "1.0",
          "x": "Frequent Cold",
          "xref": "x",
          "y": "Frequent Cold",
          "yref": "y"
         },
         {
          "font": {
           "color": "#000000"
          },
          "showarrow": false,
          "text": "0.54",
          "x": "Dry Cough",
          "xref": "x",
          "y": "Frequent Cold",
          "yref": "y"
         },
         {
          "font": {
           "color": "#FFFFFF"
          },
          "showarrow": false,
          "text": "0.33",
          "x": "Snoring",
          "xref": "x",
          "y": "Frequent Cold",
          "yref": "y"
         },
         {
          "font": {
           "color": "#000000"
          },
          "showarrow": false,
          "text": "0.45",
          "x": "Level",
          "xref": "x",
          "y": "Frequent Cold",
          "yref": "y"
         },
         {
          "font": {
           "color": "#FFFFFF"
          },
          "showarrow": false,
          "text": "-0.02",
          "x": "Age",
          "xref": "x",
          "y": "Dry Cough",
          "yref": "y"
         },
         {
          "font": {
           "color": "#FFFFFF"
          },
          "showarrow": false,
          "text": "-0.12",
          "x": "Gender",
          "xref": "x",
          "y": "Dry Cough",
          "yref": "y"
         },
         {
          "font": {
           "color": "#FFFFFF"
          },
          "showarrow": false,
          "text": "0.26",
          "x": "Air Pollution",
          "xref": "x",
          "y": "Dry Cough",
          "yref": "y"
         },
         {
          "font": {
           "color": "#FFFFFF"
          },
          "showarrow": false,
          "text": "0.21",
          "x": "Alcohol use",
          "xref": "x",
          "y": "Dry Cough",
          "yref": "y"
         },
         {
          "font": {
           "color": "#FFFFFF"
          },
          "showarrow": false,
          "text": "0.3",
          "x": "Dust Allergy",
          "xref": "x",
          "y": "Dry Cough",
          "yref": "y"
         },
         {
          "font": {
           "color": "#FFFFFF"
          },
          "showarrow": false,
          "text": "0.16",
          "x": "OccuPational Hazards",
          "xref": "x",
          "y": "Dry Cough",
          "yref": "y"
         },
         {
          "font": {
           "color": "#FFFFFF"
          },
          "showarrow": false,
          "text": "0.19",
          "x": "Genetic Risk",
          "xref": "x",
          "y": "Dry Cough",
          "yref": "y"
         },
         {
          "font": {
           "color": "#FFFFFF"
          },
          "showarrow": false,
          "text": "0.11",
          "x": "chronic Lung Disease",
          "xref": "x",
          "y": "Dry Cough",
          "yref": "y"
         },
         {
          "font": {
           "color": "#FFFFFF"
          },
          "showarrow": false,
          "text": "0.33",
          "x": "Balanced Diet",
          "xref": "x",
          "y": "Dry Cough",
          "yref": "y"
         },
         {
          "font": {
           "color": "#FFFFFF"
          },
          "showarrow": false,
          "text": "0.2",
          "x": "Obesity",
          "xref": "x",
          "y": "Dry Cough",
          "yref": "y"
         },
         {
          "font": {
           "color": "#FFFFFF"
          },
          "showarrow": false,
          "text": "-0.01",
          "x": "Smoking",
          "xref": "x",
          "y": "Dry Cough",
          "yref": "y"
         },
         {
          "font": {
           "color": "#FFFFFF"
          },
          "showarrow": false,
          "text": "0.12",
          "x": "Passive Smoker",
          "xref": "x",
          "y": "Dry Cough",
          "yref": "y"
         },
         {
          "font": {
           "color": "#FFFFFF"
          },
          "showarrow": false,
          "text": "0.14",
          "x": "Chest Pain",
          "xref": "x",
          "y": "Dry Cough",
          "yref": "y"
         },
         {
          "font": {
           "color": "#FFFFFF"
          },
          "showarrow": false,
          "text": "0.15",
          "x": "Coughing of Blood",
          "xref": "x",
          "y": "Dry Cough",
          "yref": "y"
         },
         {
          "font": {
           "color": "#FFFFFF"
          },
          "showarrow": false,
          "text": "0.27",
          "x": "Fatigue",
          "xref": "x",
          "y": "Dry Cough",
          "yref": "y"
         },
         {
          "font": {
           "color": "#FFFFFF"
          },
          "showarrow": false,
          "text": "0.19",
          "x": "Weight Loss",
          "xref": "x",
          "y": "Dry Cough",
          "yref": "y"
         },
         {
          "font": {
           "color": "#000000"
          },
          "showarrow": false,
          "text": "0.49",
          "x": "Shortness of Breath",
          "xref": "x",
          "y": "Dry Cough",
          "yref": "y"
         },
         {
          "font": {
           "color": "#FFFFFF"
          },
          "showarrow": false,
          "text": "0.06",
          "x": "Wheezing",
          "xref": "x",
          "y": "Dry Cough",
          "yref": "y"
         },
         {
          "font": {
           "color": "#FFFFFF"
          },
          "showarrow": false,
          "text": "-0.04",
          "x": "Swallowing Difficulty",
          "xref": "x",
          "y": "Dry Cough",
          "yref": "y"
         },
         {
          "font": {
           "color": "#FFFFFF"
          },
          "showarrow": false,
          "text": "0.32",
          "x": "Clubbing of Finger Nails",
          "xref": "x",
          "y": "Dry Cough",
          "yref": "y"
         },
         {
          "font": {
           "color": "#000000"
          },
          "showarrow": false,
          "text": "0.54",
          "x": "Frequent Cold",
          "xref": "x",
          "y": "Dry Cough",
          "yref": "y"
         },
         {
          "font": {
           "color": "#000000"
          },
          "showarrow": false,
          "text": "1.0",
          "x": "Dry Cough",
          "xref": "x",
          "y": "Dry Cough",
          "yref": "y"
         },
         {
          "font": {
           "color": "#FFFFFF"
          },
          "showarrow": false,
          "text": "0.18",
          "x": "Snoring",
          "xref": "x",
          "y": "Dry Cough",
          "yref": "y"
         },
         {
          "font": {
           "color": "#FFFFFF"
          },
          "showarrow": false,
          "text": "0.38",
          "x": "Level",
          "xref": "x",
          "y": "Dry Cough",
          "yref": "y"
         },
         {
          "font": {
           "color": "#FFFFFF"
          },
          "showarrow": false,
          "text": "0.01",
          "x": "Age",
          "xref": "x",
          "y": "Snoring",
          "yref": "y"
         },
         {
          "font": {
           "color": "#FFFFFF"
          },
          "showarrow": false,
          "text": "-0.19",
          "x": "Gender",
          "xref": "x",
          "y": "Snoring",
          "yref": "y"
         },
         {
          "font": {
           "color": "#FFFFFF"
          },
          "showarrow": false,
          "text": "-0.02",
          "x": "Air Pollution",
          "xref": "x",
          "y": "Snoring",
          "yref": "y"
         },
         {
          "font": {
           "color": "#FFFFFF"
          },
          "showarrow": false,
          "text": "0.13",
          "x": "Alcohol use",
          "xref": "x",
          "y": "Snoring",
          "yref": "y"
         },
         {
          "font": {
           "color": "#FFFFFF"
          },
          "showarrow": false,
          "text": "0.06",
          "x": "Dust Allergy",
          "xref": "x",
          "y": "Snoring",
          "yref": "y"
         },
         {
          "font": {
           "color": "#FFFFFF"
          },
          "showarrow": false,
          "text": "0.02",
          "x": "OccuPational Hazards",
          "xref": "x",
          "y": "Snoring",
          "yref": "y"
         },
         {
          "font": {
           "color": "#FFFFFF"
          },
          "showarrow": false,
          "text": "-0.05",
          "x": "Genetic Risk",
          "xref": "x",
          "y": "Snoring",
          "yref": "y"
         },
         {
          "font": {
           "color": "#FFFFFF"
          },
          "showarrow": false,
          "text": "0.05",
          "x": "chronic Lung Disease",
          "xref": "x",
          "y": "Snoring",
          "yref": "y"
         },
         {
          "font": {
           "color": "#FFFFFF"
          },
          "showarrow": false,
          "text": "0.16",
          "x": "Balanced Diet",
          "xref": "x",
          "y": "Snoring",
          "yref": "y"
         },
         {
          "font": {
           "color": "#FFFFFF"
          },
          "showarrow": false,
          "text": "0.04",
          "x": "Obesity",
          "xref": "x",
          "y": "Snoring",
          "yref": "y"
         },
         {
          "font": {
           "color": "#FFFFFF"
          },
          "showarrow": false,
          "text": "0.2",
          "x": "Smoking",
          "xref": "x",
          "y": "Snoring",
          "yref": "y"
         },
         {
          "font": {
           "color": "#FFFFFF"
          },
          "showarrow": false,
          "text": "0.25",
          "x": "Passive Smoker",
          "xref": "x",
          "y": "Snoring",
          "yref": "y"
         },
         {
          "font": {
           "color": "#FFFFFF"
          },
          "showarrow": false,
          "text": "0.14",
          "x": "Chest Pain",
          "xref": "x",
          "y": "Snoring",
          "yref": "y"
         },
         {
          "font": {
           "color": "#FFFFFF"
          },
          "showarrow": false,
          "text": "0.09",
          "x": "Coughing of Blood",
          "xref": "x",
          "y": "Snoring",
          "yref": "y"
         },
         {
          "font": {
           "color": "#FFFFFF"
          },
          "showarrow": false,
          "text": "0.23",
          "x": "Fatigue",
          "xref": "x",
          "y": "Snoring",
          "yref": "y"
         },
         {
          "font": {
           "color": "#FFFFFF"
          },
          "showarrow": false,
          "text": "-0.19",
          "x": "Weight Loss",
          "xref": "x",
          "y": "Snoring",
          "yref": "y"
         },
         {
          "font": {
           "color": "#FFFFFF"
          },
          "showarrow": false,
          "text": "-0.16",
          "x": "Shortness of Breath",
          "xref": "x",
          "y": "Snoring",
          "yref": "y"
         },
         {
          "font": {
           "color": "#FFFFFF"
          },
          "showarrow": false,
          "text": "0.11",
          "x": "Wheezing",
          "xref": "x",
          "y": "Snoring",
          "yref": "y"
         },
         {
          "font": {
           "color": "#FFFFFF"
          },
          "showarrow": false,
          "text": "0.2",
          "x": "Swallowing Difficulty",
          "xref": "x",
          "y": "Snoring",
          "yref": "y"
         },
         {
          "font": {
           "color": "#FFFFFF"
          },
          "showarrow": false,
          "text": "-0.02",
          "x": "Clubbing of Finger Nails",
          "xref": "x",
          "y": "Snoring",
          "yref": "y"
         },
         {
          "font": {
           "color": "#FFFFFF"
          },
          "showarrow": false,
          "text": "0.33",
          "x": "Frequent Cold",
          "xref": "x",
          "y": "Snoring",
          "yref": "y"
         },
         {
          "font": {
           "color": "#FFFFFF"
          },
          "showarrow": false,
          "text": "0.18",
          "x": "Dry Cough",
          "xref": "x",
          "y": "Snoring",
          "yref": "y"
         },
         {
          "font": {
           "color": "#000000"
          },
          "showarrow": false,
          "text": "1.0",
          "x": "Snoring",
          "xref": "x",
          "y": "Snoring",
          "yref": "y"
         },
         {
          "font": {
           "color": "#FFFFFF"
          },
          "showarrow": false,
          "text": "0.29",
          "x": "Level",
          "xref": "x",
          "y": "Snoring",
          "yref": "y"
         },
         {
          "font": {
           "color": "#FFFFFF"
          },
          "showarrow": false,
          "text": "0.07",
          "x": "Age",
          "xref": "x",
          "y": "Level",
          "yref": "y"
         },
         {
          "font": {
           "color": "#FFFFFF"
          },
          "showarrow": false,
          "text": "-0.17",
          "x": "Gender",
          "xref": "x",
          "y": "Level",
          "yref": "y"
         },
         {
          "font": {
           "color": "#000000"
          },
          "showarrow": false,
          "text": "0.64",
          "x": "Air Pollution",
          "xref": "x",
          "y": "Level",
          "yref": "y"
         },
         {
          "font": {
           "color": "#000000"
          },
          "showarrow": false,
          "text": "0.72",
          "x": "Alcohol use",
          "xref": "x",
          "y": "Level",
          "yref": "y"
         },
         {
          "font": {
           "color": "#000000"
          },
          "showarrow": false,
          "text": "0.71",
          "x": "Dust Allergy",
          "xref": "x",
          "y": "Level",
          "yref": "y"
         },
         {
          "font": {
           "color": "#000000"
          },
          "showarrow": false,
          "text": "0.67",
          "x": "OccuPational Hazards",
          "xref": "x",
          "y": "Level",
          "yref": "y"
         },
         {
          "font": {
           "color": "#000000"
          },
          "showarrow": false,
          "text": "0.7",
          "x": "Genetic Risk",
          "xref": "x",
          "y": "Level",
          "yref": "y"
         },
         {
          "font": {
           "color": "#000000"
          },
          "showarrow": false,
          "text": "0.61",
          "x": "chronic Lung Disease",
          "xref": "x",
          "y": "Level",
          "yref": "y"
         },
         {
          "font": {
           "color": "#000000"
          },
          "showarrow": false,
          "text": "0.71",
          "x": "Balanced Diet",
          "xref": "x",
          "y": "Level",
          "yref": "y"
         },
         {
          "font": {
           "color": "#000000"
          },
          "showarrow": false,
          "text": "0.83",
          "x": "Obesity",
          "xref": "x",
          "y": "Level",
          "yref": "y"
         },
         {
          "font": {
           "color": "#000000"
          },
          "showarrow": false,
          "text": "0.53",
          "x": "Smoking",
          "xref": "x",
          "y": "Level",
          "yref": "y"
         },
         {
          "font": {
           "color": "#000000"
          },
          "showarrow": false,
          "text": "0.7",
          "x": "Passive Smoker",
          "xref": "x",
          "y": "Level",
          "yref": "y"
         },
         {
          "font": {
           "color": "#000000"
          },
          "showarrow": false,
          "text": "0.65",
          "x": "Chest Pain",
          "xref": "x",
          "y": "Level",
          "yref": "y"
         },
         {
          "font": {
           "color": "#000000"
          },
          "showarrow": false,
          "text": "0.78",
          "x": "Coughing of Blood",
          "xref": "x",
          "y": "Level",
          "yref": "y"
         },
         {
          "font": {
           "color": "#000000"
          },
          "showarrow": false,
          "text": "0.63",
          "x": "Fatigue",
          "xref": "x",
          "y": "Level",
          "yref": "y"
         },
         {
          "font": {
           "color": "#FFFFFF"
          },
          "showarrow": false,
          "text": "0.35",
          "x": "Weight Loss",
          "xref": "x",
          "y": "Level",
          "yref": "y"
         },
         {
          "font": {
           "color": "#000000"
          },
          "showarrow": false,
          "text": "0.5",
          "x": "Shortness of Breath",
          "xref": "x",
          "y": "Level",
          "yref": "y"
         },
         {
          "font": {
           "color": "#FFFFFF"
          },
          "showarrow": false,
          "text": "0.24",
          "x": "Wheezing",
          "xref": "x",
          "y": "Level",
          "yref": "y"
         },
         {
          "font": {
           "color": "#FFFFFF"
          },
          "showarrow": false,
          "text": "0.25",
          "x": "Swallowing Difficulty",
          "xref": "x",
          "y": "Level",
          "yref": "y"
         },
         {
          "font": {
           "color": "#FFFFFF"
          },
          "showarrow": false,
          "text": "0.28",
          "x": "Clubbing of Finger Nails",
          "xref": "x",
          "y": "Level",
          "yref": "y"
         },
         {
          "font": {
           "color": "#000000"
          },
          "showarrow": false,
          "text": "0.45",
          "x": "Frequent Cold",
          "xref": "x",
          "y": "Level",
          "yref": "y"
         },
         {
          "font": {
           "color": "#FFFFFF"
          },
          "showarrow": false,
          "text": "0.38",
          "x": "Dry Cough",
          "xref": "x",
          "y": "Level",
          "yref": "y"
         },
         {
          "font": {
           "color": "#FFFFFF"
          },
          "showarrow": false,
          "text": "0.29",
          "x": "Snoring",
          "xref": "x",
          "y": "Level",
          "yref": "y"
         },
         {
          "font": {
           "color": "#000000"
          },
          "showarrow": false,
          "text": "1.0",
          "x": "Level",
          "xref": "x",
          "y": "Level",
          "yref": "y"
         }
        ],
        "template": {
         "data": {
          "bar": [
           {
            "error_x": {
             "color": "#2a3f5f"
            },
            "error_y": {
             "color": "#2a3f5f"
            },
            "marker": {
             "line": {
              "color": "#E5ECF6",
              "width": 0.5
             },
             "pattern": {
              "fillmode": "overlay",
              "size": 10,
              "solidity": 0.2
             }
            },
            "type": "bar"
           }
          ],
          "barpolar": [
           {
            "marker": {
             "line": {
              "color": "#E5ECF6",
              "width": 0.5
             },
             "pattern": {
              "fillmode": "overlay",
              "size": 10,
              "solidity": 0.2
             }
            },
            "type": "barpolar"
           }
          ],
          "carpet": [
           {
            "aaxis": {
             "endlinecolor": "#2a3f5f",
             "gridcolor": "white",
             "linecolor": "white",
             "minorgridcolor": "white",
             "startlinecolor": "#2a3f5f"
            },
            "baxis": {
             "endlinecolor": "#2a3f5f",
             "gridcolor": "white",
             "linecolor": "white",
             "minorgridcolor": "white",
             "startlinecolor": "#2a3f5f"
            },
            "type": "carpet"
           }
          ],
          "choropleth": [
           {
            "colorbar": {
             "outlinewidth": 0,
             "ticks": ""
            },
            "type": "choropleth"
           }
          ],
          "contour": [
           {
            "colorbar": {
             "outlinewidth": 0,
             "ticks": ""
            },
            "colorscale": [
             [
              0,
              "#0d0887"
             ],
             [
              0.1111111111111111,
              "#46039f"
             ],
             [
              0.2222222222222222,
              "#7201a8"
             ],
             [
              0.3333333333333333,
              "#9c179e"
             ],
             [
              0.4444444444444444,
              "#bd3786"
             ],
             [
              0.5555555555555556,
              "#d8576b"
             ],
             [
              0.6666666666666666,
              "#ed7953"
             ],
             [
              0.7777777777777778,
              "#fb9f3a"
             ],
             [
              0.8888888888888888,
              "#fdca26"
             ],
             [
              1,
              "#f0f921"
             ]
            ],
            "type": "contour"
           }
          ],
          "contourcarpet": [
           {
            "colorbar": {
             "outlinewidth": 0,
             "ticks": ""
            },
            "type": "contourcarpet"
           }
          ],
          "heatmap": [
           {
            "colorbar": {
             "outlinewidth": 0,
             "ticks": ""
            },
            "colorscale": [
             [
              0,
              "#0d0887"
             ],
             [
              0.1111111111111111,
              "#46039f"
             ],
             [
              0.2222222222222222,
              "#7201a8"
             ],
             [
              0.3333333333333333,
              "#9c179e"
             ],
             [
              0.4444444444444444,
              "#bd3786"
             ],
             [
              0.5555555555555556,
              "#d8576b"
             ],
             [
              0.6666666666666666,
              "#ed7953"
             ],
             [
              0.7777777777777778,
              "#fb9f3a"
             ],
             [
              0.8888888888888888,
              "#fdca26"
             ],
             [
              1,
              "#f0f921"
             ]
            ],
            "type": "heatmap"
           }
          ],
          "heatmapgl": [
           {
            "colorbar": {
             "outlinewidth": 0,
             "ticks": ""
            },
            "colorscale": [
             [
              0,
              "#0d0887"
             ],
             [
              0.1111111111111111,
              "#46039f"
             ],
             [
              0.2222222222222222,
              "#7201a8"
             ],
             [
              0.3333333333333333,
              "#9c179e"
             ],
             [
              0.4444444444444444,
              "#bd3786"
             ],
             [
              0.5555555555555556,
              "#d8576b"
             ],
             [
              0.6666666666666666,
              "#ed7953"
             ],
             [
              0.7777777777777778,
              "#fb9f3a"
             ],
             [
              0.8888888888888888,
              "#fdca26"
             ],
             [
              1,
              "#f0f921"
             ]
            ],
            "type": "heatmapgl"
           }
          ],
          "histogram": [
           {
            "marker": {
             "pattern": {
              "fillmode": "overlay",
              "size": 10,
              "solidity": 0.2
             }
            },
            "type": "histogram"
           }
          ],
          "histogram2d": [
           {
            "colorbar": {
             "outlinewidth": 0,
             "ticks": ""
            },
            "colorscale": [
             [
              0,
              "#0d0887"
             ],
             [
              0.1111111111111111,
              "#46039f"
             ],
             [
              0.2222222222222222,
              "#7201a8"
             ],
             [
              0.3333333333333333,
              "#9c179e"
             ],
             [
              0.4444444444444444,
              "#bd3786"
             ],
             [
              0.5555555555555556,
              "#d8576b"
             ],
             [
              0.6666666666666666,
              "#ed7953"
             ],
             [
              0.7777777777777778,
              "#fb9f3a"
             ],
             [
              0.8888888888888888,
              "#fdca26"
             ],
             [
              1,
              "#f0f921"
             ]
            ],
            "type": "histogram2d"
           }
          ],
          "histogram2dcontour": [
           {
            "colorbar": {
             "outlinewidth": 0,
             "ticks": ""
            },
            "colorscale": [
             [
              0,
              "#0d0887"
             ],
             [
              0.1111111111111111,
              "#46039f"
             ],
             [
              0.2222222222222222,
              "#7201a8"
             ],
             [
              0.3333333333333333,
              "#9c179e"
             ],
             [
              0.4444444444444444,
              "#bd3786"
             ],
             [
              0.5555555555555556,
              "#d8576b"
             ],
             [
              0.6666666666666666,
              "#ed7953"
             ],
             [
              0.7777777777777778,
              "#fb9f3a"
             ],
             [
              0.8888888888888888,
              "#fdca26"
             ],
             [
              1,
              "#f0f921"
             ]
            ],
            "type": "histogram2dcontour"
           }
          ],
          "mesh3d": [
           {
            "colorbar": {
             "outlinewidth": 0,
             "ticks": ""
            },
            "type": "mesh3d"
           }
          ],
          "parcoords": [
           {
            "line": {
             "colorbar": {
              "outlinewidth": 0,
              "ticks": ""
             }
            },
            "type": "parcoords"
           }
          ],
          "pie": [
           {
            "automargin": true,
            "type": "pie"
           }
          ],
          "scatter": [
           {
            "fillpattern": {
             "fillmode": "overlay",
             "size": 10,
             "solidity": 0.2
            },
            "type": "scatter"
           }
          ],
          "scatter3d": [
           {
            "line": {
             "colorbar": {
              "outlinewidth": 0,
              "ticks": ""
             }
            },
            "marker": {
             "colorbar": {
              "outlinewidth": 0,
              "ticks": ""
             }
            },
            "type": "scatter3d"
           }
          ],
          "scattercarpet": [
           {
            "marker": {
             "colorbar": {
              "outlinewidth": 0,
              "ticks": ""
             }
            },
            "type": "scattercarpet"
           }
          ],
          "scattergeo": [
           {
            "marker": {
             "colorbar": {
              "outlinewidth": 0,
              "ticks": ""
             }
            },
            "type": "scattergeo"
           }
          ],
          "scattergl": [
           {
            "marker": {
             "colorbar": {
              "outlinewidth": 0,
              "ticks": ""
             }
            },
            "type": "scattergl"
           }
          ],
          "scattermapbox": [
           {
            "marker": {
             "colorbar": {
              "outlinewidth": 0,
              "ticks": ""
             }
            },
            "type": "scattermapbox"
           }
          ],
          "scatterpolar": [
           {
            "marker": {
             "colorbar": {
              "outlinewidth": 0,
              "ticks": ""
             }
            },
            "type": "scatterpolar"
           }
          ],
          "scatterpolargl": [
           {
            "marker": {
             "colorbar": {
              "outlinewidth": 0,
              "ticks": ""
             }
            },
            "type": "scatterpolargl"
           }
          ],
          "scatterternary": [
           {
            "marker": {
             "colorbar": {
              "outlinewidth": 0,
              "ticks": ""
             }
            },
            "type": "scatterternary"
           }
          ],
          "surface": [
           {
            "colorbar": {
             "outlinewidth": 0,
             "ticks": ""
            },
            "colorscale": [
             [
              0,
              "#0d0887"
             ],
             [
              0.1111111111111111,
              "#46039f"
             ],
             [
              0.2222222222222222,
              "#7201a8"
             ],
             [
              0.3333333333333333,
              "#9c179e"
             ],
             [
              0.4444444444444444,
              "#bd3786"
             ],
             [
              0.5555555555555556,
              "#d8576b"
             ],
             [
              0.6666666666666666,
              "#ed7953"
             ],
             [
              0.7777777777777778,
              "#fb9f3a"
             ],
             [
              0.8888888888888888,
              "#fdca26"
             ],
             [
              1,
              "#f0f921"
             ]
            ],
            "type": "surface"
           }
          ],
          "table": [
           {
            "cells": {
             "fill": {
              "color": "#EBF0F8"
             },
             "line": {
              "color": "white"
             }
            },
            "header": {
             "fill": {
              "color": "#C8D4E3"
             },
             "line": {
              "color": "white"
             }
            },
            "type": "table"
           }
          ]
         },
         "layout": {
          "annotationdefaults": {
           "arrowcolor": "#2a3f5f",
           "arrowhead": 0,
           "arrowwidth": 1
          },
          "autotypenumbers": "strict",
          "coloraxis": {
           "colorbar": {
            "outlinewidth": 0,
            "ticks": ""
           }
          },
          "colorscale": {
           "diverging": [
            [
             0,
             "#8e0152"
            ],
            [
             0.1,
             "#c51b7d"
            ],
            [
             0.2,
             "#de77ae"
            ],
            [
             0.3,
             "#f1b6da"
            ],
            [
             0.4,
             "#fde0ef"
            ],
            [
             0.5,
             "#f7f7f7"
            ],
            [
             0.6,
             "#e6f5d0"
            ],
            [
             0.7,
             "#b8e186"
            ],
            [
             0.8,
             "#7fbc41"
            ],
            [
             0.9,
             "#4d9221"
            ],
            [
             1,
             "#276419"
            ]
           ],
           "sequential": [
            [
             0,
             "#0d0887"
            ],
            [
             0.1111111111111111,
             "#46039f"
            ],
            [
             0.2222222222222222,
             "#7201a8"
            ],
            [
             0.3333333333333333,
             "#9c179e"
            ],
            [
             0.4444444444444444,
             "#bd3786"
            ],
            [
             0.5555555555555556,
             "#d8576b"
            ],
            [
             0.6666666666666666,
             "#ed7953"
            ],
            [
             0.7777777777777778,
             "#fb9f3a"
            ],
            [
             0.8888888888888888,
             "#fdca26"
            ],
            [
             1,
             "#f0f921"
            ]
           ],
           "sequentialminus": [
            [
             0,
             "#0d0887"
            ],
            [
             0.1111111111111111,
             "#46039f"
            ],
            [
             0.2222222222222222,
             "#7201a8"
            ],
            [
             0.3333333333333333,
             "#9c179e"
            ],
            [
             0.4444444444444444,
             "#bd3786"
            ],
            [
             0.5555555555555556,
             "#d8576b"
            ],
            [
             0.6666666666666666,
             "#ed7953"
            ],
            [
             0.7777777777777778,
             "#fb9f3a"
            ],
            [
             0.8888888888888888,
             "#fdca26"
            ],
            [
             1,
             "#f0f921"
            ]
           ]
          },
          "colorway": [
           "#636efa",
           "#EF553B",
           "#00cc96",
           "#ab63fa",
           "#FFA15A",
           "#19d3f3",
           "#FF6692",
           "#B6E880",
           "#FF97FF",
           "#FECB52"
          ],
          "font": {
           "color": "#2a3f5f"
          },
          "geo": {
           "bgcolor": "white",
           "lakecolor": "white",
           "landcolor": "#E5ECF6",
           "showlakes": true,
           "showland": true,
           "subunitcolor": "white"
          },
          "hoverlabel": {
           "align": "left"
          },
          "hovermode": "closest",
          "mapbox": {
           "style": "light"
          },
          "paper_bgcolor": "white",
          "plot_bgcolor": "#E5ECF6",
          "polar": {
           "angularaxis": {
            "gridcolor": "white",
            "linecolor": "white",
            "ticks": ""
           },
           "bgcolor": "#E5ECF6",
           "radialaxis": {
            "gridcolor": "white",
            "linecolor": "white",
            "ticks": ""
           }
          },
          "scene": {
           "xaxis": {
            "backgroundcolor": "#E5ECF6",
            "gridcolor": "white",
            "gridwidth": 2,
            "linecolor": "white",
            "showbackground": true,
            "ticks": "",
            "zerolinecolor": "white"
           },
           "yaxis": {
            "backgroundcolor": "#E5ECF6",
            "gridcolor": "white",
            "gridwidth": 2,
            "linecolor": "white",
            "showbackground": true,
            "ticks": "",
            "zerolinecolor": "white"
           },
           "zaxis": {
            "backgroundcolor": "#E5ECF6",
            "gridcolor": "white",
            "gridwidth": 2,
            "linecolor": "white",
            "showbackground": true,
            "ticks": "",
            "zerolinecolor": "white"
           }
          },
          "shapedefaults": {
           "line": {
            "color": "#2a3f5f"
           }
          },
          "ternary": {
           "aaxis": {
            "gridcolor": "white",
            "linecolor": "white",
            "ticks": ""
           },
           "baxis": {
            "gridcolor": "white",
            "linecolor": "white",
            "ticks": ""
           },
           "bgcolor": "#E5ECF6",
           "caxis": {
            "gridcolor": "white",
            "linecolor": "white",
            "ticks": ""
           }
          },
          "title": {
           "x": 0.05
          },
          "xaxis": {
           "automargin": true,
           "gridcolor": "white",
           "linecolor": "white",
           "ticks": "",
           "title": {
            "standoff": 15
           },
           "zerolinecolor": "white",
           "zerolinewidth": 2
          },
          "yaxis": {
           "automargin": true,
           "gridcolor": "white",
           "linecolor": "white",
           "ticks": "",
           "title": {
            "standoff": 15
           },
           "zerolinecolor": "white",
           "zerolinewidth": 2
          }
         }
        },
        "xaxis": {
         "dtick": 1,
         "gridcolor": "rgb(0, 0, 0)",
         "side": "top",
         "ticks": ""
        },
        "yaxis": {
         "dtick": 1,
         "ticks": "",
         "ticksuffix": "  "
        }
       }
      },
      "text/html": [
       "<div>                            <div id=\"ed4a9952-f449-41bc-84e6-ca02eaedf15d\" class=\"plotly-graph-div\" style=\"height:525px; width:100%;\"></div>            <script type=\"text/javascript\">                require([\"plotly\"], function(Plotly) {                    window.PLOTLYENV=window.PLOTLYENV || {};                                    if (document.getElementById(\"ed4a9952-f449-41bc-84e6-ca02eaedf15d\")) {                    Plotly.newPlot(                        \"ed4a9952-f449-41bc-84e6-ca02eaedf15d\",                        [{\"colorscale\":[[0.0,\"#0d0887\"],[0.1111111111111111,\"#46039f\"],[0.2222222222222222,\"#7201a8\"],[0.3333333333333333,\"#9c179e\"],[0.4444444444444444,\"#bd3786\"],[0.5555555555555556,\"#d8576b\"],[0.6666666666666666,\"#ed7953\"],[0.7777777777777778,\"#fb9f3a\"],[0.8888888888888888,\"#fdca26\"],[1.0,\"#f0f921\"]],\"reversescale\":false,\"showscale\":true,\"x\":[\"Age\",\"Gender\",\"Air Pollution\",\"Alcohol use\",\"Dust Allergy\",\"OccuPational Hazards\",\"Genetic Risk\",\"chronic Lung Disease\",\"Balanced Diet\",\"Obesity\",\"Smoking\",\"Passive Smoker\",\"Chest Pain\",\"Coughing of Blood\",\"Fatigue\",\"Weight Loss\",\"Shortness of Breath\",\"Wheezing\",\"Swallowing Difficulty\",\"Clubbing of Finger Nails\",\"Frequent Cold\",\"Dry Cough\",\"Snoring\",\"Level\"],\"y\":[\"Age\",\"Gender\",\"Air Pollution\",\"Alcohol use\",\"Dust Allergy\",\"OccuPational Hazards\",\"Genetic Risk\",\"chronic Lung Disease\",\"Balanced Diet\",\"Obesity\",\"Smoking\",\"Passive Smoker\",\"Chest Pain\",\"Coughing of Blood\",\"Fatigue\",\"Weight Loss\",\"Shortness of Breath\",\"Wheezing\",\"Swallowing Difficulty\",\"Clubbing of Finger Nails\",\"Frequent Cold\",\"Dry Cough\",\"Snoring\",\"Level\"],\"z\":[[1.0,-0.186561983457556,0.08637216416730246,0.14194266122627136,0.023589888974991407,0.06278184317619367,0.055693146522795375,0.12464293367254632,-0.01729593902874378,0.028041160707227685,0.02799634822818949,-0.005873189359212287,0.0056907752575371265,0.05373105462412332,0.09762368710333658,0.12446284650979843,0.01271195175872485,-0.07271263536408382,-0.07323212561735352,0.06684509377204485,0.03075242477289769,-0.02070875055406418,0.014964770354691083,0.0653556719182102],[-0.186561983457556,1.0,-0.2434063539131674,-0.22419450669215718,-0.20168585948201395,-0.19237427302305857,-0.2184296021384453,-0.20308729639316686,-0.09444514081667872,-0.1221809434249856,-0.1967721252759421,-0.18267370728776544,-0.21718870755062653,-0.1465249558095365,-0.11633306251903139,-0.061459474219476735,-0.039844397153940954,-0.08412253357959865,-0.06909169614407107,-0.041166287223752755,-0.012151741161215833,-0.11531414613655468,-0.1878338349169431,-0.1661852499576068],[0.08637216416730246,-0.2434063539131674,1.0,0.74649154469567,0.636691199392051,0.6095103005417475,0.7041683166763827,0.6261531176548988,0.5229743540311765,0.6011983587392661,0.4797406148280938,0.6061242599756069,0.5854561667664425,0.6085084449161271,0.2117073472493807,0.2608831029841872,0.2663470473529377,0.060727692804222126,-0.07460700161151874,0.24693379859406014,0.1846317468469523,0.25727469839333084,-0.017780002609840452,0.6375492703515045],[0.14194266122627136,-0.22419450669215718,0.74649154469567,1.0,0.8182855061305957,0.8797290708859287,0.8768171626053196,0.7633109755756556,0.6520716055155484,0.6691477734403947,0.5461796469645046,0.5919085922075257,0.7171867929542325,0.668318017549694,0.23725531920734003,0.2104793662382466,0.43347421604204966,0.18664114130861878,-0.10833474422494285,0.4214801860640546,0.19059264802389353,0.20691497829031208,0.12662055193690916,0.7202487680753559],[0.023589888974991407,-0.20168585948201395,0.636691199392051,0.8182855061305957,1.0,0.8363122131719148,0.7875411315278793,0.6190345604495527,0.6463983005045391,0.7004565470541642,0.356874749697594,0.5593637162768624,0.6397038639122876,0.6256168811510749,0.3325038704687996,0.32394464580375837,0.5174165994575278,0.3100261679081312,0.036600741012939184,0.3506118023976772,0.2277058868472657,0.2976462149488395,0.05568192709313031,0.7148262182352203],[0.06278184317619367,-0.19237427302305857,0.6095103005417475,0.8797290708859287,0.8363122131719148,1.0,0.8945801215266999,0.8585398361950874,0.6927374835865613,0.722250035454993,0.5032113541859228,0.5554001441172611,0.7756904077679432,0.6459317597928517,0.2678081265171476,0.17666227067662207,0.3670034377586634,0.18029027181421944,-0.0019392625343109425,0.36828481985643124,0.07899908915252486,0.15998277766485852,0.023445497606880052,0.6733525369234017],[0.055693146522795375,-0.2184296021384453,0.7041683166763827,0.8768171626053196,0.7875411315278793,0.8945801215266999,1.0,0.8363280638833173,0.6783759997260358,0.730006745825556,0.5407579927022056,0.608465588200489,0.8322194695020773,0.6332837344546991,0.23062241390388685,0.2751875513758476,0.4553933585032842,0.21213776175056165,-0.05531849139452059,0.3652715477005465,0.09760094202414664,0.18877612554753484,-0.05281628263509816,0.7034233115282966],[0.12464293367254632,-0.20308729639316686,0.6261531176548988,0.7633109755756556,0.6190345604495527,0.8585398361950874,0.8363280638833173,1.0,0.6221612432623178,0.6014353659041021,0.581202402336852,0.5721935055996394,0.7824955935761618,0.6031431725964793,0.24762551707879185,0.10553396715417987,0.18045810448682112,0.06043144626177082,0.01147280227350817,0.3019160355939694,0.03379979902045315,0.1112789363430853,0.04562097381266724,0.6105944067542944],[-0.01729593902874378,-0.09444514081667872,0.5229743540311765,0.6520716055155484,0.6463983005045391,0.6927374835865613,0.6783759997260358,0.6221612432623178,1.0,0.7071369444411938,0.644036177302942,0.7249104430019163,0.7987092621500383,0.7465383990838874,0.4012417584261788,-0.00378790758818146,0.339998552015849,0.07059628908626278,0.05600438879731236,0.04799887912079749,0.27720958632751336,0.32713250453184545,0.15787641910782893,0.7086279998452262],[0.028041160707227685,-0.1221809434249856,0.6011983587392661,0.6691477734403947,0.7004565470541642,0.722250035454993,0.730006745825556,0.6014353659041021,0.7071369444411938,1.0,0.4893814091201061,0.6816387212313797,0.6729451057452321,0.8149320223883214,0.5528135391489992,0.3148212426572718,0.40559033162704206,0.0969051856728668,0.13130835183970546,0.15168990122081705,0.29485356115437544,0.1991203786442696,0.0411160751558455,0.827918236301672],[0.02799634822818949,-0.1967721252759421,0.4797406148280938,0.5461796469645046,0.356874749697594,0.5032113541859228,0.5407579927022056,0.581202402336852,0.644036177302942,0.4893814091201061,1.0,0.7666536358557519,0.6528356648832018,0.5618830376307815,0.20168590922409482,-0.20954442510993984,-0.036499533040369195,-0.03334778590292004,0.26141622434243306,-0.028401546923678616,0.06376962745704004,-0.007321884882191983,0.20247682125108069,0.5278747591015308],[-0.005873189359212287,-0.18267370728776544,0.6061242599756069,0.5919085922075257,0.5593637162768624,0.5554001441172611,0.608465588200489,0.5721935055996394,0.7249104430019163,0.6816387212313797,0.7666536358557519,1.0,0.6958497809201585,0.6364194807771093,0.37793242280268274,0.05978191602170254,0.060455213882878535,0.20425557971480734,0.35604038302044416,-0.03282861358309528,0.11056872316791891,0.11778741796236598,0.2508081259919645,0.7043146019795102],[0.0056907752575371265,-0.21718870755062653,0.5854561667664425,0.7171867929542325,0.6397038639122876,0.7756904077679432,0.8322194695020773,0.7824955935761618,0.7987092621500383,0.6729451057452321,0.6528356648832018,0.6958497809201585,1.0,0.7122446489214845,0.2510573352895425,-0.00012674052908240232,0.2359059423154755,0.10983427041526726,0.07538097376215284,0.08369358699219047,0.046855851553852704,0.1403880914179316,0.14192720235510514,0.6458679350154104],[0.05373105462412332,-0.1465249558095365,0.6085084449161271,0.668318017549694,0.6256168811510749,0.6459317597928517,0.6332837344546991,0.6031431725964793,0.7465383990838874,0.8149320223883214,0.5618830376307815,0.6364194807771093,0.7122446489214845,1.0,0.4815204955100046,0.10616735703424002,0.3192889181953381,-0.0855168807235734,0.08765156134038246,-0.06618850001856685,0.24745951549539388,0.14787400420204094,0.08849040690829811,0.7821725246063951],[0.09762368710333658,-0.11633306251903139,0.2117073472493807,0.23725531920734003,0.3325038704687996,0.2678081265171476,0.23062241390388685,0.24762551707879185,0.4012417584261788,0.5528135391489992,0.20168590922409482,0.37793242280268274,0.2510573352895425,0.4815204955100046,1.0,0.47013490091693033,0.3993331052291698,0.17571973481834915,0.15147360050036943,0.04135299796952271,0.41283801363476136,0.2720184797950047,0.23262465190434092,0.6251942359303269],[0.12446284650979843,-0.061459474219476735,0.2608831029841872,0.2104793662382466,0.32394464580375837,0.17666227067662207,0.2751875513758476,0.10553396715417987,-0.00378790758818146,0.3148212426572718,-0.20954442510993984,0.05978191602170254,-0.00012674052908240232,0.10616735703424002,0.47013490091693033,1.0,0.5796941615142633,0.3292816599903137,0.049046285191369936,0.3748431837252702,0.15656747012450628,0.19396026389454837,-0.19209554016709726,0.35271777051198966],[0.01271195175872485,-0.039844397153940954,0.2663470473529377,0.43347421604204966,0.5174165994575278,0.3670034377586634,0.4553933585032842,0.18045810448682112,0.339998552015849,0.40559033162704206,-0.036499533040369195,0.060455213882878535,0.2359059423154755,0.3192889181953381,0.3993331052291698,0.5796941615142633,1.0,0.21581536655530273,-0.19306681300227568,0.4835814098904939,0.3669273676343532,0.48934251368043613,-0.15517574225445474,0.49913015434137653],[-0.07271263536408382,-0.08412253357959865,0.060727692804222126,0.18664114130861878,0.3100261679081312,0.18029027181421944,0.21213776175056165,0.06043144626177082,0.07059628908626278,0.0969051856728668,-0.03334778590292004,0.20425557971480734,0.10983427041526726,-0.0855168807235734,0.17571973481834915,0.3292816599903137,0.21581536655530273,1.0,0.38719270119349336,0.3335558812659708,0.08786634669935699,0.0642600445720972,0.11130540437633776,0.24306422640322217],[-0.07323212561735352,-0.06909169614407107,-0.07460700161151874,-0.10833474422494285,0.036600741012939184,-0.0019392625343109425,-0.05531849139452059,0.01147280227350817,0.05600438879731236,0.13130835183970546,0.26141622434243306,0.35604038302044416,0.07538097376215284,0.08765156134038246,0.15147360050036943,0.049046285191369936,-0.19306681300227568,0.38719270119349336,1.0,-0.13098753126301887,0.1174451762677447,-0.04311164091924401,0.20478648234528374,0.25007546398849456],[0.06684509377204485,-0.041166287223752755,0.24693379859406014,0.4214801860640546,0.3506118023976772,0.36828481985643124,0.3652715477005465,0.3019160355939694,0.04799887912079749,0.15168990122081705,-0.028401546923678616,-0.03282861358309528,0.08369358699219047,-0.06618850001856685,0.04135299796952271,0.3748431837252702,0.4835814098904939,0.3335558812659708,-0.13098753126301887,1.0,0.23430312342591164,0.3186759482392374,-0.022770024867855065,0.2803725421670769],[0.03075242477289769,-0.012151741161215833,0.1846317468469523,0.19059264802389353,0.2277058868472657,0.07899908915252486,0.09760094202414664,0.03379979902045315,0.27720958632751336,0.29485356115437544,0.06376962745704004,0.11056872316791891,0.046855851553852704,0.24745951549539388,0.41283801363476136,0.15656747012450628,0.3669273676343532,0.08786634669935699,0.1174451762677447,0.23430312342591164,1.0,0.5388950644500546,0.3309307757893453,0.4473179640236757],[-0.02070875055406418,-0.11531414613655468,0.25727469839333084,0.20691497829031208,0.2976462149488395,0.15998277766485852,0.18877612554753484,0.1112789363430853,0.32713250453184545,0.1991203786442696,-0.007321884882191983,0.11778741796236598,0.1403880914179316,0.14787400420204094,0.2720184797950047,0.19396026389454837,0.48934251368043613,0.0642600445720972,-0.04311164091924401,0.3186759482392374,0.5388950644500546,1.0,0.1842322071545627,0.3769075016402474],[0.014964770354691083,-0.1878338349169431,-0.017780002609840452,0.12662055193690916,0.05568192709313031,0.023445497606880052,-0.05281628263509816,0.04562097381266724,0.15787641910782893,0.0411160751558455,0.20247682125108069,0.2508081259919645,0.14192720235510514,0.08849040690829811,0.23262465190434092,-0.19209554016709726,-0.15517574225445474,0.11130540437633776,0.20478648234528374,-0.022770024867855065,0.3309307757893453,0.1842322071545627,1.0,0.2894692197755588],[0.0653556719182102,-0.1661852499576068,0.6375492703515045,0.7202487680753559,0.7148262182352203,0.6733525369234017,0.7034233115282966,0.6105944067542944,0.7086279998452262,0.827918236301672,0.5278747591015308,0.7043146019795102,0.6458679350154104,0.7821725246063951,0.6251942359303269,0.35271777051198966,0.49913015434137653,0.24306422640322217,0.25007546398849456,0.2803725421670769,0.4473179640236757,0.3769075016402474,0.2894692197755588,1.0]],\"type\":\"heatmap\"}],                        {\"annotations\":[{\"font\":{\"color\":\"#000000\"},\"showarrow\":false,\"text\":\"1.0\",\"x\":\"Age\",\"xref\":\"x\",\"y\":\"Age\",\"yref\":\"y\"},{\"font\":{\"color\":\"#FFFFFF\"},\"showarrow\":false,\"text\":\"-0.19\",\"x\":\"Gender\",\"xref\":\"x\",\"y\":\"Age\",\"yref\":\"y\"},{\"font\":{\"color\":\"#FFFFFF\"},\"showarrow\":false,\"text\":\"0.09\",\"x\":\"Air Pollution\",\"xref\":\"x\",\"y\":\"Age\",\"yref\":\"y\"},{\"font\":{\"color\":\"#FFFFFF\"},\"showarrow\":false,\"text\":\"0.14\",\"x\":\"Alcohol use\",\"xref\":\"x\",\"y\":\"Age\",\"yref\":\"y\"},{\"font\":{\"color\":\"#FFFFFF\"},\"showarrow\":false,\"text\":\"0.02\",\"x\":\"Dust Allergy\",\"xref\":\"x\",\"y\":\"Age\",\"yref\":\"y\"},{\"font\":{\"color\":\"#FFFFFF\"},\"showarrow\":false,\"text\":\"0.06\",\"x\":\"OccuPational Hazards\",\"xref\":\"x\",\"y\":\"Age\",\"yref\":\"y\"},{\"font\":{\"color\":\"#FFFFFF\"},\"showarrow\":false,\"text\":\"0.06\",\"x\":\"Genetic Risk\",\"xref\":\"x\",\"y\":\"Age\",\"yref\":\"y\"},{\"font\":{\"color\":\"#FFFFFF\"},\"showarrow\":false,\"text\":\"0.12\",\"x\":\"chronic Lung Disease\",\"xref\":\"x\",\"y\":\"Age\",\"yref\":\"y\"},{\"font\":{\"color\":\"#FFFFFF\"},\"showarrow\":false,\"text\":\"-0.02\",\"x\":\"Balanced Diet\",\"xref\":\"x\",\"y\":\"Age\",\"yref\":\"y\"},{\"font\":{\"color\":\"#FFFFFF\"},\"showarrow\":false,\"text\":\"0.03\",\"x\":\"Obesity\",\"xref\":\"x\",\"y\":\"Age\",\"yref\":\"y\"},{\"font\":{\"color\":\"#FFFFFF\"},\"showarrow\":false,\"text\":\"0.03\",\"x\":\"Smoking\",\"xref\":\"x\",\"y\":\"Age\",\"yref\":\"y\"},{\"font\":{\"color\":\"#FFFFFF\"},\"showarrow\":false,\"text\":\"-0.01\",\"x\":\"Passive Smoker\",\"xref\":\"x\",\"y\":\"Age\",\"yref\":\"y\"},{\"font\":{\"color\":\"#FFFFFF\"},\"showarrow\":false,\"text\":\"0.01\",\"x\":\"Chest Pain\",\"xref\":\"x\",\"y\":\"Age\",\"yref\":\"y\"},{\"font\":{\"color\":\"#FFFFFF\"},\"showarrow\":false,\"text\":\"0.05\",\"x\":\"Coughing of Blood\",\"xref\":\"x\",\"y\":\"Age\",\"yref\":\"y\"},{\"font\":{\"color\":\"#FFFFFF\"},\"showarrow\":false,\"text\":\"0.1\",\"x\":\"Fatigue\",\"xref\":\"x\",\"y\":\"Age\",\"yref\":\"y\"},{\"font\":{\"color\":\"#FFFFFF\"},\"showarrow\":false,\"text\":\"0.12\",\"x\":\"Weight Loss\",\"xref\":\"x\",\"y\":\"Age\",\"yref\":\"y\"},{\"font\":{\"color\":\"#FFFFFF\"},\"showarrow\":false,\"text\":\"0.01\",\"x\":\"Shortness of Breath\",\"xref\":\"x\",\"y\":\"Age\",\"yref\":\"y\"},{\"font\":{\"color\":\"#FFFFFF\"},\"showarrow\":false,\"text\":\"-0.07\",\"x\":\"Wheezing\",\"xref\":\"x\",\"y\":\"Age\",\"yref\":\"y\"},{\"font\":{\"color\":\"#FFFFFF\"},\"showarrow\":false,\"text\":\"-0.07\",\"x\":\"Swallowing Difficulty\",\"xref\":\"x\",\"y\":\"Age\",\"yref\":\"y\"},{\"font\":{\"color\":\"#FFFFFF\"},\"showarrow\":false,\"text\":\"0.07\",\"x\":\"Clubbing of Finger Nails\",\"xref\":\"x\",\"y\":\"Age\",\"yref\":\"y\"},{\"font\":{\"color\":\"#FFFFFF\"},\"showarrow\":false,\"text\":\"0.03\",\"x\":\"Frequent Cold\",\"xref\":\"x\",\"y\":\"Age\",\"yref\":\"y\"},{\"font\":{\"color\":\"#FFFFFF\"},\"showarrow\":false,\"text\":\"-0.02\",\"x\":\"Dry Cough\",\"xref\":\"x\",\"y\":\"Age\",\"yref\":\"y\"},{\"font\":{\"color\":\"#FFFFFF\"},\"showarrow\":false,\"text\":\"0.01\",\"x\":\"Snoring\",\"xref\":\"x\",\"y\":\"Age\",\"yref\":\"y\"},{\"font\":{\"color\":\"#FFFFFF\"},\"showarrow\":false,\"text\":\"0.07\",\"x\":\"Level\",\"xref\":\"x\",\"y\":\"Age\",\"yref\":\"y\"},{\"font\":{\"color\":\"#FFFFFF\"},\"showarrow\":false,\"text\":\"-0.19\",\"x\":\"Age\",\"xref\":\"x\",\"y\":\"Gender\",\"yref\":\"y\"},{\"font\":{\"color\":\"#000000\"},\"showarrow\":false,\"text\":\"1.0\",\"x\":\"Gender\",\"xref\":\"x\",\"y\":\"Gender\",\"yref\":\"y\"},{\"font\":{\"color\":\"#FFFFFF\"},\"showarrow\":false,\"text\":\"-0.24\",\"x\":\"Air Pollution\",\"xref\":\"x\",\"y\":\"Gender\",\"yref\":\"y\"},{\"font\":{\"color\":\"#FFFFFF\"},\"showarrow\":false,\"text\":\"-0.22\",\"x\":\"Alcohol use\",\"xref\":\"x\",\"y\":\"Gender\",\"yref\":\"y\"},{\"font\":{\"color\":\"#FFFFFF\"},\"showarrow\":false,\"text\":\"-0.2\",\"x\":\"Dust Allergy\",\"xref\":\"x\",\"y\":\"Gender\",\"yref\":\"y\"},{\"font\":{\"color\":\"#FFFFFF\"},\"showarrow\":false,\"text\":\"-0.19\",\"x\":\"OccuPational Hazards\",\"xref\":\"x\",\"y\":\"Gender\",\"yref\":\"y\"},{\"font\":{\"color\":\"#FFFFFF\"},\"showarrow\":false,\"text\":\"-0.22\",\"x\":\"Genetic Risk\",\"xref\":\"x\",\"y\":\"Gender\",\"yref\":\"y\"},{\"font\":{\"color\":\"#FFFFFF\"},\"showarrow\":false,\"text\":\"-0.2\",\"x\":\"chronic Lung Disease\",\"xref\":\"x\",\"y\":\"Gender\",\"yref\":\"y\"},{\"font\":{\"color\":\"#FFFFFF\"},\"showarrow\":false,\"text\":\"-0.09\",\"x\":\"Balanced Diet\",\"xref\":\"x\",\"y\":\"Gender\",\"yref\":\"y\"},{\"font\":{\"color\":\"#FFFFFF\"},\"showarrow\":false,\"text\":\"-0.12\",\"x\":\"Obesity\",\"xref\":\"x\",\"y\":\"Gender\",\"yref\":\"y\"},{\"font\":{\"color\":\"#FFFFFF\"},\"showarrow\":false,\"text\":\"-0.2\",\"x\":\"Smoking\",\"xref\":\"x\",\"y\":\"Gender\",\"yref\":\"y\"},{\"font\":{\"color\":\"#FFFFFF\"},\"showarrow\":false,\"text\":\"-0.18\",\"x\":\"Passive Smoker\",\"xref\":\"x\",\"y\":\"Gender\",\"yref\":\"y\"},{\"font\":{\"color\":\"#FFFFFF\"},\"showarrow\":false,\"text\":\"-0.22\",\"x\":\"Chest Pain\",\"xref\":\"x\",\"y\":\"Gender\",\"yref\":\"y\"},{\"font\":{\"color\":\"#FFFFFF\"},\"showarrow\":false,\"text\":\"-0.15\",\"x\":\"Coughing of Blood\",\"xref\":\"x\",\"y\":\"Gender\",\"yref\":\"y\"},{\"font\":{\"color\":\"#FFFFFF\"},\"showarrow\":false,\"text\":\"-0.12\",\"x\":\"Fatigue\",\"xref\":\"x\",\"y\":\"Gender\",\"yref\":\"y\"},{\"font\":{\"color\":\"#FFFFFF\"},\"showarrow\":false,\"text\":\"-0.06\",\"x\":\"Weight Loss\",\"xref\":\"x\",\"y\":\"Gender\",\"yref\":\"y\"},{\"font\":{\"color\":\"#FFFFFF\"},\"showarrow\":false,\"text\":\"-0.04\",\"x\":\"Shortness of Breath\",\"xref\":\"x\",\"y\":\"Gender\",\"yref\":\"y\"},{\"font\":{\"color\":\"#FFFFFF\"},\"showarrow\":false,\"text\":\"-0.08\",\"x\":\"Wheezing\",\"xref\":\"x\",\"y\":\"Gender\",\"yref\":\"y\"},{\"font\":{\"color\":\"#FFFFFF\"},\"showarrow\":false,\"text\":\"-0.07\",\"x\":\"Swallowing Difficulty\",\"xref\":\"x\",\"y\":\"Gender\",\"yref\":\"y\"},{\"font\":{\"color\":\"#FFFFFF\"},\"showarrow\":false,\"text\":\"-0.04\",\"x\":\"Clubbing of Finger Nails\",\"xref\":\"x\",\"y\":\"Gender\",\"yref\":\"y\"},{\"font\":{\"color\":\"#FFFFFF\"},\"showarrow\":false,\"text\":\"-0.01\",\"x\":\"Frequent Cold\",\"xref\":\"x\",\"y\":\"Gender\",\"yref\":\"y\"},{\"font\":{\"color\":\"#FFFFFF\"},\"showarrow\":false,\"text\":\"-0.12\",\"x\":\"Dry Cough\",\"xref\":\"x\",\"y\":\"Gender\",\"yref\":\"y\"},{\"font\":{\"color\":\"#FFFFFF\"},\"showarrow\":false,\"text\":\"-0.19\",\"x\":\"Snoring\",\"xref\":\"x\",\"y\":\"Gender\",\"yref\":\"y\"},{\"font\":{\"color\":\"#FFFFFF\"},\"showarrow\":false,\"text\":\"-0.17\",\"x\":\"Level\",\"xref\":\"x\",\"y\":\"Gender\",\"yref\":\"y\"},{\"font\":{\"color\":\"#FFFFFF\"},\"showarrow\":false,\"text\":\"0.09\",\"x\":\"Age\",\"xref\":\"x\",\"y\":\"Air Pollution\",\"yref\":\"y\"},{\"font\":{\"color\":\"#FFFFFF\"},\"showarrow\":false,\"text\":\"-0.24\",\"x\":\"Gender\",\"xref\":\"x\",\"y\":\"Air Pollution\",\"yref\":\"y\"},{\"font\":{\"color\":\"#000000\"},\"showarrow\":false,\"text\":\"1.0\",\"x\":\"Air Pollution\",\"xref\":\"x\",\"y\":\"Air Pollution\",\"yref\":\"y\"},{\"font\":{\"color\":\"#000000\"},\"showarrow\":false,\"text\":\"0.75\",\"x\":\"Alcohol use\",\"xref\":\"x\",\"y\":\"Air Pollution\",\"yref\":\"y\"},{\"font\":{\"color\":\"#000000\"},\"showarrow\":false,\"text\":\"0.64\",\"x\":\"Dust Allergy\",\"xref\":\"x\",\"y\":\"Air Pollution\",\"yref\":\"y\"},{\"font\":{\"color\":\"#000000\"},\"showarrow\":false,\"text\":\"0.61\",\"x\":\"OccuPational Hazards\",\"xref\":\"x\",\"y\":\"Air Pollution\",\"yref\":\"y\"},{\"font\":{\"color\":\"#000000\"},\"showarrow\":false,\"text\":\"0.7\",\"x\":\"Genetic Risk\",\"xref\":\"x\",\"y\":\"Air Pollution\",\"yref\":\"y\"},{\"font\":{\"color\":\"#000000\"},\"showarrow\":false,\"text\":\"0.63\",\"x\":\"chronic Lung Disease\",\"xref\":\"x\",\"y\":\"Air Pollution\",\"yref\":\"y\"},{\"font\":{\"color\":\"#000000\"},\"showarrow\":false,\"text\":\"0.52\",\"x\":\"Balanced Diet\",\"xref\":\"x\",\"y\":\"Air Pollution\",\"yref\":\"y\"},{\"font\":{\"color\":\"#000000\"},\"showarrow\":false,\"text\":\"0.6\",\"x\":\"Obesity\",\"xref\":\"x\",\"y\":\"Air Pollution\",\"yref\":\"y\"},{\"font\":{\"color\":\"#000000\"},\"showarrow\":false,\"text\":\"0.48\",\"x\":\"Smoking\",\"xref\":\"x\",\"y\":\"Air Pollution\",\"yref\":\"y\"},{\"font\":{\"color\":\"#000000\"},\"showarrow\":false,\"text\":\"0.61\",\"x\":\"Passive Smoker\",\"xref\":\"x\",\"y\":\"Air Pollution\",\"yref\":\"y\"},{\"font\":{\"color\":\"#000000\"},\"showarrow\":false,\"text\":\"0.59\",\"x\":\"Chest Pain\",\"xref\":\"x\",\"y\":\"Air Pollution\",\"yref\":\"y\"},{\"font\":{\"color\":\"#000000\"},\"showarrow\":false,\"text\":\"0.61\",\"x\":\"Coughing of Blood\",\"xref\":\"x\",\"y\":\"Air Pollution\",\"yref\":\"y\"},{\"font\":{\"color\":\"#FFFFFF\"},\"showarrow\":false,\"text\":\"0.21\",\"x\":\"Fatigue\",\"xref\":\"x\",\"y\":\"Air Pollution\",\"yref\":\"y\"},{\"font\":{\"color\":\"#FFFFFF\"},\"showarrow\":false,\"text\":\"0.26\",\"x\":\"Weight Loss\",\"xref\":\"x\",\"y\":\"Air Pollution\",\"yref\":\"y\"},{\"font\":{\"color\":\"#FFFFFF\"},\"showarrow\":false,\"text\":\"0.27\",\"x\":\"Shortness of Breath\",\"xref\":\"x\",\"y\":\"Air Pollution\",\"yref\":\"y\"},{\"font\":{\"color\":\"#FFFFFF\"},\"showarrow\":false,\"text\":\"0.06\",\"x\":\"Wheezing\",\"xref\":\"x\",\"y\":\"Air Pollution\",\"yref\":\"y\"},{\"font\":{\"color\":\"#FFFFFF\"},\"showarrow\":false,\"text\":\"-0.07\",\"x\":\"Swallowing Difficulty\",\"xref\":\"x\",\"y\":\"Air Pollution\",\"yref\":\"y\"},{\"font\":{\"color\":\"#FFFFFF\"},\"showarrow\":false,\"text\":\"0.25\",\"x\":\"Clubbing of Finger Nails\",\"xref\":\"x\",\"y\":\"Air Pollution\",\"yref\":\"y\"},{\"font\":{\"color\":\"#FFFFFF\"},\"showarrow\":false,\"text\":\"0.18\",\"x\":\"Frequent Cold\",\"xref\":\"x\",\"y\":\"Air Pollution\",\"yref\":\"y\"},{\"font\":{\"color\":\"#FFFFFF\"},\"showarrow\":false,\"text\":\"0.26\",\"x\":\"Dry Cough\",\"xref\":\"x\",\"y\":\"Air Pollution\",\"yref\":\"y\"},{\"font\":{\"color\":\"#FFFFFF\"},\"showarrow\":false,\"text\":\"-0.02\",\"x\":\"Snoring\",\"xref\":\"x\",\"y\":\"Air Pollution\",\"yref\":\"y\"},{\"font\":{\"color\":\"#000000\"},\"showarrow\":false,\"text\":\"0.64\",\"x\":\"Level\",\"xref\":\"x\",\"y\":\"Air Pollution\",\"yref\":\"y\"},{\"font\":{\"color\":\"#FFFFFF\"},\"showarrow\":false,\"text\":\"0.14\",\"x\":\"Age\",\"xref\":\"x\",\"y\":\"Alcohol use\",\"yref\":\"y\"},{\"font\":{\"color\":\"#FFFFFF\"},\"showarrow\":false,\"text\":\"-0.22\",\"x\":\"Gender\",\"xref\":\"x\",\"y\":\"Alcohol use\",\"yref\":\"y\"},{\"font\":{\"color\":\"#000000\"},\"showarrow\":false,\"text\":\"0.75\",\"x\":\"Air Pollution\",\"xref\":\"x\",\"y\":\"Alcohol use\",\"yref\":\"y\"},{\"font\":{\"color\":\"#000000\"},\"showarrow\":false,\"text\":\"1.0\",\"x\":\"Alcohol use\",\"xref\":\"x\",\"y\":\"Alcohol use\",\"yref\":\"y\"},{\"font\":{\"color\":\"#000000\"},\"showarrow\":false,\"text\":\"0.82\",\"x\":\"Dust Allergy\",\"xref\":\"x\",\"y\":\"Alcohol use\",\"yref\":\"y\"},{\"font\":{\"color\":\"#000000\"},\"showarrow\":false,\"text\":\"0.88\",\"x\":\"OccuPational Hazards\",\"xref\":\"x\",\"y\":\"Alcohol use\",\"yref\":\"y\"},{\"font\":{\"color\":\"#000000\"},\"showarrow\":false,\"text\":\"0.88\",\"x\":\"Genetic Risk\",\"xref\":\"x\",\"y\":\"Alcohol use\",\"yref\":\"y\"},{\"font\":{\"color\":\"#000000\"},\"showarrow\":false,\"text\":\"0.76\",\"x\":\"chronic Lung Disease\",\"xref\":\"x\",\"y\":\"Alcohol use\",\"yref\":\"y\"},{\"font\":{\"color\":\"#000000\"},\"showarrow\":false,\"text\":\"0.65\",\"x\":\"Balanced Diet\",\"xref\":\"x\",\"y\":\"Alcohol use\",\"yref\":\"y\"},{\"font\":{\"color\":\"#000000\"},\"showarrow\":false,\"text\":\"0.67\",\"x\":\"Obesity\",\"xref\":\"x\",\"y\":\"Alcohol use\",\"yref\":\"y\"},{\"font\":{\"color\":\"#000000\"},\"showarrow\":false,\"text\":\"0.55\",\"x\":\"Smoking\",\"xref\":\"x\",\"y\":\"Alcohol use\",\"yref\":\"y\"},{\"font\":{\"color\":\"#000000\"},\"showarrow\":false,\"text\":\"0.59\",\"x\":\"Passive Smoker\",\"xref\":\"x\",\"y\":\"Alcohol use\",\"yref\":\"y\"},{\"font\":{\"color\":\"#000000\"},\"showarrow\":false,\"text\":\"0.72\",\"x\":\"Chest Pain\",\"xref\":\"x\",\"y\":\"Alcohol use\",\"yref\":\"y\"},{\"font\":{\"color\":\"#000000\"},\"showarrow\":false,\"text\":\"0.67\",\"x\":\"Coughing of Blood\",\"xref\":\"x\",\"y\":\"Alcohol use\",\"yref\":\"y\"},{\"font\":{\"color\":\"#FFFFFF\"},\"showarrow\":false,\"text\":\"0.24\",\"x\":\"Fatigue\",\"xref\":\"x\",\"y\":\"Alcohol use\",\"yref\":\"y\"},{\"font\":{\"color\":\"#FFFFFF\"},\"showarrow\":false,\"text\":\"0.21\",\"x\":\"Weight Loss\",\"xref\":\"x\",\"y\":\"Alcohol use\",\"yref\":\"y\"},{\"font\":{\"color\":\"#000000\"},\"showarrow\":false,\"text\":\"0.43\",\"x\":\"Shortness of Breath\",\"xref\":\"x\",\"y\":\"Alcohol use\",\"yref\":\"y\"},{\"font\":{\"color\":\"#FFFFFF\"},\"showarrow\":false,\"text\":\"0.19\",\"x\":\"Wheezing\",\"xref\":\"x\",\"y\":\"Alcohol use\",\"yref\":\"y\"},{\"font\":{\"color\":\"#FFFFFF\"},\"showarrow\":false,\"text\":\"-0.11\",\"x\":\"Swallowing Difficulty\",\"xref\":\"x\",\"y\":\"Alcohol use\",\"yref\":\"y\"},{\"font\":{\"color\":\"#000000\"},\"showarrow\":false,\"text\":\"0.42\",\"x\":\"Clubbing of Finger Nails\",\"xref\":\"x\",\"y\":\"Alcohol use\",\"yref\":\"y\"},{\"font\":{\"color\":\"#FFFFFF\"},\"showarrow\":false,\"text\":\"0.19\",\"x\":\"Frequent Cold\",\"xref\":\"x\",\"y\":\"Alcohol use\",\"yref\":\"y\"},{\"font\":{\"color\":\"#FFFFFF\"},\"showarrow\":false,\"text\":\"0.21\",\"x\":\"Dry Cough\",\"xref\":\"x\",\"y\":\"Alcohol use\",\"yref\":\"y\"},{\"font\":{\"color\":\"#FFFFFF\"},\"showarrow\":false,\"text\":\"0.13\",\"x\":\"Snoring\",\"xref\":\"x\",\"y\":\"Alcohol use\",\"yref\":\"y\"},{\"font\":{\"color\":\"#000000\"},\"showarrow\":false,\"text\":\"0.72\",\"x\":\"Level\",\"xref\":\"x\",\"y\":\"Alcohol use\",\"yref\":\"y\"},{\"font\":{\"color\":\"#FFFFFF\"},\"showarrow\":false,\"text\":\"0.02\",\"x\":\"Age\",\"xref\":\"x\",\"y\":\"Dust Allergy\",\"yref\":\"y\"},{\"font\":{\"color\":\"#FFFFFF\"},\"showarrow\":false,\"text\":\"-0.2\",\"x\":\"Gender\",\"xref\":\"x\",\"y\":\"Dust Allergy\",\"yref\":\"y\"},{\"font\":{\"color\":\"#000000\"},\"showarrow\":false,\"text\":\"0.64\",\"x\":\"Air Pollution\",\"xref\":\"x\",\"y\":\"Dust Allergy\",\"yref\":\"y\"},{\"font\":{\"color\":\"#000000\"},\"showarrow\":false,\"text\":\"0.82\",\"x\":\"Alcohol use\",\"xref\":\"x\",\"y\":\"Dust Allergy\",\"yref\":\"y\"},{\"font\":{\"color\":\"#000000\"},\"showarrow\":false,\"text\":\"1.0\",\"x\":\"Dust Allergy\",\"xref\":\"x\",\"y\":\"Dust Allergy\",\"yref\":\"y\"},{\"font\":{\"color\":\"#000000\"},\"showarrow\":false,\"text\":\"0.84\",\"x\":\"OccuPational Hazards\",\"xref\":\"x\",\"y\":\"Dust Allergy\",\"yref\":\"y\"},{\"font\":{\"color\":\"#000000\"},\"showarrow\":false,\"text\":\"0.79\",\"x\":\"Genetic Risk\",\"xref\":\"x\",\"y\":\"Dust Allergy\",\"yref\":\"y\"},{\"font\":{\"color\":\"#000000\"},\"showarrow\":false,\"text\":\"0.62\",\"x\":\"chronic Lung Disease\",\"xref\":\"x\",\"y\":\"Dust Allergy\",\"yref\":\"y\"},{\"font\":{\"color\":\"#000000\"},\"showarrow\":false,\"text\":\"0.65\",\"x\":\"Balanced Diet\",\"xref\":\"x\",\"y\":\"Dust Allergy\",\"yref\":\"y\"},{\"font\":{\"color\":\"#000000\"},\"showarrow\":false,\"text\":\"0.7\",\"x\":\"Obesity\",\"xref\":\"x\",\"y\":\"Dust Allergy\",\"yref\":\"y\"},{\"font\":{\"color\":\"#FFFFFF\"},\"showarrow\":false,\"text\":\"0.36\",\"x\":\"Smoking\",\"xref\":\"x\",\"y\":\"Dust Allergy\",\"yref\":\"y\"},{\"font\":{\"color\":\"#000000\"},\"showarrow\":false,\"text\":\"0.56\",\"x\":\"Passive Smoker\",\"xref\":\"x\",\"y\":\"Dust Allergy\",\"yref\":\"y\"},{\"font\":{\"color\":\"#000000\"},\"showarrow\":false,\"text\":\"0.64\",\"x\":\"Chest Pain\",\"xref\":\"x\",\"y\":\"Dust Allergy\",\"yref\":\"y\"},{\"font\":{\"color\":\"#000000\"},\"showarrow\":false,\"text\":\"0.63\",\"x\":\"Coughing of Blood\",\"xref\":\"x\",\"y\":\"Dust Allergy\",\"yref\":\"y\"},{\"font\":{\"color\":\"#FFFFFF\"},\"showarrow\":false,\"text\":\"0.33\",\"x\":\"Fatigue\",\"xref\":\"x\",\"y\":\"Dust Allergy\",\"yref\":\"y\"},{\"font\":{\"color\":\"#FFFFFF\"},\"showarrow\":false,\"text\":\"0.32\",\"x\":\"Weight Loss\",\"xref\":\"x\",\"y\":\"Dust Allergy\",\"yref\":\"y\"},{\"font\":{\"color\":\"#000000\"},\"showarrow\":false,\"text\":\"0.52\",\"x\":\"Shortness of Breath\",\"xref\":\"x\",\"y\":\"Dust Allergy\",\"yref\":\"y\"},{\"font\":{\"color\":\"#FFFFFF\"},\"showarrow\":false,\"text\":\"0.31\",\"x\":\"Wheezing\",\"xref\":\"x\",\"y\":\"Dust Allergy\",\"yref\":\"y\"},{\"font\":{\"color\":\"#FFFFFF\"},\"showarrow\":false,\"text\":\"0.04\",\"x\":\"Swallowing Difficulty\",\"xref\":\"x\",\"y\":\"Dust Allergy\",\"yref\":\"y\"},{\"font\":{\"color\":\"#FFFFFF\"},\"showarrow\":false,\"text\":\"0.35\",\"x\":\"Clubbing of Finger Nails\",\"xref\":\"x\",\"y\":\"Dust Allergy\",\"yref\":\"y\"},{\"font\":{\"color\":\"#FFFFFF\"},\"showarrow\":false,\"text\":\"0.23\",\"x\":\"Frequent Cold\",\"xref\":\"x\",\"y\":\"Dust Allergy\",\"yref\":\"y\"},{\"font\":{\"color\":\"#FFFFFF\"},\"showarrow\":false,\"text\":\"0.3\",\"x\":\"Dry Cough\",\"xref\":\"x\",\"y\":\"Dust Allergy\",\"yref\":\"y\"},{\"font\":{\"color\":\"#FFFFFF\"},\"showarrow\":false,\"text\":\"0.06\",\"x\":\"Snoring\",\"xref\":\"x\",\"y\":\"Dust Allergy\",\"yref\":\"y\"},{\"font\":{\"color\":\"#000000\"},\"showarrow\":false,\"text\":\"0.71\",\"x\":\"Level\",\"xref\":\"x\",\"y\":\"Dust Allergy\",\"yref\":\"y\"},{\"font\":{\"color\":\"#FFFFFF\"},\"showarrow\":false,\"text\":\"0.06\",\"x\":\"Age\",\"xref\":\"x\",\"y\":\"OccuPational Hazards\",\"yref\":\"y\"},{\"font\":{\"color\":\"#FFFFFF\"},\"showarrow\":false,\"text\":\"-0.19\",\"x\":\"Gender\",\"xref\":\"x\",\"y\":\"OccuPational Hazards\",\"yref\":\"y\"},{\"font\":{\"color\":\"#000000\"},\"showarrow\":false,\"text\":\"0.61\",\"x\":\"Air Pollution\",\"xref\":\"x\",\"y\":\"OccuPational Hazards\",\"yref\":\"y\"},{\"font\":{\"color\":\"#000000\"},\"showarrow\":false,\"text\":\"0.88\",\"x\":\"Alcohol use\",\"xref\":\"x\",\"y\":\"OccuPational Hazards\",\"yref\":\"y\"},{\"font\":{\"color\":\"#000000\"},\"showarrow\":false,\"text\":\"0.84\",\"x\":\"Dust Allergy\",\"xref\":\"x\",\"y\":\"OccuPational Hazards\",\"yref\":\"y\"},{\"font\":{\"color\":\"#000000\"},\"showarrow\":false,\"text\":\"1.0\",\"x\":\"OccuPational Hazards\",\"xref\":\"x\",\"y\":\"OccuPational Hazards\",\"yref\":\"y\"},{\"font\":{\"color\":\"#000000\"},\"showarrow\":false,\"text\":\"0.89\",\"x\":\"Genetic Risk\",\"xref\":\"x\",\"y\":\"OccuPational Hazards\",\"yref\":\"y\"},{\"font\":{\"color\":\"#000000\"},\"showarrow\":false,\"text\":\"0.86\",\"x\":\"chronic Lung Disease\",\"xref\":\"x\",\"y\":\"OccuPational Hazards\",\"yref\":\"y\"},{\"font\":{\"color\":\"#000000\"},\"showarrow\":false,\"text\":\"0.69\",\"x\":\"Balanced Diet\",\"xref\":\"x\",\"y\":\"OccuPational Hazards\",\"yref\":\"y\"},{\"font\":{\"color\":\"#000000\"},\"showarrow\":false,\"text\":\"0.72\",\"x\":\"Obesity\",\"xref\":\"x\",\"y\":\"OccuPational Hazards\",\"yref\":\"y\"},{\"font\":{\"color\":\"#000000\"},\"showarrow\":false,\"text\":\"0.5\",\"x\":\"Smoking\",\"xref\":\"x\",\"y\":\"OccuPational Hazards\",\"yref\":\"y\"},{\"font\":{\"color\":\"#000000\"},\"showarrow\":false,\"text\":\"0.56\",\"x\":\"Passive Smoker\",\"xref\":\"x\",\"y\":\"OccuPational Hazards\",\"yref\":\"y\"},{\"font\":{\"color\":\"#000000\"},\"showarrow\":false,\"text\":\"0.78\",\"x\":\"Chest Pain\",\"xref\":\"x\",\"y\":\"OccuPational Hazards\",\"yref\":\"y\"},{\"font\":{\"color\":\"#000000\"},\"showarrow\":false,\"text\":\"0.65\",\"x\":\"Coughing of Blood\",\"xref\":\"x\",\"y\":\"OccuPational Hazards\",\"yref\":\"y\"},{\"font\":{\"color\":\"#FFFFFF\"},\"showarrow\":false,\"text\":\"0.27\",\"x\":\"Fatigue\",\"xref\":\"x\",\"y\":\"OccuPational Hazards\",\"yref\":\"y\"},{\"font\":{\"color\":\"#FFFFFF\"},\"showarrow\":false,\"text\":\"0.18\",\"x\":\"Weight Loss\",\"xref\":\"x\",\"y\":\"OccuPational Hazards\",\"yref\":\"y\"},{\"font\":{\"color\":\"#FFFFFF\"},\"showarrow\":false,\"text\":\"0.37\",\"x\":\"Shortness of Breath\",\"xref\":\"x\",\"y\":\"OccuPational Hazards\",\"yref\":\"y\"},{\"font\":{\"color\":\"#FFFFFF\"},\"showarrow\":false,\"text\":\"0.18\",\"x\":\"Wheezing\",\"xref\":\"x\",\"y\":\"OccuPational Hazards\",\"yref\":\"y\"},{\"font\":{\"color\":\"#FFFFFF\"},\"showarrow\":false,\"text\":\"-0.0\",\"x\":\"Swallowing Difficulty\",\"xref\":\"x\",\"y\":\"OccuPational Hazards\",\"yref\":\"y\"},{\"font\":{\"color\":\"#FFFFFF\"},\"showarrow\":false,\"text\":\"0.37\",\"x\":\"Clubbing of Finger Nails\",\"xref\":\"x\",\"y\":\"OccuPational Hazards\",\"yref\":\"y\"},{\"font\":{\"color\":\"#FFFFFF\"},\"showarrow\":false,\"text\":\"0.08\",\"x\":\"Frequent Cold\",\"xref\":\"x\",\"y\":\"OccuPational Hazards\",\"yref\":\"y\"},{\"font\":{\"color\":\"#FFFFFF\"},\"showarrow\":false,\"text\":\"0.16\",\"x\":\"Dry Cough\",\"xref\":\"x\",\"y\":\"OccuPational Hazards\",\"yref\":\"y\"},{\"font\":{\"color\":\"#FFFFFF\"},\"showarrow\":false,\"text\":\"0.02\",\"x\":\"Snoring\",\"xref\":\"x\",\"y\":\"OccuPational Hazards\",\"yref\":\"y\"},{\"font\":{\"color\":\"#000000\"},\"showarrow\":false,\"text\":\"0.67\",\"x\":\"Level\",\"xref\":\"x\",\"y\":\"OccuPational Hazards\",\"yref\":\"y\"},{\"font\":{\"color\":\"#FFFFFF\"},\"showarrow\":false,\"text\":\"0.06\",\"x\":\"Age\",\"xref\":\"x\",\"y\":\"Genetic Risk\",\"yref\":\"y\"},{\"font\":{\"color\":\"#FFFFFF\"},\"showarrow\":false,\"text\":\"-0.22\",\"x\":\"Gender\",\"xref\":\"x\",\"y\":\"Genetic Risk\",\"yref\":\"y\"},{\"font\":{\"color\":\"#000000\"},\"showarrow\":false,\"text\":\"0.7\",\"x\":\"Air Pollution\",\"xref\":\"x\",\"y\":\"Genetic Risk\",\"yref\":\"y\"},{\"font\":{\"color\":\"#000000\"},\"showarrow\":false,\"text\":\"0.88\",\"x\":\"Alcohol use\",\"xref\":\"x\",\"y\":\"Genetic Risk\",\"yref\":\"y\"},{\"font\":{\"color\":\"#000000\"},\"showarrow\":false,\"text\":\"0.79\",\"x\":\"Dust Allergy\",\"xref\":\"x\",\"y\":\"Genetic Risk\",\"yref\":\"y\"},{\"font\":{\"color\":\"#000000\"},\"showarrow\":false,\"text\":\"0.89\",\"x\":\"OccuPational Hazards\",\"xref\":\"x\",\"y\":\"Genetic Risk\",\"yref\":\"y\"},{\"font\":{\"color\":\"#000000\"},\"showarrow\":false,\"text\":\"1.0\",\"x\":\"Genetic Risk\",\"xref\":\"x\",\"y\":\"Genetic Risk\",\"yref\":\"y\"},{\"font\":{\"color\":\"#000000\"},\"showarrow\":false,\"text\":\"0.84\",\"x\":\"chronic Lung Disease\",\"xref\":\"x\",\"y\":\"Genetic Risk\",\"yref\":\"y\"},{\"font\":{\"color\":\"#000000\"},\"showarrow\":false,\"text\":\"0.68\",\"x\":\"Balanced Diet\",\"xref\":\"x\",\"y\":\"Genetic Risk\",\"yref\":\"y\"},{\"font\":{\"color\":\"#000000\"},\"showarrow\":false,\"text\":\"0.73\",\"x\":\"Obesity\",\"xref\":\"x\",\"y\":\"Genetic Risk\",\"yref\":\"y\"},{\"font\":{\"color\":\"#000000\"},\"showarrow\":false,\"text\":\"0.54\",\"x\":\"Smoking\",\"xref\":\"x\",\"y\":\"Genetic Risk\",\"yref\":\"y\"},{\"font\":{\"color\":\"#000000\"},\"showarrow\":false,\"text\":\"0.61\",\"x\":\"Passive Smoker\",\"xref\":\"x\",\"y\":\"Genetic Risk\",\"yref\":\"y\"},{\"font\":{\"color\":\"#000000\"},\"showarrow\":false,\"text\":\"0.83\",\"x\":\"Chest Pain\",\"xref\":\"x\",\"y\":\"Genetic Risk\",\"yref\":\"y\"},{\"font\":{\"color\":\"#000000\"},\"showarrow\":false,\"text\":\"0.63\",\"x\":\"Coughing of Blood\",\"xref\":\"x\",\"y\":\"Genetic Risk\",\"yref\":\"y\"},{\"font\":{\"color\":\"#FFFFFF\"},\"showarrow\":false,\"text\":\"0.23\",\"x\":\"Fatigue\",\"xref\":\"x\",\"y\":\"Genetic Risk\",\"yref\":\"y\"},{\"font\":{\"color\":\"#FFFFFF\"},\"showarrow\":false,\"text\":\"0.28\",\"x\":\"Weight Loss\",\"xref\":\"x\",\"y\":\"Genetic Risk\",\"yref\":\"y\"},{\"font\":{\"color\":\"#000000\"},\"showarrow\":false,\"text\":\"0.46\",\"x\":\"Shortness of Breath\",\"xref\":\"x\",\"y\":\"Genetic Risk\",\"yref\":\"y\"},{\"font\":{\"color\":\"#FFFFFF\"},\"showarrow\":false,\"text\":\"0.21\",\"x\":\"Wheezing\",\"xref\":\"x\",\"y\":\"Genetic Risk\",\"yref\":\"y\"},{\"font\":{\"color\":\"#FFFFFF\"},\"showarrow\":false,\"text\":\"-0.06\",\"x\":\"Swallowing Difficulty\",\"xref\":\"x\",\"y\":\"Genetic Risk\",\"yref\":\"y\"},{\"font\":{\"color\":\"#FFFFFF\"},\"showarrow\":false,\"text\":\"0.37\",\"x\":\"Clubbing of Finger Nails\",\"xref\":\"x\",\"y\":\"Genetic Risk\",\"yref\":\"y\"},{\"font\":{\"color\":\"#FFFFFF\"},\"showarrow\":false,\"text\":\"0.1\",\"x\":\"Frequent Cold\",\"xref\":\"x\",\"y\":\"Genetic Risk\",\"yref\":\"y\"},{\"font\":{\"color\":\"#FFFFFF\"},\"showarrow\":false,\"text\":\"0.19\",\"x\":\"Dry Cough\",\"xref\":\"x\",\"y\":\"Genetic Risk\",\"yref\":\"y\"},{\"font\":{\"color\":\"#FFFFFF\"},\"showarrow\":false,\"text\":\"-0.05\",\"x\":\"Snoring\",\"xref\":\"x\",\"y\":\"Genetic Risk\",\"yref\":\"y\"},{\"font\":{\"color\":\"#000000\"},\"showarrow\":false,\"text\":\"0.7\",\"x\":\"Level\",\"xref\":\"x\",\"y\":\"Genetic Risk\",\"yref\":\"y\"},{\"font\":{\"color\":\"#FFFFFF\"},\"showarrow\":false,\"text\":\"0.12\",\"x\":\"Age\",\"xref\":\"x\",\"y\":\"chronic Lung Disease\",\"yref\":\"y\"},{\"font\":{\"color\":\"#FFFFFF\"},\"showarrow\":false,\"text\":\"-0.2\",\"x\":\"Gender\",\"xref\":\"x\",\"y\":\"chronic Lung Disease\",\"yref\":\"y\"},{\"font\":{\"color\":\"#000000\"},\"showarrow\":false,\"text\":\"0.63\",\"x\":\"Air Pollution\",\"xref\":\"x\",\"y\":\"chronic Lung Disease\",\"yref\":\"y\"},{\"font\":{\"color\":\"#000000\"},\"showarrow\":false,\"text\":\"0.76\",\"x\":\"Alcohol use\",\"xref\":\"x\",\"y\":\"chronic Lung Disease\",\"yref\":\"y\"},{\"font\":{\"color\":\"#000000\"},\"showarrow\":false,\"text\":\"0.62\",\"x\":\"Dust Allergy\",\"xref\":\"x\",\"y\":\"chronic Lung Disease\",\"yref\":\"y\"},{\"font\":{\"color\":\"#000000\"},\"showarrow\":false,\"text\":\"0.86\",\"x\":\"OccuPational Hazards\",\"xref\":\"x\",\"y\":\"chronic Lung Disease\",\"yref\":\"y\"},{\"font\":{\"color\":\"#000000\"},\"showarrow\":false,\"text\":\"0.84\",\"x\":\"Genetic Risk\",\"xref\":\"x\",\"y\":\"chronic Lung Disease\",\"yref\":\"y\"},{\"font\":{\"color\":\"#000000\"},\"showarrow\":false,\"text\":\"1.0\",\"x\":\"chronic Lung Disease\",\"xref\":\"x\",\"y\":\"chronic Lung Disease\",\"yref\":\"y\"},{\"font\":{\"color\":\"#000000\"},\"showarrow\":false,\"text\":\"0.62\",\"x\":\"Balanced Diet\",\"xref\":\"x\",\"y\":\"chronic Lung Disease\",\"yref\":\"y\"},{\"font\":{\"color\":\"#000000\"},\"showarrow\":false,\"text\":\"0.6\",\"x\":\"Obesity\",\"xref\":\"x\",\"y\":\"chronic Lung Disease\",\"yref\":\"y\"},{\"font\":{\"color\":\"#000000\"},\"showarrow\":false,\"text\":\"0.58\",\"x\":\"Smoking\",\"xref\":\"x\",\"y\":\"chronic Lung Disease\",\"yref\":\"y\"},{\"font\":{\"color\":\"#000000\"},\"showarrow\":false,\"text\":\"0.57\",\"x\":\"Passive Smoker\",\"xref\":\"x\",\"y\":\"chronic Lung Disease\",\"yref\":\"y\"},{\"font\":{\"color\":\"#000000\"},\"showarrow\":false,\"text\":\"0.78\",\"x\":\"Chest Pain\",\"xref\":\"x\",\"y\":\"chronic Lung Disease\",\"yref\":\"y\"},{\"font\":{\"color\":\"#000000\"},\"showarrow\":false,\"text\":\"0.6\",\"x\":\"Coughing of Blood\",\"xref\":\"x\",\"y\":\"chronic Lung Disease\",\"yref\":\"y\"},{\"font\":{\"color\":\"#FFFFFF\"},\"showarrow\":false,\"text\":\"0.25\",\"x\":\"Fatigue\",\"xref\":\"x\",\"y\":\"chronic Lung Disease\",\"yref\":\"y\"},{\"font\":{\"color\":\"#FFFFFF\"},\"showarrow\":false,\"text\":\"0.11\",\"x\":\"Weight Loss\",\"xref\":\"x\",\"y\":\"chronic Lung Disease\",\"yref\":\"y\"},{\"font\":{\"color\":\"#FFFFFF\"},\"showarrow\":false,\"text\":\"0.18\",\"x\":\"Shortness of Breath\",\"xref\":\"x\",\"y\":\"chronic Lung Disease\",\"yref\":\"y\"},{\"font\":{\"color\":\"#FFFFFF\"},\"showarrow\":false,\"text\":\"0.06\",\"x\":\"Wheezing\",\"xref\":\"x\",\"y\":\"chronic Lung Disease\",\"yref\":\"y\"},{\"font\":{\"color\":\"#FFFFFF\"},\"showarrow\":false,\"text\":\"0.01\",\"x\":\"Swallowing Difficulty\",\"xref\":\"x\",\"y\":\"chronic Lung Disease\",\"yref\":\"y\"},{\"font\":{\"color\":\"#FFFFFF\"},\"showarrow\":false,\"text\":\"0.3\",\"x\":\"Clubbing of Finger Nails\",\"xref\":\"x\",\"y\":\"chronic Lung Disease\",\"yref\":\"y\"},{\"font\":{\"color\":\"#FFFFFF\"},\"showarrow\":false,\"text\":\"0.03\",\"x\":\"Frequent Cold\",\"xref\":\"x\",\"y\":\"chronic Lung Disease\",\"yref\":\"y\"},{\"font\":{\"color\":\"#FFFFFF\"},\"showarrow\":false,\"text\":\"0.11\",\"x\":\"Dry Cough\",\"xref\":\"x\",\"y\":\"chronic Lung Disease\",\"yref\":\"y\"},{\"font\":{\"color\":\"#FFFFFF\"},\"showarrow\":false,\"text\":\"0.05\",\"x\":\"Snoring\",\"xref\":\"x\",\"y\":\"chronic Lung Disease\",\"yref\":\"y\"},{\"font\":{\"color\":\"#000000\"},\"showarrow\":false,\"text\":\"0.61\",\"x\":\"Level\",\"xref\":\"x\",\"y\":\"chronic Lung Disease\",\"yref\":\"y\"},{\"font\":{\"color\":\"#FFFFFF\"},\"showarrow\":false,\"text\":\"-0.02\",\"x\":\"Age\",\"xref\":\"x\",\"y\":\"Balanced Diet\",\"yref\":\"y\"},{\"font\":{\"color\":\"#FFFFFF\"},\"showarrow\":false,\"text\":\"-0.09\",\"x\":\"Gender\",\"xref\":\"x\",\"y\":\"Balanced Diet\",\"yref\":\"y\"},{\"font\":{\"color\":\"#000000\"},\"showarrow\":false,\"text\":\"0.52\",\"x\":\"Air Pollution\",\"xref\":\"x\",\"y\":\"Balanced Diet\",\"yref\":\"y\"},{\"font\":{\"color\":\"#000000\"},\"showarrow\":false,\"text\":\"0.65\",\"x\":\"Alcohol use\",\"xref\":\"x\",\"y\":\"Balanced Diet\",\"yref\":\"y\"},{\"font\":{\"color\":\"#000000\"},\"showarrow\":false,\"text\":\"0.65\",\"x\":\"Dust Allergy\",\"xref\":\"x\",\"y\":\"Balanced Diet\",\"yref\":\"y\"},{\"font\":{\"color\":\"#000000\"},\"showarrow\":false,\"text\":\"0.69\",\"x\":\"OccuPational Hazards\",\"xref\":\"x\",\"y\":\"Balanced Diet\",\"yref\":\"y\"},{\"font\":{\"color\":\"#000000\"},\"showarrow\":false,\"text\":\"0.68\",\"x\":\"Genetic Risk\",\"xref\":\"x\",\"y\":\"Balanced Diet\",\"yref\":\"y\"},{\"font\":{\"color\":\"#000000\"},\"showarrow\":false,\"text\":\"0.62\",\"x\":\"chronic Lung Disease\",\"xref\":\"x\",\"y\":\"Balanced Diet\",\"yref\":\"y\"},{\"font\":{\"color\":\"#000000\"},\"showarrow\":false,\"text\":\"1.0\",\"x\":\"Balanced Diet\",\"xref\":\"x\",\"y\":\"Balanced Diet\",\"yref\":\"y\"},{\"font\":{\"color\":\"#000000\"},\"showarrow\":false,\"text\":\"0.71\",\"x\":\"Obesity\",\"xref\":\"x\",\"y\":\"Balanced Diet\",\"yref\":\"y\"},{\"font\":{\"color\":\"#000000\"},\"showarrow\":false,\"text\":\"0.64\",\"x\":\"Smoking\",\"xref\":\"x\",\"y\":\"Balanced Diet\",\"yref\":\"y\"},{\"font\":{\"color\":\"#000000\"},\"showarrow\":false,\"text\":\"0.72\",\"x\":\"Passive Smoker\",\"xref\":\"x\",\"y\":\"Balanced Diet\",\"yref\":\"y\"},{\"font\":{\"color\":\"#000000\"},\"showarrow\":false,\"text\":\"0.8\",\"x\":\"Chest Pain\",\"xref\":\"x\",\"y\":\"Balanced Diet\",\"yref\":\"y\"},{\"font\":{\"color\":\"#000000\"},\"showarrow\":false,\"text\":\"0.75\",\"x\":\"Coughing of Blood\",\"xref\":\"x\",\"y\":\"Balanced Diet\",\"yref\":\"y\"},{\"font\":{\"color\":\"#000000\"},\"showarrow\":false,\"text\":\"0.4\",\"x\":\"Fatigue\",\"xref\":\"x\",\"y\":\"Balanced Diet\",\"yref\":\"y\"},{\"font\":{\"color\":\"#FFFFFF\"},\"showarrow\":false,\"text\":\"-0.0\",\"x\":\"Weight Loss\",\"xref\":\"x\",\"y\":\"Balanced Diet\",\"yref\":\"y\"},{\"font\":{\"color\":\"#FFFFFF\"},\"showarrow\":false,\"text\":\"0.34\",\"x\":\"Shortness of Breath\",\"xref\":\"x\",\"y\":\"Balanced Diet\",\"yref\":\"y\"},{\"font\":{\"color\":\"#FFFFFF\"},\"showarrow\":false,\"text\":\"0.07\",\"x\":\"Wheezing\",\"xref\":\"x\",\"y\":\"Balanced Diet\",\"yref\":\"y\"},{\"font\":{\"color\":\"#FFFFFF\"},\"showarrow\":false,\"text\":\"0.06\",\"x\":\"Swallowing Difficulty\",\"xref\":\"x\",\"y\":\"Balanced Diet\",\"yref\":\"y\"},{\"font\":{\"color\":\"#FFFFFF\"},\"showarrow\":false,\"text\":\"0.05\",\"x\":\"Clubbing of Finger Nails\",\"xref\":\"x\",\"y\":\"Balanced Diet\",\"yref\":\"y\"},{\"font\":{\"color\":\"#FFFFFF\"},\"showarrow\":false,\"text\":\"0.28\",\"x\":\"Frequent Cold\",\"xref\":\"x\",\"y\":\"Balanced Diet\",\"yref\":\"y\"},{\"font\":{\"color\":\"#FFFFFF\"},\"showarrow\":false,\"text\":\"0.33\",\"x\":\"Dry Cough\",\"xref\":\"x\",\"y\":\"Balanced Diet\",\"yref\":\"y\"},{\"font\":{\"color\":\"#FFFFFF\"},\"showarrow\":false,\"text\":\"0.16\",\"x\":\"Snoring\",\"xref\":\"x\",\"y\":\"Balanced Diet\",\"yref\":\"y\"},{\"font\":{\"color\":\"#000000\"},\"showarrow\":false,\"text\":\"0.71\",\"x\":\"Level\",\"xref\":\"x\",\"y\":\"Balanced Diet\",\"yref\":\"y\"},{\"font\":{\"color\":\"#FFFFFF\"},\"showarrow\":false,\"text\":\"0.03\",\"x\":\"Age\",\"xref\":\"x\",\"y\":\"Obesity\",\"yref\":\"y\"},{\"font\":{\"color\":\"#FFFFFF\"},\"showarrow\":false,\"text\":\"-0.12\",\"x\":\"Gender\",\"xref\":\"x\",\"y\":\"Obesity\",\"yref\":\"y\"},{\"font\":{\"color\":\"#000000\"},\"showarrow\":false,\"text\":\"0.6\",\"x\":\"Air Pollution\",\"xref\":\"x\",\"y\":\"Obesity\",\"yref\":\"y\"},{\"font\":{\"color\":\"#000000\"},\"showarrow\":false,\"text\":\"0.67\",\"x\":\"Alcohol use\",\"xref\":\"x\",\"y\":\"Obesity\",\"yref\":\"y\"},{\"font\":{\"color\":\"#000000\"},\"showarrow\":false,\"text\":\"0.7\",\"x\":\"Dust Allergy\",\"xref\":\"x\",\"y\":\"Obesity\",\"yref\":\"y\"},{\"font\":{\"color\":\"#000000\"},\"showarrow\":false,\"text\":\"0.72\",\"x\":\"OccuPational Hazards\",\"xref\":\"x\",\"y\":\"Obesity\",\"yref\":\"y\"},{\"font\":{\"color\":\"#000000\"},\"showarrow\":false,\"text\":\"0.73\",\"x\":\"Genetic Risk\",\"xref\":\"x\",\"y\":\"Obesity\",\"yref\":\"y\"},{\"font\":{\"color\":\"#000000\"},\"showarrow\":false,\"text\":\"0.6\",\"x\":\"chronic Lung Disease\",\"xref\":\"x\",\"y\":\"Obesity\",\"yref\":\"y\"},{\"font\":{\"color\":\"#000000\"},\"showarrow\":false,\"text\":\"0.71\",\"x\":\"Balanced Diet\",\"xref\":\"x\",\"y\":\"Obesity\",\"yref\":\"y\"},{\"font\":{\"color\":\"#000000\"},\"showarrow\":false,\"text\":\"1.0\",\"x\":\"Obesity\",\"xref\":\"x\",\"y\":\"Obesity\",\"yref\":\"y\"},{\"font\":{\"color\":\"#000000\"},\"showarrow\":false,\"text\":\"0.49\",\"x\":\"Smoking\",\"xref\":\"x\",\"y\":\"Obesity\",\"yref\":\"y\"},{\"font\":{\"color\":\"#000000\"},\"showarrow\":false,\"text\":\"0.68\",\"x\":\"Passive Smoker\",\"xref\":\"x\",\"y\":\"Obesity\",\"yref\":\"y\"},{\"font\":{\"color\":\"#000000\"},\"showarrow\":false,\"text\":\"0.67\",\"x\":\"Chest Pain\",\"xref\":\"x\",\"y\":\"Obesity\",\"yref\":\"y\"},{\"font\":{\"color\":\"#000000\"},\"showarrow\":false,\"text\":\"0.81\",\"x\":\"Coughing of Blood\",\"xref\":\"x\",\"y\":\"Obesity\",\"yref\":\"y\"},{\"font\":{\"color\":\"#000000\"},\"showarrow\":false,\"text\":\"0.55\",\"x\":\"Fatigue\",\"xref\":\"x\",\"y\":\"Obesity\",\"yref\":\"y\"},{\"font\":{\"color\":\"#FFFFFF\"},\"showarrow\":false,\"text\":\"0.31\",\"x\":\"Weight Loss\",\"xref\":\"x\",\"y\":\"Obesity\",\"yref\":\"y\"},{\"font\":{\"color\":\"#000000\"},\"showarrow\":false,\"text\":\"0.41\",\"x\":\"Shortness of Breath\",\"xref\":\"x\",\"y\":\"Obesity\",\"yref\":\"y\"},{\"font\":{\"color\":\"#FFFFFF\"},\"showarrow\":false,\"text\":\"0.1\",\"x\":\"Wheezing\",\"xref\":\"x\",\"y\":\"Obesity\",\"yref\":\"y\"},{\"font\":{\"color\":\"#FFFFFF\"},\"showarrow\":false,\"text\":\"0.13\",\"x\":\"Swallowing Difficulty\",\"xref\":\"x\",\"y\":\"Obesity\",\"yref\":\"y\"},{\"font\":{\"color\":\"#FFFFFF\"},\"showarrow\":false,\"text\":\"0.15\",\"x\":\"Clubbing of Finger Nails\",\"xref\":\"x\",\"y\":\"Obesity\",\"yref\":\"y\"},{\"font\":{\"color\":\"#FFFFFF\"},\"showarrow\":false,\"text\":\"0.29\",\"x\":\"Frequent Cold\",\"xref\":\"x\",\"y\":\"Obesity\",\"yref\":\"y\"},{\"font\":{\"color\":\"#FFFFFF\"},\"showarrow\":false,\"text\":\"0.2\",\"x\":\"Dry Cough\",\"xref\":\"x\",\"y\":\"Obesity\",\"yref\":\"y\"},{\"font\":{\"color\":\"#FFFFFF\"},\"showarrow\":false,\"text\":\"0.04\",\"x\":\"Snoring\",\"xref\":\"x\",\"y\":\"Obesity\",\"yref\":\"y\"},{\"font\":{\"color\":\"#000000\"},\"showarrow\":false,\"text\":\"0.83\",\"x\":\"Level\",\"xref\":\"x\",\"y\":\"Obesity\",\"yref\":\"y\"},{\"font\":{\"color\":\"#FFFFFF\"},\"showarrow\":false,\"text\":\"0.03\",\"x\":\"Age\",\"xref\":\"x\",\"y\":\"Smoking\",\"yref\":\"y\"},{\"font\":{\"color\":\"#FFFFFF\"},\"showarrow\":false,\"text\":\"-0.2\",\"x\":\"Gender\",\"xref\":\"x\",\"y\":\"Smoking\",\"yref\":\"y\"},{\"font\":{\"color\":\"#000000\"},\"showarrow\":false,\"text\":\"0.48\",\"x\":\"Air Pollution\",\"xref\":\"x\",\"y\":\"Smoking\",\"yref\":\"y\"},{\"font\":{\"color\":\"#000000\"},\"showarrow\":false,\"text\":\"0.55\",\"x\":\"Alcohol use\",\"xref\":\"x\",\"y\":\"Smoking\",\"yref\":\"y\"},{\"font\":{\"color\":\"#FFFFFF\"},\"showarrow\":false,\"text\":\"0.36\",\"x\":\"Dust Allergy\",\"xref\":\"x\",\"y\":\"Smoking\",\"yref\":\"y\"},{\"font\":{\"color\":\"#000000\"},\"showarrow\":false,\"text\":\"0.5\",\"x\":\"OccuPational Hazards\",\"xref\":\"x\",\"y\":\"Smoking\",\"yref\":\"y\"},{\"font\":{\"color\":\"#000000\"},\"showarrow\":false,\"text\":\"0.54\",\"x\":\"Genetic Risk\",\"xref\":\"x\",\"y\":\"Smoking\",\"yref\":\"y\"},{\"font\":{\"color\":\"#000000\"},\"showarrow\":false,\"text\":\"0.58\",\"x\":\"chronic Lung Disease\",\"xref\":\"x\",\"y\":\"Smoking\",\"yref\":\"y\"},{\"font\":{\"color\":\"#000000\"},\"showarrow\":false,\"text\":\"0.64\",\"x\":\"Balanced Diet\",\"xref\":\"x\",\"y\":\"Smoking\",\"yref\":\"y\"},{\"font\":{\"color\":\"#000000\"},\"showarrow\":false,\"text\":\"0.49\",\"x\":\"Obesity\",\"xref\":\"x\",\"y\":\"Smoking\",\"yref\":\"y\"},{\"font\":{\"color\":\"#000000\"},\"showarrow\":false,\"text\":\"1.0\",\"x\":\"Smoking\",\"xref\":\"x\",\"y\":\"Smoking\",\"yref\":\"y\"},{\"font\":{\"color\":\"#000000\"},\"showarrow\":false,\"text\":\"0.77\",\"x\":\"Passive Smoker\",\"xref\":\"x\",\"y\":\"Smoking\",\"yref\":\"y\"},{\"font\":{\"color\":\"#000000\"},\"showarrow\":false,\"text\":\"0.65\",\"x\":\"Chest Pain\",\"xref\":\"x\",\"y\":\"Smoking\",\"yref\":\"y\"},{\"font\":{\"color\":\"#000000\"},\"showarrow\":false,\"text\":\"0.56\",\"x\":\"Coughing of Blood\",\"xref\":\"x\",\"y\":\"Smoking\",\"yref\":\"y\"},{\"font\":{\"color\":\"#FFFFFF\"},\"showarrow\":false,\"text\":\"0.2\",\"x\":\"Fatigue\",\"xref\":\"x\",\"y\":\"Smoking\",\"yref\":\"y\"},{\"font\":{\"color\":\"#FFFFFF\"},\"showarrow\":false,\"text\":\"-0.21\",\"x\":\"Weight Loss\",\"xref\":\"x\",\"y\":\"Smoking\",\"yref\":\"y\"},{\"font\":{\"color\":\"#FFFFFF\"},\"showarrow\":false,\"text\":\"-0.04\",\"x\":\"Shortness of Breath\",\"xref\":\"x\",\"y\":\"Smoking\",\"yref\":\"y\"},{\"font\":{\"color\":\"#FFFFFF\"},\"showarrow\":false,\"text\":\"-0.03\",\"x\":\"Wheezing\",\"xref\":\"x\",\"y\":\"Smoking\",\"yref\":\"y\"},{\"font\":{\"color\":\"#FFFFFF\"},\"showarrow\":false,\"text\":\"0.26\",\"x\":\"Swallowing Difficulty\",\"xref\":\"x\",\"y\":\"Smoking\",\"yref\":\"y\"},{\"font\":{\"color\":\"#FFFFFF\"},\"showarrow\":false,\"text\":\"-0.03\",\"x\":\"Clubbing of Finger Nails\",\"xref\":\"x\",\"y\":\"Smoking\",\"yref\":\"y\"},{\"font\":{\"color\":\"#FFFFFF\"},\"showarrow\":false,\"text\":\"0.06\",\"x\":\"Frequent Cold\",\"xref\":\"x\",\"y\":\"Smoking\",\"yref\":\"y\"},{\"font\":{\"color\":\"#FFFFFF\"},\"showarrow\":false,\"text\":\"-0.01\",\"x\":\"Dry Cough\",\"xref\":\"x\",\"y\":\"Smoking\",\"yref\":\"y\"},{\"font\":{\"color\":\"#FFFFFF\"},\"showarrow\":false,\"text\":\"0.2\",\"x\":\"Snoring\",\"xref\":\"x\",\"y\":\"Smoking\",\"yref\":\"y\"},{\"font\":{\"color\":\"#000000\"},\"showarrow\":false,\"text\":\"0.53\",\"x\":\"Level\",\"xref\":\"x\",\"y\":\"Smoking\",\"yref\":\"y\"},{\"font\":{\"color\":\"#FFFFFF\"},\"showarrow\":false,\"text\":\"-0.01\",\"x\":\"Age\",\"xref\":\"x\",\"y\":\"Passive Smoker\",\"yref\":\"y\"},{\"font\":{\"color\":\"#FFFFFF\"},\"showarrow\":false,\"text\":\"-0.18\",\"x\":\"Gender\",\"xref\":\"x\",\"y\":\"Passive Smoker\",\"yref\":\"y\"},{\"font\":{\"color\":\"#000000\"},\"showarrow\":false,\"text\":\"0.61\",\"x\":\"Air Pollution\",\"xref\":\"x\",\"y\":\"Passive Smoker\",\"yref\":\"y\"},{\"font\":{\"color\":\"#000000\"},\"showarrow\":false,\"text\":\"0.59\",\"x\":\"Alcohol use\",\"xref\":\"x\",\"y\":\"Passive Smoker\",\"yref\":\"y\"},{\"font\":{\"color\":\"#000000\"},\"showarrow\":false,\"text\":\"0.56\",\"x\":\"Dust Allergy\",\"xref\":\"x\",\"y\":\"Passive Smoker\",\"yref\":\"y\"},{\"font\":{\"color\":\"#000000\"},\"showarrow\":false,\"text\":\"0.56\",\"x\":\"OccuPational Hazards\",\"xref\":\"x\",\"y\":\"Passive Smoker\",\"yref\":\"y\"},{\"font\":{\"color\":\"#000000\"},\"showarrow\":false,\"text\":\"0.61\",\"x\":\"Genetic Risk\",\"xref\":\"x\",\"y\":\"Passive Smoker\",\"yref\":\"y\"},{\"font\":{\"color\":\"#000000\"},\"showarrow\":false,\"text\":\"0.57\",\"x\":\"chronic Lung Disease\",\"xref\":\"x\",\"y\":\"Passive Smoker\",\"yref\":\"y\"},{\"font\":{\"color\":\"#000000\"},\"showarrow\":false,\"text\":\"0.72\",\"x\":\"Balanced Diet\",\"xref\":\"x\",\"y\":\"Passive Smoker\",\"yref\":\"y\"},{\"font\":{\"color\":\"#000000\"},\"showarrow\":false,\"text\":\"0.68\",\"x\":\"Obesity\",\"xref\":\"x\",\"y\":\"Passive Smoker\",\"yref\":\"y\"},{\"font\":{\"color\":\"#000000\"},\"showarrow\":false,\"text\":\"0.77\",\"x\":\"Smoking\",\"xref\":\"x\",\"y\":\"Passive Smoker\",\"yref\":\"y\"},{\"font\":{\"color\":\"#000000\"},\"showarrow\":false,\"text\":\"1.0\",\"x\":\"Passive Smoker\",\"xref\":\"x\",\"y\":\"Passive Smoker\",\"yref\":\"y\"},{\"font\":{\"color\":\"#000000\"},\"showarrow\":false,\"text\":\"0.7\",\"x\":\"Chest Pain\",\"xref\":\"x\",\"y\":\"Passive Smoker\",\"yref\":\"y\"},{\"font\":{\"color\":\"#000000\"},\"showarrow\":false,\"text\":\"0.64\",\"x\":\"Coughing of Blood\",\"xref\":\"x\",\"y\":\"Passive Smoker\",\"yref\":\"y\"},{\"font\":{\"color\":\"#FFFFFF\"},\"showarrow\":false,\"text\":\"0.38\",\"x\":\"Fatigue\",\"xref\":\"x\",\"y\":\"Passive Smoker\",\"yref\":\"y\"},{\"font\":{\"color\":\"#FFFFFF\"},\"showarrow\":false,\"text\":\"0.06\",\"x\":\"Weight Loss\",\"xref\":\"x\",\"y\":\"Passive Smoker\",\"yref\":\"y\"},{\"font\":{\"color\":\"#FFFFFF\"},\"showarrow\":false,\"text\":\"0.06\",\"x\":\"Shortness of Breath\",\"xref\":\"x\",\"y\":\"Passive Smoker\",\"yref\":\"y\"},{\"font\":{\"color\":\"#FFFFFF\"},\"showarrow\":false,\"text\":\"0.2\",\"x\":\"Wheezing\",\"xref\":\"x\",\"y\":\"Passive Smoker\",\"yref\":\"y\"},{\"font\":{\"color\":\"#FFFFFF\"},\"showarrow\":false,\"text\":\"0.36\",\"x\":\"Swallowing Difficulty\",\"xref\":\"x\",\"y\":\"Passive Smoker\",\"yref\":\"y\"},{\"font\":{\"color\":\"#FFFFFF\"},\"showarrow\":false,\"text\":\"-0.03\",\"x\":\"Clubbing of Finger Nails\",\"xref\":\"x\",\"y\":\"Passive Smoker\",\"yref\":\"y\"},{\"font\":{\"color\":\"#FFFFFF\"},\"showarrow\":false,\"text\":\"0.11\",\"x\":\"Frequent Cold\",\"xref\":\"x\",\"y\":\"Passive Smoker\",\"yref\":\"y\"},{\"font\":{\"color\":\"#FFFFFF\"},\"showarrow\":false,\"text\":\"0.12\",\"x\":\"Dry Cough\",\"xref\":\"x\",\"y\":\"Passive Smoker\",\"yref\":\"y\"},{\"font\":{\"color\":\"#FFFFFF\"},\"showarrow\":false,\"text\":\"0.25\",\"x\":\"Snoring\",\"xref\":\"x\",\"y\":\"Passive Smoker\",\"yref\":\"y\"},{\"font\":{\"color\":\"#000000\"},\"showarrow\":false,\"text\":\"0.7\",\"x\":\"Level\",\"xref\":\"x\",\"y\":\"Passive Smoker\",\"yref\":\"y\"},{\"font\":{\"color\":\"#FFFFFF\"},\"showarrow\":false,\"text\":\"0.01\",\"x\":\"Age\",\"xref\":\"x\",\"y\":\"Chest Pain\",\"yref\":\"y\"},{\"font\":{\"color\":\"#FFFFFF\"},\"showarrow\":false,\"text\":\"-0.22\",\"x\":\"Gender\",\"xref\":\"x\",\"y\":\"Chest Pain\",\"yref\":\"y\"},{\"font\":{\"color\":\"#000000\"},\"showarrow\":false,\"text\":\"0.59\",\"x\":\"Air Pollution\",\"xref\":\"x\",\"y\":\"Chest Pain\",\"yref\":\"y\"},{\"font\":{\"color\":\"#000000\"},\"showarrow\":false,\"text\":\"0.72\",\"x\":\"Alcohol use\",\"xref\":\"x\",\"y\":\"Chest Pain\",\"yref\":\"y\"},{\"font\":{\"color\":\"#000000\"},\"showarrow\":false,\"text\":\"0.64\",\"x\":\"Dust Allergy\",\"xref\":\"x\",\"y\":\"Chest Pain\",\"yref\":\"y\"},{\"font\":{\"color\":\"#000000\"},\"showarrow\":false,\"text\":\"0.78\",\"x\":\"OccuPational Hazards\",\"xref\":\"x\",\"y\":\"Chest Pain\",\"yref\":\"y\"},{\"font\":{\"color\":\"#000000\"},\"showarrow\":false,\"text\":\"0.83\",\"x\":\"Genetic Risk\",\"xref\":\"x\",\"y\":\"Chest Pain\",\"yref\":\"y\"},{\"font\":{\"color\":\"#000000\"},\"showarrow\":false,\"text\":\"0.78\",\"x\":\"chronic Lung Disease\",\"xref\":\"x\",\"y\":\"Chest Pain\",\"yref\":\"y\"},{\"font\":{\"color\":\"#000000\"},\"showarrow\":false,\"text\":\"0.8\",\"x\":\"Balanced Diet\",\"xref\":\"x\",\"y\":\"Chest Pain\",\"yref\":\"y\"},{\"font\":{\"color\":\"#000000\"},\"showarrow\":false,\"text\":\"0.67\",\"x\":\"Obesity\",\"xref\":\"x\",\"y\":\"Chest Pain\",\"yref\":\"y\"},{\"font\":{\"color\":\"#000000\"},\"showarrow\":false,\"text\":\"0.65\",\"x\":\"Smoking\",\"xref\":\"x\",\"y\":\"Chest Pain\",\"yref\":\"y\"},{\"font\":{\"color\":\"#000000\"},\"showarrow\":false,\"text\":\"0.7\",\"x\":\"Passive Smoker\",\"xref\":\"x\",\"y\":\"Chest Pain\",\"yref\":\"y\"},{\"font\":{\"color\":\"#000000\"},\"showarrow\":false,\"text\":\"1.0\",\"x\":\"Chest Pain\",\"xref\":\"x\",\"y\":\"Chest Pain\",\"yref\":\"y\"},{\"font\":{\"color\":\"#000000\"},\"showarrow\":false,\"text\":\"0.71\",\"x\":\"Coughing of Blood\",\"xref\":\"x\",\"y\":\"Chest Pain\",\"yref\":\"y\"},{\"font\":{\"color\":\"#FFFFFF\"},\"showarrow\":false,\"text\":\"0.25\",\"x\":\"Fatigue\",\"xref\":\"x\",\"y\":\"Chest Pain\",\"yref\":\"y\"},{\"font\":{\"color\":\"#FFFFFF\"},\"showarrow\":false,\"text\":\"-0.0\",\"x\":\"Weight Loss\",\"xref\":\"x\",\"y\":\"Chest Pain\",\"yref\":\"y\"},{\"font\":{\"color\":\"#FFFFFF\"},\"showarrow\":false,\"text\":\"0.24\",\"x\":\"Shortness of Breath\",\"xref\":\"x\",\"y\":\"Chest Pain\",\"yref\":\"y\"},{\"font\":{\"color\":\"#FFFFFF\"},\"showarrow\":false,\"text\":\"0.11\",\"x\":\"Wheezing\",\"xref\":\"x\",\"y\":\"Chest Pain\",\"yref\":\"y\"},{\"font\":{\"color\":\"#FFFFFF\"},\"showarrow\":false,\"text\":\"0.08\",\"x\":\"Swallowing Difficulty\",\"xref\":\"x\",\"y\":\"Chest Pain\",\"yref\":\"y\"},{\"font\":{\"color\":\"#FFFFFF\"},\"showarrow\":false,\"text\":\"0.08\",\"x\":\"Clubbing of Finger Nails\",\"xref\":\"x\",\"y\":\"Chest Pain\",\"yref\":\"y\"},{\"font\":{\"color\":\"#FFFFFF\"},\"showarrow\":false,\"text\":\"0.05\",\"x\":\"Frequent Cold\",\"xref\":\"x\",\"y\":\"Chest Pain\",\"yref\":\"y\"},{\"font\":{\"color\":\"#FFFFFF\"},\"showarrow\":false,\"text\":\"0.14\",\"x\":\"Dry Cough\",\"xref\":\"x\",\"y\":\"Chest Pain\",\"yref\":\"y\"},{\"font\":{\"color\":\"#FFFFFF\"},\"showarrow\":false,\"text\":\"0.14\",\"x\":\"Snoring\",\"xref\":\"x\",\"y\":\"Chest Pain\",\"yref\":\"y\"},{\"font\":{\"color\":\"#000000\"},\"showarrow\":false,\"text\":\"0.65\",\"x\":\"Level\",\"xref\":\"x\",\"y\":\"Chest Pain\",\"yref\":\"y\"},{\"font\":{\"color\":\"#FFFFFF\"},\"showarrow\":false,\"text\":\"0.05\",\"x\":\"Age\",\"xref\":\"x\",\"y\":\"Coughing of Blood\",\"yref\":\"y\"},{\"font\":{\"color\":\"#FFFFFF\"},\"showarrow\":false,\"text\":\"-0.15\",\"x\":\"Gender\",\"xref\":\"x\",\"y\":\"Coughing of Blood\",\"yref\":\"y\"},{\"font\":{\"color\":\"#000000\"},\"showarrow\":false,\"text\":\"0.61\",\"x\":\"Air Pollution\",\"xref\":\"x\",\"y\":\"Coughing of Blood\",\"yref\":\"y\"},{\"font\":{\"color\":\"#000000\"},\"showarrow\":false,\"text\":\"0.67\",\"x\":\"Alcohol use\",\"xref\":\"x\",\"y\":\"Coughing of Blood\",\"yref\":\"y\"},{\"font\":{\"color\":\"#000000\"},\"showarrow\":false,\"text\":\"0.63\",\"x\":\"Dust Allergy\",\"xref\":\"x\",\"y\":\"Coughing of Blood\",\"yref\":\"y\"},{\"font\":{\"color\":\"#000000\"},\"showarrow\":false,\"text\":\"0.65\",\"x\":\"OccuPational Hazards\",\"xref\":\"x\",\"y\":\"Coughing of Blood\",\"yref\":\"y\"},{\"font\":{\"color\":\"#000000\"},\"showarrow\":false,\"text\":\"0.63\",\"x\":\"Genetic Risk\",\"xref\":\"x\",\"y\":\"Coughing of Blood\",\"yref\":\"y\"},{\"font\":{\"color\":\"#000000\"},\"showarrow\":false,\"text\":\"0.6\",\"x\":\"chronic Lung Disease\",\"xref\":\"x\",\"y\":\"Coughing of Blood\",\"yref\":\"y\"},{\"font\":{\"color\":\"#000000\"},\"showarrow\":false,\"text\":\"0.75\",\"x\":\"Balanced Diet\",\"xref\":\"x\",\"y\":\"Coughing of Blood\",\"yref\":\"y\"},{\"font\":{\"color\":\"#000000\"},\"showarrow\":false,\"text\":\"0.81\",\"x\":\"Obesity\",\"xref\":\"x\",\"y\":\"Coughing of Blood\",\"yref\":\"y\"},{\"font\":{\"color\":\"#000000\"},\"showarrow\":false,\"text\":\"0.56\",\"x\":\"Smoking\",\"xref\":\"x\",\"y\":\"Coughing of Blood\",\"yref\":\"y\"},{\"font\":{\"color\":\"#000000\"},\"showarrow\":false,\"text\":\"0.64\",\"x\":\"Passive Smoker\",\"xref\":\"x\",\"y\":\"Coughing of Blood\",\"yref\":\"y\"},{\"font\":{\"color\":\"#000000\"},\"showarrow\":false,\"text\":\"0.71\",\"x\":\"Chest Pain\",\"xref\":\"x\",\"y\":\"Coughing of Blood\",\"yref\":\"y\"},{\"font\":{\"color\":\"#000000\"},\"showarrow\":false,\"text\":\"1.0\",\"x\":\"Coughing of Blood\",\"xref\":\"x\",\"y\":\"Coughing of Blood\",\"yref\":\"y\"},{\"font\":{\"color\":\"#000000\"},\"showarrow\":false,\"text\":\"0.48\",\"x\":\"Fatigue\",\"xref\":\"x\",\"y\":\"Coughing of Blood\",\"yref\":\"y\"},{\"font\":{\"color\":\"#FFFFFF\"},\"showarrow\":false,\"text\":\"0.11\",\"x\":\"Weight Loss\",\"xref\":\"x\",\"y\":\"Coughing of Blood\",\"yref\":\"y\"},{\"font\":{\"color\":\"#FFFFFF\"},\"showarrow\":false,\"text\":\"0.32\",\"x\":\"Shortness of Breath\",\"xref\":\"x\",\"y\":\"Coughing of Blood\",\"yref\":\"y\"},{\"font\":{\"color\":\"#FFFFFF\"},\"showarrow\":false,\"text\":\"-0.09\",\"x\":\"Wheezing\",\"xref\":\"x\",\"y\":\"Coughing of Blood\",\"yref\":\"y\"},{\"font\":{\"color\":\"#FFFFFF\"},\"showarrow\":false,\"text\":\"0.09\",\"x\":\"Swallowing Difficulty\",\"xref\":\"x\",\"y\":\"Coughing of Blood\",\"yref\":\"y\"},{\"font\":{\"color\":\"#FFFFFF\"},\"showarrow\":false,\"text\":\"-0.07\",\"x\":\"Clubbing of Finger Nails\",\"xref\":\"x\",\"y\":\"Coughing of Blood\",\"yref\":\"y\"},{\"font\":{\"color\":\"#FFFFFF\"},\"showarrow\":false,\"text\":\"0.25\",\"x\":\"Frequent Cold\",\"xref\":\"x\",\"y\":\"Coughing of Blood\",\"yref\":\"y\"},{\"font\":{\"color\":\"#FFFFFF\"},\"showarrow\":false,\"text\":\"0.15\",\"x\":\"Dry Cough\",\"xref\":\"x\",\"y\":\"Coughing of Blood\",\"yref\":\"y\"},{\"font\":{\"color\":\"#FFFFFF\"},\"showarrow\":false,\"text\":\"0.09\",\"x\":\"Snoring\",\"xref\":\"x\",\"y\":\"Coughing of Blood\",\"yref\":\"y\"},{\"font\":{\"color\":\"#000000\"},\"showarrow\":false,\"text\":\"0.78\",\"x\":\"Level\",\"xref\":\"x\",\"y\":\"Coughing of Blood\",\"yref\":\"y\"},{\"font\":{\"color\":\"#FFFFFF\"},\"showarrow\":false,\"text\":\"0.1\",\"x\":\"Age\",\"xref\":\"x\",\"y\":\"Fatigue\",\"yref\":\"y\"},{\"font\":{\"color\":\"#FFFFFF\"},\"showarrow\":false,\"text\":\"-0.12\",\"x\":\"Gender\",\"xref\":\"x\",\"y\":\"Fatigue\",\"yref\":\"y\"},{\"font\":{\"color\":\"#FFFFFF\"},\"showarrow\":false,\"text\":\"0.21\",\"x\":\"Air Pollution\",\"xref\":\"x\",\"y\":\"Fatigue\",\"yref\":\"y\"},{\"font\":{\"color\":\"#FFFFFF\"},\"showarrow\":false,\"text\":\"0.24\",\"x\":\"Alcohol use\",\"xref\":\"x\",\"y\":\"Fatigue\",\"yref\":\"y\"},{\"font\":{\"color\":\"#FFFFFF\"},\"showarrow\":false,\"text\":\"0.33\",\"x\":\"Dust Allergy\",\"xref\":\"x\",\"y\":\"Fatigue\",\"yref\":\"y\"},{\"font\":{\"color\":\"#FFFFFF\"},\"showarrow\":false,\"text\":\"0.27\",\"x\":\"OccuPational Hazards\",\"xref\":\"x\",\"y\":\"Fatigue\",\"yref\":\"y\"},{\"font\":{\"color\":\"#FFFFFF\"},\"showarrow\":false,\"text\":\"0.23\",\"x\":\"Genetic Risk\",\"xref\":\"x\",\"y\":\"Fatigue\",\"yref\":\"y\"},{\"font\":{\"color\":\"#FFFFFF\"},\"showarrow\":false,\"text\":\"0.25\",\"x\":\"chronic Lung Disease\",\"xref\":\"x\",\"y\":\"Fatigue\",\"yref\":\"y\"},{\"font\":{\"color\":\"#000000\"},\"showarrow\":false,\"text\":\"0.4\",\"x\":\"Balanced Diet\",\"xref\":\"x\",\"y\":\"Fatigue\",\"yref\":\"y\"},{\"font\":{\"color\":\"#000000\"},\"showarrow\":false,\"text\":\"0.55\",\"x\":\"Obesity\",\"xref\":\"x\",\"y\":\"Fatigue\",\"yref\":\"y\"},{\"font\":{\"color\":\"#FFFFFF\"},\"showarrow\":false,\"text\":\"0.2\",\"x\":\"Smoking\",\"xref\":\"x\",\"y\":\"Fatigue\",\"yref\":\"y\"},{\"font\":{\"color\":\"#FFFFFF\"},\"showarrow\":false,\"text\":\"0.38\",\"x\":\"Passive Smoker\",\"xref\":\"x\",\"y\":\"Fatigue\",\"yref\":\"y\"},{\"font\":{\"color\":\"#FFFFFF\"},\"showarrow\":false,\"text\":\"0.25\",\"x\":\"Chest Pain\",\"xref\":\"x\",\"y\":\"Fatigue\",\"yref\":\"y\"},{\"font\":{\"color\":\"#000000\"},\"showarrow\":false,\"text\":\"0.48\",\"x\":\"Coughing of Blood\",\"xref\":\"x\",\"y\":\"Fatigue\",\"yref\":\"y\"},{\"font\":{\"color\":\"#000000\"},\"showarrow\":false,\"text\":\"1.0\",\"x\":\"Fatigue\",\"xref\":\"x\",\"y\":\"Fatigue\",\"yref\":\"y\"},{\"font\":{\"color\":\"#000000\"},\"showarrow\":false,\"text\":\"0.47\",\"x\":\"Weight Loss\",\"xref\":\"x\",\"y\":\"Fatigue\",\"yref\":\"y\"},{\"font\":{\"color\":\"#000000\"},\"showarrow\":false,\"text\":\"0.4\",\"x\":\"Shortness of Breath\",\"xref\":\"x\",\"y\":\"Fatigue\",\"yref\":\"y\"},{\"font\":{\"color\":\"#FFFFFF\"},\"showarrow\":false,\"text\":\"0.18\",\"x\":\"Wheezing\",\"xref\":\"x\",\"y\":\"Fatigue\",\"yref\":\"y\"},{\"font\":{\"color\":\"#FFFFFF\"},\"showarrow\":false,\"text\":\"0.15\",\"x\":\"Swallowing Difficulty\",\"xref\":\"x\",\"y\":\"Fatigue\",\"yref\":\"y\"},{\"font\":{\"color\":\"#FFFFFF\"},\"showarrow\":false,\"text\":\"0.04\",\"x\":\"Clubbing of Finger Nails\",\"xref\":\"x\",\"y\":\"Fatigue\",\"yref\":\"y\"},{\"font\":{\"color\":\"#000000\"},\"showarrow\":false,\"text\":\"0.41\",\"x\":\"Frequent Cold\",\"xref\":\"x\",\"y\":\"Fatigue\",\"yref\":\"y\"},{\"font\":{\"color\":\"#FFFFFF\"},\"showarrow\":false,\"text\":\"0.27\",\"x\":\"Dry Cough\",\"xref\":\"x\",\"y\":\"Fatigue\",\"yref\":\"y\"},{\"font\":{\"color\":\"#FFFFFF\"},\"showarrow\":false,\"text\":\"0.23\",\"x\":\"Snoring\",\"xref\":\"x\",\"y\":\"Fatigue\",\"yref\":\"y\"},{\"font\":{\"color\":\"#000000\"},\"showarrow\":false,\"text\":\"0.63\",\"x\":\"Level\",\"xref\":\"x\",\"y\":\"Fatigue\",\"yref\":\"y\"},{\"font\":{\"color\":\"#FFFFFF\"},\"showarrow\":false,\"text\":\"0.12\",\"x\":\"Age\",\"xref\":\"x\",\"y\":\"Weight Loss\",\"yref\":\"y\"},{\"font\":{\"color\":\"#FFFFFF\"},\"showarrow\":false,\"text\":\"-0.06\",\"x\":\"Gender\",\"xref\":\"x\",\"y\":\"Weight Loss\",\"yref\":\"y\"},{\"font\":{\"color\":\"#FFFFFF\"},\"showarrow\":false,\"text\":\"0.26\",\"x\":\"Air Pollution\",\"xref\":\"x\",\"y\":\"Weight Loss\",\"yref\":\"y\"},{\"font\":{\"color\":\"#FFFFFF\"},\"showarrow\":false,\"text\":\"0.21\",\"x\":\"Alcohol use\",\"xref\":\"x\",\"y\":\"Weight Loss\",\"yref\":\"y\"},{\"font\":{\"color\":\"#FFFFFF\"},\"showarrow\":false,\"text\":\"0.32\",\"x\":\"Dust Allergy\",\"xref\":\"x\",\"y\":\"Weight Loss\",\"yref\":\"y\"},{\"font\":{\"color\":\"#FFFFFF\"},\"showarrow\":false,\"text\":\"0.18\",\"x\":\"OccuPational Hazards\",\"xref\":\"x\",\"y\":\"Weight Loss\",\"yref\":\"y\"},{\"font\":{\"color\":\"#FFFFFF\"},\"showarrow\":false,\"text\":\"0.28\",\"x\":\"Genetic Risk\",\"xref\":\"x\",\"y\":\"Weight Loss\",\"yref\":\"y\"},{\"font\":{\"color\":\"#FFFFFF\"},\"showarrow\":false,\"text\":\"0.11\",\"x\":\"chronic Lung Disease\",\"xref\":\"x\",\"y\":\"Weight Loss\",\"yref\":\"y\"},{\"font\":{\"color\":\"#FFFFFF\"},\"showarrow\":false,\"text\":\"-0.0\",\"x\":\"Balanced Diet\",\"xref\":\"x\",\"y\":\"Weight Loss\",\"yref\":\"y\"},{\"font\":{\"color\":\"#FFFFFF\"},\"showarrow\":false,\"text\":\"0.31\",\"x\":\"Obesity\",\"xref\":\"x\",\"y\":\"Weight Loss\",\"yref\":\"y\"},{\"font\":{\"color\":\"#FFFFFF\"},\"showarrow\":false,\"text\":\"-0.21\",\"x\":\"Smoking\",\"xref\":\"x\",\"y\":\"Weight Loss\",\"yref\":\"y\"},{\"font\":{\"color\":\"#FFFFFF\"},\"showarrow\":false,\"text\":\"0.06\",\"x\":\"Passive Smoker\",\"xref\":\"x\",\"y\":\"Weight Loss\",\"yref\":\"y\"},{\"font\":{\"color\":\"#FFFFFF\"},\"showarrow\":false,\"text\":\"-0.0\",\"x\":\"Chest Pain\",\"xref\":\"x\",\"y\":\"Weight Loss\",\"yref\":\"y\"},{\"font\":{\"color\":\"#FFFFFF\"},\"showarrow\":false,\"text\":\"0.11\",\"x\":\"Coughing of Blood\",\"xref\":\"x\",\"y\":\"Weight Loss\",\"yref\":\"y\"},{\"font\":{\"color\":\"#000000\"},\"showarrow\":false,\"text\":\"0.47\",\"x\":\"Fatigue\",\"xref\":\"x\",\"y\":\"Weight Loss\",\"yref\":\"y\"},{\"font\":{\"color\":\"#000000\"},\"showarrow\":false,\"text\":\"1.0\",\"x\":\"Weight Loss\",\"xref\":\"x\",\"y\":\"Weight Loss\",\"yref\":\"y\"},{\"font\":{\"color\":\"#000000\"},\"showarrow\":false,\"text\":\"0.58\",\"x\":\"Shortness of Breath\",\"xref\":\"x\",\"y\":\"Weight Loss\",\"yref\":\"y\"},{\"font\":{\"color\":\"#FFFFFF\"},\"showarrow\":false,\"text\":\"0.33\",\"x\":\"Wheezing\",\"xref\":\"x\",\"y\":\"Weight Loss\",\"yref\":\"y\"},{\"font\":{\"color\":\"#FFFFFF\"},\"showarrow\":false,\"text\":\"0.05\",\"x\":\"Swallowing Difficulty\",\"xref\":\"x\",\"y\":\"Weight Loss\",\"yref\":\"y\"},{\"font\":{\"color\":\"#FFFFFF\"},\"showarrow\":false,\"text\":\"0.37\",\"x\":\"Clubbing of Finger Nails\",\"xref\":\"x\",\"y\":\"Weight Loss\",\"yref\":\"y\"},{\"font\":{\"color\":\"#FFFFFF\"},\"showarrow\":false,\"text\":\"0.16\",\"x\":\"Frequent Cold\",\"xref\":\"x\",\"y\":\"Weight Loss\",\"yref\":\"y\"},{\"font\":{\"color\":\"#FFFFFF\"},\"showarrow\":false,\"text\":\"0.19\",\"x\":\"Dry Cough\",\"xref\":\"x\",\"y\":\"Weight Loss\",\"yref\":\"y\"},{\"font\":{\"color\":\"#FFFFFF\"},\"showarrow\":false,\"text\":\"-0.19\",\"x\":\"Snoring\",\"xref\":\"x\",\"y\":\"Weight Loss\",\"yref\":\"y\"},{\"font\":{\"color\":\"#FFFFFF\"},\"showarrow\":false,\"text\":\"0.35\",\"x\":\"Level\",\"xref\":\"x\",\"y\":\"Weight Loss\",\"yref\":\"y\"},{\"font\":{\"color\":\"#FFFFFF\"},\"showarrow\":false,\"text\":\"0.01\",\"x\":\"Age\",\"xref\":\"x\",\"y\":\"Shortness of Breath\",\"yref\":\"y\"},{\"font\":{\"color\":\"#FFFFFF\"},\"showarrow\":false,\"text\":\"-0.04\",\"x\":\"Gender\",\"xref\":\"x\",\"y\":\"Shortness of Breath\",\"yref\":\"y\"},{\"font\":{\"color\":\"#FFFFFF\"},\"showarrow\":false,\"text\":\"0.27\",\"x\":\"Air Pollution\",\"xref\":\"x\",\"y\":\"Shortness of Breath\",\"yref\":\"y\"},{\"font\":{\"color\":\"#000000\"},\"showarrow\":false,\"text\":\"0.43\",\"x\":\"Alcohol use\",\"xref\":\"x\",\"y\":\"Shortness of Breath\",\"yref\":\"y\"},{\"font\":{\"color\":\"#000000\"},\"showarrow\":false,\"text\":\"0.52\",\"x\":\"Dust Allergy\",\"xref\":\"x\",\"y\":\"Shortness of Breath\",\"yref\":\"y\"},{\"font\":{\"color\":\"#FFFFFF\"},\"showarrow\":false,\"text\":\"0.37\",\"x\":\"OccuPational Hazards\",\"xref\":\"x\",\"y\":\"Shortness of Breath\",\"yref\":\"y\"},{\"font\":{\"color\":\"#000000\"},\"showarrow\":false,\"text\":\"0.46\",\"x\":\"Genetic Risk\",\"xref\":\"x\",\"y\":\"Shortness of Breath\",\"yref\":\"y\"},{\"font\":{\"color\":\"#FFFFFF\"},\"showarrow\":false,\"text\":\"0.18\",\"x\":\"chronic Lung Disease\",\"xref\":\"x\",\"y\":\"Shortness of Breath\",\"yref\":\"y\"},{\"font\":{\"color\":\"#FFFFFF\"},\"showarrow\":false,\"text\":\"0.34\",\"x\":\"Balanced Diet\",\"xref\":\"x\",\"y\":\"Shortness of Breath\",\"yref\":\"y\"},{\"font\":{\"color\":\"#000000\"},\"showarrow\":false,\"text\":\"0.41\",\"x\":\"Obesity\",\"xref\":\"x\",\"y\":\"Shortness of Breath\",\"yref\":\"y\"},{\"font\":{\"color\":\"#FFFFFF\"},\"showarrow\":false,\"text\":\"-0.04\",\"x\":\"Smoking\",\"xref\":\"x\",\"y\":\"Shortness of Breath\",\"yref\":\"y\"},{\"font\":{\"color\":\"#FFFFFF\"},\"showarrow\":false,\"text\":\"0.06\",\"x\":\"Passive Smoker\",\"xref\":\"x\",\"y\":\"Shortness of Breath\",\"yref\":\"y\"},{\"font\":{\"color\":\"#FFFFFF\"},\"showarrow\":false,\"text\":\"0.24\",\"x\":\"Chest Pain\",\"xref\":\"x\",\"y\":\"Shortness of Breath\",\"yref\":\"y\"},{\"font\":{\"color\":\"#FFFFFF\"},\"showarrow\":false,\"text\":\"0.32\",\"x\":\"Coughing of Blood\",\"xref\":\"x\",\"y\":\"Shortness of Breath\",\"yref\":\"y\"},{\"font\":{\"color\":\"#000000\"},\"showarrow\":false,\"text\":\"0.4\",\"x\":\"Fatigue\",\"xref\":\"x\",\"y\":\"Shortness of Breath\",\"yref\":\"y\"},{\"font\":{\"color\":\"#000000\"},\"showarrow\":false,\"text\":\"0.58\",\"x\":\"Weight Loss\",\"xref\":\"x\",\"y\":\"Shortness of Breath\",\"yref\":\"y\"},{\"font\":{\"color\":\"#000000\"},\"showarrow\":false,\"text\":\"1.0\",\"x\":\"Shortness of Breath\",\"xref\":\"x\",\"y\":\"Shortness of Breath\",\"yref\":\"y\"},{\"font\":{\"color\":\"#FFFFFF\"},\"showarrow\":false,\"text\":\"0.22\",\"x\":\"Wheezing\",\"xref\":\"x\",\"y\":\"Shortness of Breath\",\"yref\":\"y\"},{\"font\":{\"color\":\"#FFFFFF\"},\"showarrow\":false,\"text\":\"-0.19\",\"x\":\"Swallowing Difficulty\",\"xref\":\"x\",\"y\":\"Shortness of Breath\",\"yref\":\"y\"},{\"font\":{\"color\":\"#000000\"},\"showarrow\":false,\"text\":\"0.48\",\"x\":\"Clubbing of Finger Nails\",\"xref\":\"x\",\"y\":\"Shortness of Breath\",\"yref\":\"y\"},{\"font\":{\"color\":\"#FFFFFF\"},\"showarrow\":false,\"text\":\"0.37\",\"x\":\"Frequent Cold\",\"xref\":\"x\",\"y\":\"Shortness of Breath\",\"yref\":\"y\"},{\"font\":{\"color\":\"#000000\"},\"showarrow\":false,\"text\":\"0.49\",\"x\":\"Dry Cough\",\"xref\":\"x\",\"y\":\"Shortness of Breath\",\"yref\":\"y\"},{\"font\":{\"color\":\"#FFFFFF\"},\"showarrow\":false,\"text\":\"-0.16\",\"x\":\"Snoring\",\"xref\":\"x\",\"y\":\"Shortness of Breath\",\"yref\":\"y\"},{\"font\":{\"color\":\"#000000\"},\"showarrow\":false,\"text\":\"0.5\",\"x\":\"Level\",\"xref\":\"x\",\"y\":\"Shortness of Breath\",\"yref\":\"y\"},{\"font\":{\"color\":\"#FFFFFF\"},\"showarrow\":false,\"text\":\"-0.07\",\"x\":\"Age\",\"xref\":\"x\",\"y\":\"Wheezing\",\"yref\":\"y\"},{\"font\":{\"color\":\"#FFFFFF\"},\"showarrow\":false,\"text\":\"-0.08\",\"x\":\"Gender\",\"xref\":\"x\",\"y\":\"Wheezing\",\"yref\":\"y\"},{\"font\":{\"color\":\"#FFFFFF\"},\"showarrow\":false,\"text\":\"0.06\",\"x\":\"Air Pollution\",\"xref\":\"x\",\"y\":\"Wheezing\",\"yref\":\"y\"},{\"font\":{\"color\":\"#FFFFFF\"},\"showarrow\":false,\"text\":\"0.19\",\"x\":\"Alcohol use\",\"xref\":\"x\",\"y\":\"Wheezing\",\"yref\":\"y\"},{\"font\":{\"color\":\"#FFFFFF\"},\"showarrow\":false,\"text\":\"0.31\",\"x\":\"Dust Allergy\",\"xref\":\"x\",\"y\":\"Wheezing\",\"yref\":\"y\"},{\"font\":{\"color\":\"#FFFFFF\"},\"showarrow\":false,\"text\":\"0.18\",\"x\":\"OccuPational Hazards\",\"xref\":\"x\",\"y\":\"Wheezing\",\"yref\":\"y\"},{\"font\":{\"color\":\"#FFFFFF\"},\"showarrow\":false,\"text\":\"0.21\",\"x\":\"Genetic Risk\",\"xref\":\"x\",\"y\":\"Wheezing\",\"yref\":\"y\"},{\"font\":{\"color\":\"#FFFFFF\"},\"showarrow\":false,\"text\":\"0.06\",\"x\":\"chronic Lung Disease\",\"xref\":\"x\",\"y\":\"Wheezing\",\"yref\":\"y\"},{\"font\":{\"color\":\"#FFFFFF\"},\"showarrow\":false,\"text\":\"0.07\",\"x\":\"Balanced Diet\",\"xref\":\"x\",\"y\":\"Wheezing\",\"yref\":\"y\"},{\"font\":{\"color\":\"#FFFFFF\"},\"showarrow\":false,\"text\":\"0.1\",\"x\":\"Obesity\",\"xref\":\"x\",\"y\":\"Wheezing\",\"yref\":\"y\"},{\"font\":{\"color\":\"#FFFFFF\"},\"showarrow\":false,\"text\":\"-0.03\",\"x\":\"Smoking\",\"xref\":\"x\",\"y\":\"Wheezing\",\"yref\":\"y\"},{\"font\":{\"color\":\"#FFFFFF\"},\"showarrow\":false,\"text\":\"0.2\",\"x\":\"Passive Smoker\",\"xref\":\"x\",\"y\":\"Wheezing\",\"yref\":\"y\"},{\"font\":{\"color\":\"#FFFFFF\"},\"showarrow\":false,\"text\":\"0.11\",\"x\":\"Chest Pain\",\"xref\":\"x\",\"y\":\"Wheezing\",\"yref\":\"y\"},{\"font\":{\"color\":\"#FFFFFF\"},\"showarrow\":false,\"text\":\"-0.09\",\"x\":\"Coughing of Blood\",\"xref\":\"x\",\"y\":\"Wheezing\",\"yref\":\"y\"},{\"font\":{\"color\":\"#FFFFFF\"},\"showarrow\":false,\"text\":\"0.18\",\"x\":\"Fatigue\",\"xref\":\"x\",\"y\":\"Wheezing\",\"yref\":\"y\"},{\"font\":{\"color\":\"#FFFFFF\"},\"showarrow\":false,\"text\":\"0.33\",\"x\":\"Weight Loss\",\"xref\":\"x\",\"y\":\"Wheezing\",\"yref\":\"y\"},{\"font\":{\"color\":\"#FFFFFF\"},\"showarrow\":false,\"text\":\"0.22\",\"x\":\"Shortness of Breath\",\"xref\":\"x\",\"y\":\"Wheezing\",\"yref\":\"y\"},{\"font\":{\"color\":\"#000000\"},\"showarrow\":false,\"text\":\"1.0\",\"x\":\"Wheezing\",\"xref\":\"x\",\"y\":\"Wheezing\",\"yref\":\"y\"},{\"font\":{\"color\":\"#000000\"},\"showarrow\":false,\"text\":\"0.39\",\"x\":\"Swallowing Difficulty\",\"xref\":\"x\",\"y\":\"Wheezing\",\"yref\":\"y\"},{\"font\":{\"color\":\"#FFFFFF\"},\"showarrow\":false,\"text\":\"0.33\",\"x\":\"Clubbing of Finger Nails\",\"xref\":\"x\",\"y\":\"Wheezing\",\"yref\":\"y\"},{\"font\":{\"color\":\"#FFFFFF\"},\"showarrow\":false,\"text\":\"0.09\",\"x\":\"Frequent Cold\",\"xref\":\"x\",\"y\":\"Wheezing\",\"yref\":\"y\"},{\"font\":{\"color\":\"#FFFFFF\"},\"showarrow\":false,\"text\":\"0.06\",\"x\":\"Dry Cough\",\"xref\":\"x\",\"y\":\"Wheezing\",\"yref\":\"y\"},{\"font\":{\"color\":\"#FFFFFF\"},\"showarrow\":false,\"text\":\"0.11\",\"x\":\"Snoring\",\"xref\":\"x\",\"y\":\"Wheezing\",\"yref\":\"y\"},{\"font\":{\"color\":\"#FFFFFF\"},\"showarrow\":false,\"text\":\"0.24\",\"x\":\"Level\",\"xref\":\"x\",\"y\":\"Wheezing\",\"yref\":\"y\"},{\"font\":{\"color\":\"#FFFFFF\"},\"showarrow\":false,\"text\":\"-0.07\",\"x\":\"Age\",\"xref\":\"x\",\"y\":\"Swallowing Difficulty\",\"yref\":\"y\"},{\"font\":{\"color\":\"#FFFFFF\"},\"showarrow\":false,\"text\":\"-0.07\",\"x\":\"Gender\",\"xref\":\"x\",\"y\":\"Swallowing Difficulty\",\"yref\":\"y\"},{\"font\":{\"color\":\"#FFFFFF\"},\"showarrow\":false,\"text\":\"-0.07\",\"x\":\"Air Pollution\",\"xref\":\"x\",\"y\":\"Swallowing Difficulty\",\"yref\":\"y\"},{\"font\":{\"color\":\"#FFFFFF\"},\"showarrow\":false,\"text\":\"-0.11\",\"x\":\"Alcohol use\",\"xref\":\"x\",\"y\":\"Swallowing Difficulty\",\"yref\":\"y\"},{\"font\":{\"color\":\"#FFFFFF\"},\"showarrow\":false,\"text\":\"0.04\",\"x\":\"Dust Allergy\",\"xref\":\"x\",\"y\":\"Swallowing Difficulty\",\"yref\":\"y\"},{\"font\":{\"color\":\"#FFFFFF\"},\"showarrow\":false,\"text\":\"-0.0\",\"x\":\"OccuPational Hazards\",\"xref\":\"x\",\"y\":\"Swallowing Difficulty\",\"yref\":\"y\"},{\"font\":{\"color\":\"#FFFFFF\"},\"showarrow\":false,\"text\":\"-0.06\",\"x\":\"Genetic Risk\",\"xref\":\"x\",\"y\":\"Swallowing Difficulty\",\"yref\":\"y\"},{\"font\":{\"color\":\"#FFFFFF\"},\"showarrow\":false,\"text\":\"0.01\",\"x\":\"chronic Lung Disease\",\"xref\":\"x\",\"y\":\"Swallowing Difficulty\",\"yref\":\"y\"},{\"font\":{\"color\":\"#FFFFFF\"},\"showarrow\":false,\"text\":\"0.06\",\"x\":\"Balanced Diet\",\"xref\":\"x\",\"y\":\"Swallowing Difficulty\",\"yref\":\"y\"},{\"font\":{\"color\":\"#FFFFFF\"},\"showarrow\":false,\"text\":\"0.13\",\"x\":\"Obesity\",\"xref\":\"x\",\"y\":\"Swallowing Difficulty\",\"yref\":\"y\"},{\"font\":{\"color\":\"#FFFFFF\"},\"showarrow\":false,\"text\":\"0.26\",\"x\":\"Smoking\",\"xref\":\"x\",\"y\":\"Swallowing Difficulty\",\"yref\":\"y\"},{\"font\":{\"color\":\"#FFFFFF\"},\"showarrow\":false,\"text\":\"0.36\",\"x\":\"Passive Smoker\",\"xref\":\"x\",\"y\":\"Swallowing Difficulty\",\"yref\":\"y\"},{\"font\":{\"color\":\"#FFFFFF\"},\"showarrow\":false,\"text\":\"0.08\",\"x\":\"Chest Pain\",\"xref\":\"x\",\"y\":\"Swallowing Difficulty\",\"yref\":\"y\"},{\"font\":{\"color\":\"#FFFFFF\"},\"showarrow\":false,\"text\":\"0.09\",\"x\":\"Coughing of Blood\",\"xref\":\"x\",\"y\":\"Swallowing Difficulty\",\"yref\":\"y\"},{\"font\":{\"color\":\"#FFFFFF\"},\"showarrow\":false,\"text\":\"0.15\",\"x\":\"Fatigue\",\"xref\":\"x\",\"y\":\"Swallowing Difficulty\",\"yref\":\"y\"},{\"font\":{\"color\":\"#FFFFFF\"},\"showarrow\":false,\"text\":\"0.05\",\"x\":\"Weight Loss\",\"xref\":\"x\",\"y\":\"Swallowing Difficulty\",\"yref\":\"y\"},{\"font\":{\"color\":\"#FFFFFF\"},\"showarrow\":false,\"text\":\"-0.19\",\"x\":\"Shortness of Breath\",\"xref\":\"x\",\"y\":\"Swallowing Difficulty\",\"yref\":\"y\"},{\"font\":{\"color\":\"#000000\"},\"showarrow\":false,\"text\":\"0.39\",\"x\":\"Wheezing\",\"xref\":\"x\",\"y\":\"Swallowing Difficulty\",\"yref\":\"y\"},{\"font\":{\"color\":\"#000000\"},\"showarrow\":false,\"text\":\"1.0\",\"x\":\"Swallowing Difficulty\",\"xref\":\"x\",\"y\":\"Swallowing Difficulty\",\"yref\":\"y\"},{\"font\":{\"color\":\"#FFFFFF\"},\"showarrow\":false,\"text\":\"-0.13\",\"x\":\"Clubbing of Finger Nails\",\"xref\":\"x\",\"y\":\"Swallowing Difficulty\",\"yref\":\"y\"},{\"font\":{\"color\":\"#FFFFFF\"},\"showarrow\":false,\"text\":\"0.12\",\"x\":\"Frequent Cold\",\"xref\":\"x\",\"y\":\"Swallowing Difficulty\",\"yref\":\"y\"},{\"font\":{\"color\":\"#FFFFFF\"},\"showarrow\":false,\"text\":\"-0.04\",\"x\":\"Dry Cough\",\"xref\":\"x\",\"y\":\"Swallowing Difficulty\",\"yref\":\"y\"},{\"font\":{\"color\":\"#FFFFFF\"},\"showarrow\":false,\"text\":\"0.2\",\"x\":\"Snoring\",\"xref\":\"x\",\"y\":\"Swallowing Difficulty\",\"yref\":\"y\"},{\"font\":{\"color\":\"#FFFFFF\"},\"showarrow\":false,\"text\":\"0.25\",\"x\":\"Level\",\"xref\":\"x\",\"y\":\"Swallowing Difficulty\",\"yref\":\"y\"},{\"font\":{\"color\":\"#FFFFFF\"},\"showarrow\":false,\"text\":\"0.07\",\"x\":\"Age\",\"xref\":\"x\",\"y\":\"Clubbing of Finger Nails\",\"yref\":\"y\"},{\"font\":{\"color\":\"#FFFFFF\"},\"showarrow\":false,\"text\":\"-0.04\",\"x\":\"Gender\",\"xref\":\"x\",\"y\":\"Clubbing of Finger Nails\",\"yref\":\"y\"},{\"font\":{\"color\":\"#FFFFFF\"},\"showarrow\":false,\"text\":\"0.25\",\"x\":\"Air Pollution\",\"xref\":\"x\",\"y\":\"Clubbing of Finger Nails\",\"yref\":\"y\"},{\"font\":{\"color\":\"#000000\"},\"showarrow\":false,\"text\":\"0.42\",\"x\":\"Alcohol use\",\"xref\":\"x\",\"y\":\"Clubbing of Finger Nails\",\"yref\":\"y\"},{\"font\":{\"color\":\"#FFFFFF\"},\"showarrow\":false,\"text\":\"0.35\",\"x\":\"Dust Allergy\",\"xref\":\"x\",\"y\":\"Clubbing of Finger Nails\",\"yref\":\"y\"},{\"font\":{\"color\":\"#FFFFFF\"},\"showarrow\":false,\"text\":\"0.37\",\"x\":\"OccuPational Hazards\",\"xref\":\"x\",\"y\":\"Clubbing of Finger Nails\",\"yref\":\"y\"},{\"font\":{\"color\":\"#FFFFFF\"},\"showarrow\":false,\"text\":\"0.37\",\"x\":\"Genetic Risk\",\"xref\":\"x\",\"y\":\"Clubbing of Finger Nails\",\"yref\":\"y\"},{\"font\":{\"color\":\"#FFFFFF\"},\"showarrow\":false,\"text\":\"0.3\",\"x\":\"chronic Lung Disease\",\"xref\":\"x\",\"y\":\"Clubbing of Finger Nails\",\"yref\":\"y\"},{\"font\":{\"color\":\"#FFFFFF\"},\"showarrow\":false,\"text\":\"0.05\",\"x\":\"Balanced Diet\",\"xref\":\"x\",\"y\":\"Clubbing of Finger Nails\",\"yref\":\"y\"},{\"font\":{\"color\":\"#FFFFFF\"},\"showarrow\":false,\"text\":\"0.15\",\"x\":\"Obesity\",\"xref\":\"x\",\"y\":\"Clubbing of Finger Nails\",\"yref\":\"y\"},{\"font\":{\"color\":\"#FFFFFF\"},\"showarrow\":false,\"text\":\"-0.03\",\"x\":\"Smoking\",\"xref\":\"x\",\"y\":\"Clubbing of Finger Nails\",\"yref\":\"y\"},{\"font\":{\"color\":\"#FFFFFF\"},\"showarrow\":false,\"text\":\"-0.03\",\"x\":\"Passive Smoker\",\"xref\":\"x\",\"y\":\"Clubbing of Finger Nails\",\"yref\":\"y\"},{\"font\":{\"color\":\"#FFFFFF\"},\"showarrow\":false,\"text\":\"0.08\",\"x\":\"Chest Pain\",\"xref\":\"x\",\"y\":\"Clubbing of Finger Nails\",\"yref\":\"y\"},{\"font\":{\"color\":\"#FFFFFF\"},\"showarrow\":false,\"text\":\"-0.07\",\"x\":\"Coughing of Blood\",\"xref\":\"x\",\"y\":\"Clubbing of Finger Nails\",\"yref\":\"y\"},{\"font\":{\"color\":\"#FFFFFF\"},\"showarrow\":false,\"text\":\"0.04\",\"x\":\"Fatigue\",\"xref\":\"x\",\"y\":\"Clubbing of Finger Nails\",\"yref\":\"y\"},{\"font\":{\"color\":\"#FFFFFF\"},\"showarrow\":false,\"text\":\"0.37\",\"x\":\"Weight Loss\",\"xref\":\"x\",\"y\":\"Clubbing of Finger Nails\",\"yref\":\"y\"},{\"font\":{\"color\":\"#000000\"},\"showarrow\":false,\"text\":\"0.48\",\"x\":\"Shortness of Breath\",\"xref\":\"x\",\"y\":\"Clubbing of Finger Nails\",\"yref\":\"y\"},{\"font\":{\"color\":\"#FFFFFF\"},\"showarrow\":false,\"text\":\"0.33\",\"x\":\"Wheezing\",\"xref\":\"x\",\"y\":\"Clubbing of Finger Nails\",\"yref\":\"y\"},{\"font\":{\"color\":\"#FFFFFF\"},\"showarrow\":false,\"text\":\"-0.13\",\"x\":\"Swallowing Difficulty\",\"xref\":\"x\",\"y\":\"Clubbing of Finger Nails\",\"yref\":\"y\"},{\"font\":{\"color\":\"#000000\"},\"showarrow\":false,\"text\":\"1.0\",\"x\":\"Clubbing of Finger Nails\",\"xref\":\"x\",\"y\":\"Clubbing of Finger Nails\",\"yref\":\"y\"},{\"font\":{\"color\":\"#FFFFFF\"},\"showarrow\":false,\"text\":\"0.23\",\"x\":\"Frequent Cold\",\"xref\":\"x\",\"y\":\"Clubbing of Finger Nails\",\"yref\":\"y\"},{\"font\":{\"color\":\"#FFFFFF\"},\"showarrow\":false,\"text\":\"0.32\",\"x\":\"Dry Cough\",\"xref\":\"x\",\"y\":\"Clubbing of Finger Nails\",\"yref\":\"y\"},{\"font\":{\"color\":\"#FFFFFF\"},\"showarrow\":false,\"text\":\"-0.02\",\"x\":\"Snoring\",\"xref\":\"x\",\"y\":\"Clubbing of Finger Nails\",\"yref\":\"y\"},{\"font\":{\"color\":\"#FFFFFF\"},\"showarrow\":false,\"text\":\"0.28\",\"x\":\"Level\",\"xref\":\"x\",\"y\":\"Clubbing of Finger Nails\",\"yref\":\"y\"},{\"font\":{\"color\":\"#FFFFFF\"},\"showarrow\":false,\"text\":\"0.03\",\"x\":\"Age\",\"xref\":\"x\",\"y\":\"Frequent Cold\",\"yref\":\"y\"},{\"font\":{\"color\":\"#FFFFFF\"},\"showarrow\":false,\"text\":\"-0.01\",\"x\":\"Gender\",\"xref\":\"x\",\"y\":\"Frequent Cold\",\"yref\":\"y\"},{\"font\":{\"color\":\"#FFFFFF\"},\"showarrow\":false,\"text\":\"0.18\",\"x\":\"Air Pollution\",\"xref\":\"x\",\"y\":\"Frequent Cold\",\"yref\":\"y\"},{\"font\":{\"color\":\"#FFFFFF\"},\"showarrow\":false,\"text\":\"0.19\",\"x\":\"Alcohol use\",\"xref\":\"x\",\"y\":\"Frequent Cold\",\"yref\":\"y\"},{\"font\":{\"color\":\"#FFFFFF\"},\"showarrow\":false,\"text\":\"0.23\",\"x\":\"Dust Allergy\",\"xref\":\"x\",\"y\":\"Frequent Cold\",\"yref\":\"y\"},{\"font\":{\"color\":\"#FFFFFF\"},\"showarrow\":false,\"text\":\"0.08\",\"x\":\"OccuPational Hazards\",\"xref\":\"x\",\"y\":\"Frequent Cold\",\"yref\":\"y\"},{\"font\":{\"color\":\"#FFFFFF\"},\"showarrow\":false,\"text\":\"0.1\",\"x\":\"Genetic Risk\",\"xref\":\"x\",\"y\":\"Frequent Cold\",\"yref\":\"y\"},{\"font\":{\"color\":\"#FFFFFF\"},\"showarrow\":false,\"text\":\"0.03\",\"x\":\"chronic Lung Disease\",\"xref\":\"x\",\"y\":\"Frequent Cold\",\"yref\":\"y\"},{\"font\":{\"color\":\"#FFFFFF\"},\"showarrow\":false,\"text\":\"0.28\",\"x\":\"Balanced Diet\",\"xref\":\"x\",\"y\":\"Frequent Cold\",\"yref\":\"y\"},{\"font\":{\"color\":\"#FFFFFF\"},\"showarrow\":false,\"text\":\"0.29\",\"x\":\"Obesity\",\"xref\":\"x\",\"y\":\"Frequent Cold\",\"yref\":\"y\"},{\"font\":{\"color\":\"#FFFFFF\"},\"showarrow\":false,\"text\":\"0.06\",\"x\":\"Smoking\",\"xref\":\"x\",\"y\":\"Frequent Cold\",\"yref\":\"y\"},{\"font\":{\"color\":\"#FFFFFF\"},\"showarrow\":false,\"text\":\"0.11\",\"x\":\"Passive Smoker\",\"xref\":\"x\",\"y\":\"Frequent Cold\",\"yref\":\"y\"},{\"font\":{\"color\":\"#FFFFFF\"},\"showarrow\":false,\"text\":\"0.05\",\"x\":\"Chest Pain\",\"xref\":\"x\",\"y\":\"Frequent Cold\",\"yref\":\"y\"},{\"font\":{\"color\":\"#FFFFFF\"},\"showarrow\":false,\"text\":\"0.25\",\"x\":\"Coughing of Blood\",\"xref\":\"x\",\"y\":\"Frequent Cold\",\"yref\":\"y\"},{\"font\":{\"color\":\"#000000\"},\"showarrow\":false,\"text\":\"0.41\",\"x\":\"Fatigue\",\"xref\":\"x\",\"y\":\"Frequent Cold\",\"yref\":\"y\"},{\"font\":{\"color\":\"#FFFFFF\"},\"showarrow\":false,\"text\":\"0.16\",\"x\":\"Weight Loss\",\"xref\":\"x\",\"y\":\"Frequent Cold\",\"yref\":\"y\"},{\"font\":{\"color\":\"#FFFFFF\"},\"showarrow\":false,\"text\":\"0.37\",\"x\":\"Shortness of Breath\",\"xref\":\"x\",\"y\":\"Frequent Cold\",\"yref\":\"y\"},{\"font\":{\"color\":\"#FFFFFF\"},\"showarrow\":false,\"text\":\"0.09\",\"x\":\"Wheezing\",\"xref\":\"x\",\"y\":\"Frequent Cold\",\"yref\":\"y\"},{\"font\":{\"color\":\"#FFFFFF\"},\"showarrow\":false,\"text\":\"0.12\",\"x\":\"Swallowing Difficulty\",\"xref\":\"x\",\"y\":\"Frequent Cold\",\"yref\":\"y\"},{\"font\":{\"color\":\"#FFFFFF\"},\"showarrow\":false,\"text\":\"0.23\",\"x\":\"Clubbing of Finger Nails\",\"xref\":\"x\",\"y\":\"Frequent Cold\",\"yref\":\"y\"},{\"font\":{\"color\":\"#000000\"},\"showarrow\":false,\"text\":\"1.0\",\"x\":\"Frequent Cold\",\"xref\":\"x\",\"y\":\"Frequent Cold\",\"yref\":\"y\"},{\"font\":{\"color\":\"#000000\"},\"showarrow\":false,\"text\":\"0.54\",\"x\":\"Dry Cough\",\"xref\":\"x\",\"y\":\"Frequent Cold\",\"yref\":\"y\"},{\"font\":{\"color\":\"#FFFFFF\"},\"showarrow\":false,\"text\":\"0.33\",\"x\":\"Snoring\",\"xref\":\"x\",\"y\":\"Frequent Cold\",\"yref\":\"y\"},{\"font\":{\"color\":\"#000000\"},\"showarrow\":false,\"text\":\"0.45\",\"x\":\"Level\",\"xref\":\"x\",\"y\":\"Frequent Cold\",\"yref\":\"y\"},{\"font\":{\"color\":\"#FFFFFF\"},\"showarrow\":false,\"text\":\"-0.02\",\"x\":\"Age\",\"xref\":\"x\",\"y\":\"Dry Cough\",\"yref\":\"y\"},{\"font\":{\"color\":\"#FFFFFF\"},\"showarrow\":false,\"text\":\"-0.12\",\"x\":\"Gender\",\"xref\":\"x\",\"y\":\"Dry Cough\",\"yref\":\"y\"},{\"font\":{\"color\":\"#FFFFFF\"},\"showarrow\":false,\"text\":\"0.26\",\"x\":\"Air Pollution\",\"xref\":\"x\",\"y\":\"Dry Cough\",\"yref\":\"y\"},{\"font\":{\"color\":\"#FFFFFF\"},\"showarrow\":false,\"text\":\"0.21\",\"x\":\"Alcohol use\",\"xref\":\"x\",\"y\":\"Dry Cough\",\"yref\":\"y\"},{\"font\":{\"color\":\"#FFFFFF\"},\"showarrow\":false,\"text\":\"0.3\",\"x\":\"Dust Allergy\",\"xref\":\"x\",\"y\":\"Dry Cough\",\"yref\":\"y\"},{\"font\":{\"color\":\"#FFFFFF\"},\"showarrow\":false,\"text\":\"0.16\",\"x\":\"OccuPational Hazards\",\"xref\":\"x\",\"y\":\"Dry Cough\",\"yref\":\"y\"},{\"font\":{\"color\":\"#FFFFFF\"},\"showarrow\":false,\"text\":\"0.19\",\"x\":\"Genetic Risk\",\"xref\":\"x\",\"y\":\"Dry Cough\",\"yref\":\"y\"},{\"font\":{\"color\":\"#FFFFFF\"},\"showarrow\":false,\"text\":\"0.11\",\"x\":\"chronic Lung Disease\",\"xref\":\"x\",\"y\":\"Dry Cough\",\"yref\":\"y\"},{\"font\":{\"color\":\"#FFFFFF\"},\"showarrow\":false,\"text\":\"0.33\",\"x\":\"Balanced Diet\",\"xref\":\"x\",\"y\":\"Dry Cough\",\"yref\":\"y\"},{\"font\":{\"color\":\"#FFFFFF\"},\"showarrow\":false,\"text\":\"0.2\",\"x\":\"Obesity\",\"xref\":\"x\",\"y\":\"Dry Cough\",\"yref\":\"y\"},{\"font\":{\"color\":\"#FFFFFF\"},\"showarrow\":false,\"text\":\"-0.01\",\"x\":\"Smoking\",\"xref\":\"x\",\"y\":\"Dry Cough\",\"yref\":\"y\"},{\"font\":{\"color\":\"#FFFFFF\"},\"showarrow\":false,\"text\":\"0.12\",\"x\":\"Passive Smoker\",\"xref\":\"x\",\"y\":\"Dry Cough\",\"yref\":\"y\"},{\"font\":{\"color\":\"#FFFFFF\"},\"showarrow\":false,\"text\":\"0.14\",\"x\":\"Chest Pain\",\"xref\":\"x\",\"y\":\"Dry Cough\",\"yref\":\"y\"},{\"font\":{\"color\":\"#FFFFFF\"},\"showarrow\":false,\"text\":\"0.15\",\"x\":\"Coughing of Blood\",\"xref\":\"x\",\"y\":\"Dry Cough\",\"yref\":\"y\"},{\"font\":{\"color\":\"#FFFFFF\"},\"showarrow\":false,\"text\":\"0.27\",\"x\":\"Fatigue\",\"xref\":\"x\",\"y\":\"Dry Cough\",\"yref\":\"y\"},{\"font\":{\"color\":\"#FFFFFF\"},\"showarrow\":false,\"text\":\"0.19\",\"x\":\"Weight Loss\",\"xref\":\"x\",\"y\":\"Dry Cough\",\"yref\":\"y\"},{\"font\":{\"color\":\"#000000\"},\"showarrow\":false,\"text\":\"0.49\",\"x\":\"Shortness of Breath\",\"xref\":\"x\",\"y\":\"Dry Cough\",\"yref\":\"y\"},{\"font\":{\"color\":\"#FFFFFF\"},\"showarrow\":false,\"text\":\"0.06\",\"x\":\"Wheezing\",\"xref\":\"x\",\"y\":\"Dry Cough\",\"yref\":\"y\"},{\"font\":{\"color\":\"#FFFFFF\"},\"showarrow\":false,\"text\":\"-0.04\",\"x\":\"Swallowing Difficulty\",\"xref\":\"x\",\"y\":\"Dry Cough\",\"yref\":\"y\"},{\"font\":{\"color\":\"#FFFFFF\"},\"showarrow\":false,\"text\":\"0.32\",\"x\":\"Clubbing of Finger Nails\",\"xref\":\"x\",\"y\":\"Dry Cough\",\"yref\":\"y\"},{\"font\":{\"color\":\"#000000\"},\"showarrow\":false,\"text\":\"0.54\",\"x\":\"Frequent Cold\",\"xref\":\"x\",\"y\":\"Dry Cough\",\"yref\":\"y\"},{\"font\":{\"color\":\"#000000\"},\"showarrow\":false,\"text\":\"1.0\",\"x\":\"Dry Cough\",\"xref\":\"x\",\"y\":\"Dry Cough\",\"yref\":\"y\"},{\"font\":{\"color\":\"#FFFFFF\"},\"showarrow\":false,\"text\":\"0.18\",\"x\":\"Snoring\",\"xref\":\"x\",\"y\":\"Dry Cough\",\"yref\":\"y\"},{\"font\":{\"color\":\"#FFFFFF\"},\"showarrow\":false,\"text\":\"0.38\",\"x\":\"Level\",\"xref\":\"x\",\"y\":\"Dry Cough\",\"yref\":\"y\"},{\"font\":{\"color\":\"#FFFFFF\"},\"showarrow\":false,\"text\":\"0.01\",\"x\":\"Age\",\"xref\":\"x\",\"y\":\"Snoring\",\"yref\":\"y\"},{\"font\":{\"color\":\"#FFFFFF\"},\"showarrow\":false,\"text\":\"-0.19\",\"x\":\"Gender\",\"xref\":\"x\",\"y\":\"Snoring\",\"yref\":\"y\"},{\"font\":{\"color\":\"#FFFFFF\"},\"showarrow\":false,\"text\":\"-0.02\",\"x\":\"Air Pollution\",\"xref\":\"x\",\"y\":\"Snoring\",\"yref\":\"y\"},{\"font\":{\"color\":\"#FFFFFF\"},\"showarrow\":false,\"text\":\"0.13\",\"x\":\"Alcohol use\",\"xref\":\"x\",\"y\":\"Snoring\",\"yref\":\"y\"},{\"font\":{\"color\":\"#FFFFFF\"},\"showarrow\":false,\"text\":\"0.06\",\"x\":\"Dust Allergy\",\"xref\":\"x\",\"y\":\"Snoring\",\"yref\":\"y\"},{\"font\":{\"color\":\"#FFFFFF\"},\"showarrow\":false,\"text\":\"0.02\",\"x\":\"OccuPational Hazards\",\"xref\":\"x\",\"y\":\"Snoring\",\"yref\":\"y\"},{\"font\":{\"color\":\"#FFFFFF\"},\"showarrow\":false,\"text\":\"-0.05\",\"x\":\"Genetic Risk\",\"xref\":\"x\",\"y\":\"Snoring\",\"yref\":\"y\"},{\"font\":{\"color\":\"#FFFFFF\"},\"showarrow\":false,\"text\":\"0.05\",\"x\":\"chronic Lung Disease\",\"xref\":\"x\",\"y\":\"Snoring\",\"yref\":\"y\"},{\"font\":{\"color\":\"#FFFFFF\"},\"showarrow\":false,\"text\":\"0.16\",\"x\":\"Balanced Diet\",\"xref\":\"x\",\"y\":\"Snoring\",\"yref\":\"y\"},{\"font\":{\"color\":\"#FFFFFF\"},\"showarrow\":false,\"text\":\"0.04\",\"x\":\"Obesity\",\"xref\":\"x\",\"y\":\"Snoring\",\"yref\":\"y\"},{\"font\":{\"color\":\"#FFFFFF\"},\"showarrow\":false,\"text\":\"0.2\",\"x\":\"Smoking\",\"xref\":\"x\",\"y\":\"Snoring\",\"yref\":\"y\"},{\"font\":{\"color\":\"#FFFFFF\"},\"showarrow\":false,\"text\":\"0.25\",\"x\":\"Passive Smoker\",\"xref\":\"x\",\"y\":\"Snoring\",\"yref\":\"y\"},{\"font\":{\"color\":\"#FFFFFF\"},\"showarrow\":false,\"text\":\"0.14\",\"x\":\"Chest Pain\",\"xref\":\"x\",\"y\":\"Snoring\",\"yref\":\"y\"},{\"font\":{\"color\":\"#FFFFFF\"},\"showarrow\":false,\"text\":\"0.09\",\"x\":\"Coughing of Blood\",\"xref\":\"x\",\"y\":\"Snoring\",\"yref\":\"y\"},{\"font\":{\"color\":\"#FFFFFF\"},\"showarrow\":false,\"text\":\"0.23\",\"x\":\"Fatigue\",\"xref\":\"x\",\"y\":\"Snoring\",\"yref\":\"y\"},{\"font\":{\"color\":\"#FFFFFF\"},\"showarrow\":false,\"text\":\"-0.19\",\"x\":\"Weight Loss\",\"xref\":\"x\",\"y\":\"Snoring\",\"yref\":\"y\"},{\"font\":{\"color\":\"#FFFFFF\"},\"showarrow\":false,\"text\":\"-0.16\",\"x\":\"Shortness of Breath\",\"xref\":\"x\",\"y\":\"Snoring\",\"yref\":\"y\"},{\"font\":{\"color\":\"#FFFFFF\"},\"showarrow\":false,\"text\":\"0.11\",\"x\":\"Wheezing\",\"xref\":\"x\",\"y\":\"Snoring\",\"yref\":\"y\"},{\"font\":{\"color\":\"#FFFFFF\"},\"showarrow\":false,\"text\":\"0.2\",\"x\":\"Swallowing Difficulty\",\"xref\":\"x\",\"y\":\"Snoring\",\"yref\":\"y\"},{\"font\":{\"color\":\"#FFFFFF\"},\"showarrow\":false,\"text\":\"-0.02\",\"x\":\"Clubbing of Finger Nails\",\"xref\":\"x\",\"y\":\"Snoring\",\"yref\":\"y\"},{\"font\":{\"color\":\"#FFFFFF\"},\"showarrow\":false,\"text\":\"0.33\",\"x\":\"Frequent Cold\",\"xref\":\"x\",\"y\":\"Snoring\",\"yref\":\"y\"},{\"font\":{\"color\":\"#FFFFFF\"},\"showarrow\":false,\"text\":\"0.18\",\"x\":\"Dry Cough\",\"xref\":\"x\",\"y\":\"Snoring\",\"yref\":\"y\"},{\"font\":{\"color\":\"#000000\"},\"showarrow\":false,\"text\":\"1.0\",\"x\":\"Snoring\",\"xref\":\"x\",\"y\":\"Snoring\",\"yref\":\"y\"},{\"font\":{\"color\":\"#FFFFFF\"},\"showarrow\":false,\"text\":\"0.29\",\"x\":\"Level\",\"xref\":\"x\",\"y\":\"Snoring\",\"yref\":\"y\"},{\"font\":{\"color\":\"#FFFFFF\"},\"showarrow\":false,\"text\":\"0.07\",\"x\":\"Age\",\"xref\":\"x\",\"y\":\"Level\",\"yref\":\"y\"},{\"font\":{\"color\":\"#FFFFFF\"},\"showarrow\":false,\"text\":\"-0.17\",\"x\":\"Gender\",\"xref\":\"x\",\"y\":\"Level\",\"yref\":\"y\"},{\"font\":{\"color\":\"#000000\"},\"showarrow\":false,\"text\":\"0.64\",\"x\":\"Air Pollution\",\"xref\":\"x\",\"y\":\"Level\",\"yref\":\"y\"},{\"font\":{\"color\":\"#000000\"},\"showarrow\":false,\"text\":\"0.72\",\"x\":\"Alcohol use\",\"xref\":\"x\",\"y\":\"Level\",\"yref\":\"y\"},{\"font\":{\"color\":\"#000000\"},\"showarrow\":false,\"text\":\"0.71\",\"x\":\"Dust Allergy\",\"xref\":\"x\",\"y\":\"Level\",\"yref\":\"y\"},{\"font\":{\"color\":\"#000000\"},\"showarrow\":false,\"text\":\"0.67\",\"x\":\"OccuPational Hazards\",\"xref\":\"x\",\"y\":\"Level\",\"yref\":\"y\"},{\"font\":{\"color\":\"#000000\"},\"showarrow\":false,\"text\":\"0.7\",\"x\":\"Genetic Risk\",\"xref\":\"x\",\"y\":\"Level\",\"yref\":\"y\"},{\"font\":{\"color\":\"#000000\"},\"showarrow\":false,\"text\":\"0.61\",\"x\":\"chronic Lung Disease\",\"xref\":\"x\",\"y\":\"Level\",\"yref\":\"y\"},{\"font\":{\"color\":\"#000000\"},\"showarrow\":false,\"text\":\"0.71\",\"x\":\"Balanced Diet\",\"xref\":\"x\",\"y\":\"Level\",\"yref\":\"y\"},{\"font\":{\"color\":\"#000000\"},\"showarrow\":false,\"text\":\"0.83\",\"x\":\"Obesity\",\"xref\":\"x\",\"y\":\"Level\",\"yref\":\"y\"},{\"font\":{\"color\":\"#000000\"},\"showarrow\":false,\"text\":\"0.53\",\"x\":\"Smoking\",\"xref\":\"x\",\"y\":\"Level\",\"yref\":\"y\"},{\"font\":{\"color\":\"#000000\"},\"showarrow\":false,\"text\":\"0.7\",\"x\":\"Passive Smoker\",\"xref\":\"x\",\"y\":\"Level\",\"yref\":\"y\"},{\"font\":{\"color\":\"#000000\"},\"showarrow\":false,\"text\":\"0.65\",\"x\":\"Chest Pain\",\"xref\":\"x\",\"y\":\"Level\",\"yref\":\"y\"},{\"font\":{\"color\":\"#000000\"},\"showarrow\":false,\"text\":\"0.78\",\"x\":\"Coughing of Blood\",\"xref\":\"x\",\"y\":\"Level\",\"yref\":\"y\"},{\"font\":{\"color\":\"#000000\"},\"showarrow\":false,\"text\":\"0.63\",\"x\":\"Fatigue\",\"xref\":\"x\",\"y\":\"Level\",\"yref\":\"y\"},{\"font\":{\"color\":\"#FFFFFF\"},\"showarrow\":false,\"text\":\"0.35\",\"x\":\"Weight Loss\",\"xref\":\"x\",\"y\":\"Level\",\"yref\":\"y\"},{\"font\":{\"color\":\"#000000\"},\"showarrow\":false,\"text\":\"0.5\",\"x\":\"Shortness of Breath\",\"xref\":\"x\",\"y\":\"Level\",\"yref\":\"y\"},{\"font\":{\"color\":\"#FFFFFF\"},\"showarrow\":false,\"text\":\"0.24\",\"x\":\"Wheezing\",\"xref\":\"x\",\"y\":\"Level\",\"yref\":\"y\"},{\"font\":{\"color\":\"#FFFFFF\"},\"showarrow\":false,\"text\":\"0.25\",\"x\":\"Swallowing Difficulty\",\"xref\":\"x\",\"y\":\"Level\",\"yref\":\"y\"},{\"font\":{\"color\":\"#FFFFFF\"},\"showarrow\":false,\"text\":\"0.28\",\"x\":\"Clubbing of Finger Nails\",\"xref\":\"x\",\"y\":\"Level\",\"yref\":\"y\"},{\"font\":{\"color\":\"#000000\"},\"showarrow\":false,\"text\":\"0.45\",\"x\":\"Frequent Cold\",\"xref\":\"x\",\"y\":\"Level\",\"yref\":\"y\"},{\"font\":{\"color\":\"#FFFFFF\"},\"showarrow\":false,\"text\":\"0.38\",\"x\":\"Dry Cough\",\"xref\":\"x\",\"y\":\"Level\",\"yref\":\"y\"},{\"font\":{\"color\":\"#FFFFFF\"},\"showarrow\":false,\"text\":\"0.29\",\"x\":\"Snoring\",\"xref\":\"x\",\"y\":\"Level\",\"yref\":\"y\"},{\"font\":{\"color\":\"#000000\"},\"showarrow\":false,\"text\":\"1.0\",\"x\":\"Level\",\"xref\":\"x\",\"y\":\"Level\",\"yref\":\"y\"}],\"xaxis\":{\"dtick\":1,\"gridcolor\":\"rgb(0, 0, 0)\",\"side\":\"top\",\"ticks\":\"\"},\"yaxis\":{\"dtick\":1,\"ticks\":\"\",\"ticksuffix\":\"  \"},\"template\":{\"data\":{\"histogram2dcontour\":[{\"type\":\"histogram2dcontour\",\"colorbar\":{\"outlinewidth\":0,\"ticks\":\"\"},\"colorscale\":[[0.0,\"#0d0887\"],[0.1111111111111111,\"#46039f\"],[0.2222222222222222,\"#7201a8\"],[0.3333333333333333,\"#9c179e\"],[0.4444444444444444,\"#bd3786\"],[0.5555555555555556,\"#d8576b\"],[0.6666666666666666,\"#ed7953\"],[0.7777777777777778,\"#fb9f3a\"],[0.8888888888888888,\"#fdca26\"],[1.0,\"#f0f921\"]]}],\"choropleth\":[{\"type\":\"choropleth\",\"colorbar\":{\"outlinewidth\":0,\"ticks\":\"\"}}],\"histogram2d\":[{\"type\":\"histogram2d\",\"colorbar\":{\"outlinewidth\":0,\"ticks\":\"\"},\"colorscale\":[[0.0,\"#0d0887\"],[0.1111111111111111,\"#46039f\"],[0.2222222222222222,\"#7201a8\"],[0.3333333333333333,\"#9c179e\"],[0.4444444444444444,\"#bd3786\"],[0.5555555555555556,\"#d8576b\"],[0.6666666666666666,\"#ed7953\"],[0.7777777777777778,\"#fb9f3a\"],[0.8888888888888888,\"#fdca26\"],[1.0,\"#f0f921\"]]}],\"heatmap\":[{\"type\":\"heatmap\",\"colorbar\":{\"outlinewidth\":0,\"ticks\":\"\"},\"colorscale\":[[0.0,\"#0d0887\"],[0.1111111111111111,\"#46039f\"],[0.2222222222222222,\"#7201a8\"],[0.3333333333333333,\"#9c179e\"],[0.4444444444444444,\"#bd3786\"],[0.5555555555555556,\"#d8576b\"],[0.6666666666666666,\"#ed7953\"],[0.7777777777777778,\"#fb9f3a\"],[0.8888888888888888,\"#fdca26\"],[1.0,\"#f0f921\"]]}],\"heatmapgl\":[{\"type\":\"heatmapgl\",\"colorbar\":{\"outlinewidth\":0,\"ticks\":\"\"},\"colorscale\":[[0.0,\"#0d0887\"],[0.1111111111111111,\"#46039f\"],[0.2222222222222222,\"#7201a8\"],[0.3333333333333333,\"#9c179e\"],[0.4444444444444444,\"#bd3786\"],[0.5555555555555556,\"#d8576b\"],[0.6666666666666666,\"#ed7953\"],[0.7777777777777778,\"#fb9f3a\"],[0.8888888888888888,\"#fdca26\"],[1.0,\"#f0f921\"]]}],\"contourcarpet\":[{\"type\":\"contourcarpet\",\"colorbar\":{\"outlinewidth\":0,\"ticks\":\"\"}}],\"contour\":[{\"type\":\"contour\",\"colorbar\":{\"outlinewidth\":0,\"ticks\":\"\"},\"colorscale\":[[0.0,\"#0d0887\"],[0.1111111111111111,\"#46039f\"],[0.2222222222222222,\"#7201a8\"],[0.3333333333333333,\"#9c179e\"],[0.4444444444444444,\"#bd3786\"],[0.5555555555555556,\"#d8576b\"],[0.6666666666666666,\"#ed7953\"],[0.7777777777777778,\"#fb9f3a\"],[0.8888888888888888,\"#fdca26\"],[1.0,\"#f0f921\"]]}],\"surface\":[{\"type\":\"surface\",\"colorbar\":{\"outlinewidth\":0,\"ticks\":\"\"},\"colorscale\":[[0.0,\"#0d0887\"],[0.1111111111111111,\"#46039f\"],[0.2222222222222222,\"#7201a8\"],[0.3333333333333333,\"#9c179e\"],[0.4444444444444444,\"#bd3786\"],[0.5555555555555556,\"#d8576b\"],[0.6666666666666666,\"#ed7953\"],[0.7777777777777778,\"#fb9f3a\"],[0.8888888888888888,\"#fdca26\"],[1.0,\"#f0f921\"]]}],\"mesh3d\":[{\"type\":\"mesh3d\",\"colorbar\":{\"outlinewidth\":0,\"ticks\":\"\"}}],\"scatter\":[{\"fillpattern\":{\"fillmode\":\"overlay\",\"size\":10,\"solidity\":0.2},\"type\":\"scatter\"}],\"parcoords\":[{\"type\":\"parcoords\",\"line\":{\"colorbar\":{\"outlinewidth\":0,\"ticks\":\"\"}}}],\"scatterpolargl\":[{\"type\":\"scatterpolargl\",\"marker\":{\"colorbar\":{\"outlinewidth\":0,\"ticks\":\"\"}}}],\"bar\":[{\"error_x\":{\"color\":\"#2a3f5f\"},\"error_y\":{\"color\":\"#2a3f5f\"},\"marker\":{\"line\":{\"color\":\"#E5ECF6\",\"width\":0.5},\"pattern\":{\"fillmode\":\"overlay\",\"size\":10,\"solidity\":0.2}},\"type\":\"bar\"}],\"scattergeo\":[{\"type\":\"scattergeo\",\"marker\":{\"colorbar\":{\"outlinewidth\":0,\"ticks\":\"\"}}}],\"scatterpolar\":[{\"type\":\"scatterpolar\",\"marker\":{\"colorbar\":{\"outlinewidth\":0,\"ticks\":\"\"}}}],\"histogram\":[{\"marker\":{\"pattern\":{\"fillmode\":\"overlay\",\"size\":10,\"solidity\":0.2}},\"type\":\"histogram\"}],\"scattergl\":[{\"type\":\"scattergl\",\"marker\":{\"colorbar\":{\"outlinewidth\":0,\"ticks\":\"\"}}}],\"scatter3d\":[{\"type\":\"scatter3d\",\"line\":{\"colorbar\":{\"outlinewidth\":0,\"ticks\":\"\"}},\"marker\":{\"colorbar\":{\"outlinewidth\":0,\"ticks\":\"\"}}}],\"scattermapbox\":[{\"type\":\"scattermapbox\",\"marker\":{\"colorbar\":{\"outlinewidth\":0,\"ticks\":\"\"}}}],\"scatterternary\":[{\"type\":\"scatterternary\",\"marker\":{\"colorbar\":{\"outlinewidth\":0,\"ticks\":\"\"}}}],\"scattercarpet\":[{\"type\":\"scattercarpet\",\"marker\":{\"colorbar\":{\"outlinewidth\":0,\"ticks\":\"\"}}}],\"carpet\":[{\"aaxis\":{\"endlinecolor\":\"#2a3f5f\",\"gridcolor\":\"white\",\"linecolor\":\"white\",\"minorgridcolor\":\"white\",\"startlinecolor\":\"#2a3f5f\"},\"baxis\":{\"endlinecolor\":\"#2a3f5f\",\"gridcolor\":\"white\",\"linecolor\":\"white\",\"minorgridcolor\":\"white\",\"startlinecolor\":\"#2a3f5f\"},\"type\":\"carpet\"}],\"table\":[{\"cells\":{\"fill\":{\"color\":\"#EBF0F8\"},\"line\":{\"color\":\"white\"}},\"header\":{\"fill\":{\"color\":\"#C8D4E3\"},\"line\":{\"color\":\"white\"}},\"type\":\"table\"}],\"barpolar\":[{\"marker\":{\"line\":{\"color\":\"#E5ECF6\",\"width\":0.5},\"pattern\":{\"fillmode\":\"overlay\",\"size\":10,\"solidity\":0.2}},\"type\":\"barpolar\"}],\"pie\":[{\"automargin\":true,\"type\":\"pie\"}]},\"layout\":{\"autotypenumbers\":\"strict\",\"colorway\":[\"#636efa\",\"#EF553B\",\"#00cc96\",\"#ab63fa\",\"#FFA15A\",\"#19d3f3\",\"#FF6692\",\"#B6E880\",\"#FF97FF\",\"#FECB52\"],\"font\":{\"color\":\"#2a3f5f\"},\"hovermode\":\"closest\",\"hoverlabel\":{\"align\":\"left\"},\"paper_bgcolor\":\"white\",\"plot_bgcolor\":\"#E5ECF6\",\"polar\":{\"bgcolor\":\"#E5ECF6\",\"angularaxis\":{\"gridcolor\":\"white\",\"linecolor\":\"white\",\"ticks\":\"\"},\"radialaxis\":{\"gridcolor\":\"white\",\"linecolor\":\"white\",\"ticks\":\"\"}},\"ternary\":{\"bgcolor\":\"#E5ECF6\",\"aaxis\":{\"gridcolor\":\"white\",\"linecolor\":\"white\",\"ticks\":\"\"},\"baxis\":{\"gridcolor\":\"white\",\"linecolor\":\"white\",\"ticks\":\"\"},\"caxis\":{\"gridcolor\":\"white\",\"linecolor\":\"white\",\"ticks\":\"\"}},\"coloraxis\":{\"colorbar\":{\"outlinewidth\":0,\"ticks\":\"\"}},\"colorscale\":{\"sequential\":[[0.0,\"#0d0887\"],[0.1111111111111111,\"#46039f\"],[0.2222222222222222,\"#7201a8\"],[0.3333333333333333,\"#9c179e\"],[0.4444444444444444,\"#bd3786\"],[0.5555555555555556,\"#d8576b\"],[0.6666666666666666,\"#ed7953\"],[0.7777777777777778,\"#fb9f3a\"],[0.8888888888888888,\"#fdca26\"],[1.0,\"#f0f921\"]],\"sequentialminus\":[[0.0,\"#0d0887\"],[0.1111111111111111,\"#46039f\"],[0.2222222222222222,\"#7201a8\"],[0.3333333333333333,\"#9c179e\"],[0.4444444444444444,\"#bd3786\"],[0.5555555555555556,\"#d8576b\"],[0.6666666666666666,\"#ed7953\"],[0.7777777777777778,\"#fb9f3a\"],[0.8888888888888888,\"#fdca26\"],[1.0,\"#f0f921\"]],\"diverging\":[[0,\"#8e0152\"],[0.1,\"#c51b7d\"],[0.2,\"#de77ae\"],[0.3,\"#f1b6da\"],[0.4,\"#fde0ef\"],[0.5,\"#f7f7f7\"],[0.6,\"#e6f5d0\"],[0.7,\"#b8e186\"],[0.8,\"#7fbc41\"],[0.9,\"#4d9221\"],[1,\"#276419\"]]},\"xaxis\":{\"gridcolor\":\"white\",\"linecolor\":\"white\",\"ticks\":\"\",\"title\":{\"standoff\":15},\"zerolinecolor\":\"white\",\"automargin\":true,\"zerolinewidth\":2},\"yaxis\":{\"gridcolor\":\"white\",\"linecolor\":\"white\",\"ticks\":\"\",\"title\":{\"standoff\":15},\"zerolinecolor\":\"white\",\"automargin\":true,\"zerolinewidth\":2},\"scene\":{\"xaxis\":{\"backgroundcolor\":\"#E5ECF6\",\"gridcolor\":\"white\",\"linecolor\":\"white\",\"showbackground\":true,\"ticks\":\"\",\"zerolinecolor\":\"white\",\"gridwidth\":2},\"yaxis\":{\"backgroundcolor\":\"#E5ECF6\",\"gridcolor\":\"white\",\"linecolor\":\"white\",\"showbackground\":true,\"ticks\":\"\",\"zerolinecolor\":\"white\",\"gridwidth\":2},\"zaxis\":{\"backgroundcolor\":\"#E5ECF6\",\"gridcolor\":\"white\",\"linecolor\":\"white\",\"showbackground\":true,\"ticks\":\"\",\"zerolinecolor\":\"white\",\"gridwidth\":2}},\"shapedefaults\":{\"line\":{\"color\":\"#2a3f5f\"}},\"annotationdefaults\":{\"arrowcolor\":\"#2a3f5f\",\"arrowhead\":0,\"arrowwidth\":1},\"geo\":{\"bgcolor\":\"white\",\"landcolor\":\"#E5ECF6\",\"subunitcolor\":\"white\",\"showland\":true,\"showlakes\":true,\"lakecolor\":\"white\"},\"title\":{\"x\":0.05},\"mapbox\":{\"style\":\"light\"}}}},                        {\"responsive\": true}                    ).then(function(){\n",
       "                            \n",
       "var gd = document.getElementById('ed4a9952-f449-41bc-84e6-ca02eaedf15d');\n",
       "var x = new MutationObserver(function (mutations, observer) {{\n",
       "        var display = window.getComputedStyle(gd).display;\n",
       "        if (!display || display === 'none') {{\n",
       "            console.log([gd, 'removed!']);\n",
       "            Plotly.purge(gd);\n",
       "            observer.disconnect();\n",
       "        }}\n",
       "}});\n",
       "\n",
       "// Listen for the removal of the full notebook cells\n",
       "var notebookContainer = gd.closest('#notebook-container');\n",
       "if (notebookContainer) {{\n",
       "    x.observe(notebookContainer, {childList: true});\n",
       "}}\n",
       "\n",
       "// Listen for the clearing of the current output cell\n",
       "var outputEl = gd.closest('.output');\n",
       "if (outputEl) {{\n",
       "    x.observe(outputEl, {childList: true});\n",
       "}}\n",
       "\n",
       "                        })                };                });            </script>        </div>"
      ]
     },
     "metadata": {},
     "output_type": "display_data"
    }
   ],
   "source": [
    "corrs = dataset.corr()\n",
    "figure = ff.create_annotated_heatmap(\n",
    "    z=corrs.values,\n",
    "    x=list(corrs.columns),\n",
    "    y=list(corrs.index),\n",
    "    annotation_text=corrs.round(2).values,\n",
    "    showscale=True)\n",
    "figure.show()"
   ]
  },
  {
   "cell_type": "markdown",
   "id": "0d2c0939",
   "metadata": {},
   "source": [
    "##### Select the highly correlated columns with our target variable - Level"
   ]
  },
  {
   "cell_type": "code",
   "execution_count": 18,
   "id": "2c63bb6f",
   "metadata": {},
   "outputs": [
    {
     "name": "stdout",
     "output_type": "stream",
     "text": [
      "There is 13 strongly correlated values with target:\n",
      "Obesity                 0.827918\n",
      "Coughing of Blood       0.782173\n",
      "Alcohol use             0.720249\n",
      "Dust Allergy            0.714826\n",
      "Balanced Diet           0.708628\n",
      "Passive Smoker          0.704315\n",
      "Genetic Risk            0.703423\n",
      "OccuPational Hazards    0.673353\n",
      "Chest Pain              0.645868\n",
      "Air Pollution           0.637549\n",
      "Fatigue                 0.625194\n",
      "chronic Lung Disease    0.610594\n",
      "Smoking                 0.527875\n",
      "Name: Level, dtype: float64\n"
     ]
    }
   ],
   "source": [
    "df_corr = dataset.corr()['Level'][:-1]\n",
    "corr = df_corr[abs(df_corr) > 0.5].sort_values(ascending=False)\n",
    "print(\"There is {} strongly correlated values with target:\\n{}\".format(len(corr), corr))"
   ]
  },
  {
   "cell_type": "code",
   "execution_count": 19,
   "id": "e9f6a8f7",
   "metadata": {},
   "outputs": [
    {
     "data": {
      "text/plain": [
       "['Obesity',\n",
       " 'Coughing of Blood',\n",
       " 'Alcohol use',\n",
       " 'Dust Allergy',\n",
       " 'Balanced Diet',\n",
       " 'Passive Smoker',\n",
       " 'Genetic Risk',\n",
       " 'OccuPational Hazards',\n",
       " 'Chest Pain',\n",
       " 'Air Pollution',\n",
       " 'Fatigue',\n",
       " 'chronic Lung Disease',\n",
       " 'Smoking']"
      ]
     },
     "execution_count": 19,
     "metadata": {},
     "output_type": "execute_result"
    }
   ],
   "source": [
    "corr_df=pd.DataFrame(corr)\n",
    "list(corr_df.index)"
   ]
  },
  {
   "cell_type": "markdown",
   "id": "c27a7e5d",
   "metadata": {},
   "source": [
    "##### Drop some other columns and creating feature dataframe(x) and lable dataframe(y)"
   ]
  },
  {
   "cell_type": "code",
   "execution_count": 20,
   "id": "eb5d566e",
   "metadata": {},
   "outputs": [],
   "source": [
    "impColms=list(corr_df.index)\n",
    "x=dataset.copy()\n",
    "\n",
    "for i in dataset.columns:\n",
    "    if i not in impColms:\n",
    "        x.drop([i],axis=1,inplace=True)\n",
    "\n",
    "y=dataset['Level']"
   ]
  },
  {
   "cell_type": "code",
   "execution_count": 21,
   "id": "09400c84",
   "metadata": {},
   "outputs": [
    {
     "name": "stdout",
     "output_type": "stream",
     "text": [
      "(990, 13)\n",
      "(990,)\n"
     ]
    }
   ],
   "source": [
    "print(x.shape)\n",
    "print(y.shape)"
   ]
  },
  {
   "cell_type": "markdown",
   "id": "e0d7e225",
   "metadata": {},
   "source": [
    "##### Normalize numerical features so that each feature has mean 0 and variance 1"
   ]
  },
  {
   "cell_type": "code",
   "execution_count": 22,
   "id": "c3249e62",
   "metadata": {},
   "outputs": [
    {
     "data": {
      "text/plain": [
       "array([[-0.89787225, -0.20867982, -0.07875426, ..., -1.06222082,\n",
       "        -0.351619  , -0.37899803],\n",
       "       [-0.40677085, -1.35007771, -0.07875426, ..., -1.06222082,\n",
       "        -0.76163409, -1.26601468],\n",
       "       [ 0.08433054,  0.17178615,  0.4242568 , ..., -0.18880005,\n",
       "         1.28844135,  1.83854361],\n",
       "       ...,\n",
       "       [ 0.08433054,  0.17178615,  0.4242568 , ..., -0.18880005,\n",
       "         1.28844135,  1.83854361],\n",
       "       [ 1.06653334,  1.31318404,  0.92726785, ...,  1.12133111,\n",
       "         1.69845643, -0.37899803],\n",
       "       [ 1.06653334,  0.17178615,  0.4242568 , ..., -0.18880005,\n",
       "         1.28844135,  1.83854361]])"
      ]
     },
     "execution_count": 22,
     "metadata": {},
     "output_type": "execute_result"
    }
   ],
   "source": [
    "feature_scaler = StandardScaler()\n",
    "X_scaled = feature_scaler.fit_transform(x)\n",
    "X_scaled"
   ]
  },
  {
   "cell_type": "markdown",
   "id": "a86c6a8e",
   "metadata": {},
   "source": [
    "##### Split data into train & test sets"
   ]
  },
  {
   "cell_type": "code",
   "execution_count": 23,
   "id": "84a59503",
   "metadata": {},
   "outputs": [],
   "source": [
    "from sklearn.model_selection import train_test_split\n",
    "X_train, X_test, y_train, y_test = train_test_split(X_scaled, y, test_size=0.2, random_state=132)"
   ]
  },
  {
   "cell_type": "markdown",
   "id": "2e5ee2ce",
   "metadata": {},
   "source": [
    "##### Implement cross-validation using Grid Search"
   ]
  },
  {
   "cell_type": "code",
   "execution_count": 24,
   "id": "9d39cb60",
   "metadata": {},
   "outputs": [
    {
     "name": "stdout",
     "output_type": "stream",
     "text": [
      "Best parameters:  {'classification__alpha': 0.001, 'classification__eta0': 0.001, 'classification__l1_ratio': 1, 'classification__max_iter': 100}\n",
      "Best result:  0.9217100549319323\n"
     ]
    }
   ],
   "source": [
    "# Tuning eta0, max_iter, and alpha parameters\n",
    "\n",
    "model = Pipeline([\n",
    "        ('balancing', SMOTE(random_state = 107)),\n",
    "        ('classification', SGDClassifier(loss = 'log', penalty = 'elasticnet', random_state = 38))\n",
    "    ])\n",
    "grid_param = {'classification__eta0': [.001,.01,.1,1,10,100], 'classification__max_iter' : [100,500,1000], 'classification__alpha': [.001, .01,.1, 1,10,100], 'classification__l1_ratio': [0,0.3,0.5,0.7,1]}\n",
    "\n",
    "gd_sr = GridSearchCV(estimator=model, param_grid=grid_param, scoring='accuracy', cv=5)\n",
    "\n",
    "gd_sr.fit(X_train,y_train)\n",
    "\n",
    "best_parameters = gd_sr.best_params_\n",
    "print(\"Best parameters: \", best_parameters)\n",
    "\n",
    "best_result = gd_sr.best_score_ # Mean cross-validated score of the best_estimator\n",
    "print(\"Best result: \", best_result)"
   ]
  },
  {
   "cell_type": "code",
   "execution_count": 27,
   "id": "0e816f46",
   "metadata": {},
   "outputs": [],
   "source": [
    "y_pred_CV = gd_sr.predict(X_test)"
   ]
  },
  {
   "cell_type": "code",
   "execution_count": 28,
   "id": "68f78ba2",
   "metadata": {},
   "outputs": [
    {
     "name": "stdout",
     "output_type": "stream",
     "text": [
      "Accuracy: 93.43434343434343 %\n"
     ]
    }
   ],
   "source": [
    "print('Accuracy: {}'.format(gd_sr.score(X_test, y_test)*100),\"%\")"
   ]
  },
  {
   "cell_type": "markdown",
   "id": "dbba0f17",
   "metadata": {},
   "source": [
    "##### Generating confusion matrix & print the classification report"
   ]
  },
  {
   "cell_type": "code",
   "execution_count": 30,
   "id": "aa5cf4b1",
   "metadata": {},
   "outputs": [
    {
     "data": {
      "image/png": "[encoded data removed]",
      "text/plain": [
       "<Figure size 360x360 with 1 Axes>"
      ]
     },
     "metadata": {
      "needs_background": "light"
     },
     "output_type": "display_data"
    },
    {
     "name": "stdout",
     "output_type": "stream",
     "text": [
      "              precision    recall  f1-score   support\n",
      "\n",
      "           0       1.00      0.79      0.88        63\n",
      "           1       0.83      1.00      0.91        62\n",
      "           2       1.00      1.00      1.00        73\n",
      "\n",
      "    accuracy                           0.93       198\n",
      "   macro avg       0.94      0.93      0.93       198\n",
      "weighted avg       0.95      0.93      0.93       198\n",
      "\n"
     ]
    }
   ],
   "source": [
    "mat_gs=confusion_matrix(y_test,y_pred_CV)\n",
    "fig, ax = plt.subplots(figsize=(5, 5))\n",
    "ax.matshow(mat_gs, cmap=plt.cm.Oranges, alpha=0.3)\n",
    "for i in range(mat_gs.shape[0]):\n",
    "    for j in range(mat_gs.shape[1]):\n",
    "        ax.text(x=j, y=i,s=mat_gs[i, j], va='center', ha='center', size='xx-large')\n",
    "\n",
    "plt.xlabel('Predictions', fontsize=18)\n",
    "plt.ylabel('Actuals', fontsize=18)\n",
    "plt.title('Confusion Matrix', fontsize=18)\n",
    "plt.show()\n",
    "\n",
    "print(classification_report(y_test, y_pred_CV))"
   ]
  },
  {
   "cell_type": "markdown",
   "id": "16fe8211",
   "metadata": {},
   "source": [
    "#### Graph of cross validation"
   ]
  },
  {
   "cell_type": "code",
   "execution_count": 31,
   "id": "122c575a",
   "metadata": {},
   "outputs": [
    {
     "data": {
      "image/png": "[encoded data removed]",
      "text/plain": [
       "<Figure size 432x288 with 1 Axes>"
      ]
     },
     "metadata": {
      "needs_background": "light"
     },
     "output_type": "display_data"
    }
   ],
   "source": [
    "mat_gs = confusion_matrix(y_test, y_pred_CV)\n",
    "\n",
    "# Extracting the true positive (TP), false positive (FP), true negative (TN), and false negative (FN) values from the confusion matrix\n",
    "TP = mat_gs[1][1]\n",
    "FP = mat_gs[0][1]\n",
    "TN = mat_gs[0][0]\n",
    "FN = mat_gs[1][0]\n",
    "\n",
    "# Creating a bar plot to visualize the actual vs predicted results\n",
    "x = np.array(['Actual Positive', 'Actual Negative'])\n",
    "y = np.array([TP+FN, FP+TN])\n",
    "y_pred = np.array([TP+FP, FN+TN])\n",
    "\n",
    "plt.bar(x, y, label='Actual')\n",
    "plt.bar(x, y_pred, label='Predicted')\n",
    "plt.xlabel('Class')\n",
    "plt.ylabel('Count')\n",
    "plt.title('Actual vs Predicted Results')\n",
    "plt.legend()\n",
    "plt.show()"
   ]
  },
  {
   "cell_type": "markdown",
   "id": "676a9265",
   "metadata": {},
   "source": [
    "### Decision Tree"
   ]
  },
  {
   "cell_type": "code",
   "execution_count": 32,
   "id": "45d552d0",
   "metadata": {},
   "outputs": [],
   "source": [
    "DT = tree.DecisionTreeClassifier()\n",
    "DT = DT.fit(X_train,y_train)"
   ]
  },
  {
   "cell_type": "code",
   "execution_count": 33,
   "id": "8078935c",
   "metadata": {},
   "outputs": [],
   "source": [
    "y_pred_DT = DT.predict(X_test)"
   ]
  },
  {
   "cell_type": "code",
   "execution_count": 34,
   "id": "d7be93d1",
   "metadata": {},
   "outputs": [
    {
     "name": "stdout",
     "output_type": "stream",
     "text": [
      "Accuracy: 100.0 %\n"
     ]
    }
   ],
   "source": [
    "print('Accuracy: {}'.format(DT.score(X_test, y_test)*100),\"%\")"
   ]
  },
  {
   "cell_type": "markdown",
   "id": "e236b530",
   "metadata": {},
   "source": [
    "##### Generating confusion matrix & print the classification report"
   ]
  },
  {
   "cell_type": "code",
   "execution_count": 35,
   "id": "a8247664",
   "metadata": {},
   "outputs": [
    {
     "data": {
      "image/png": "[encoded data removed]",
      "text/plain": [
       "<Figure size 360x360 with 1 Axes>"
      ]
     },
     "metadata": {
      "needs_background": "light"
     },
     "output_type": "display_data"
    },
    {
     "name": "stdout",
     "output_type": "stream",
     "text": [
      "              precision    recall  f1-score   support\n",
      "\n",
      "           0       1.00      1.00      1.00        63\n",
      "           1       1.00      1.00      1.00        62\n",
      "           2       1.00      1.00      1.00        73\n",
      "\n",
      "    accuracy                           1.00       198\n",
      "   macro avg       1.00      1.00      1.00       198\n",
      "weighted avg       1.00      1.00      1.00       198\n",
      "\n"
     ]
    }
   ],
   "source": [
    "mat_dt=confusion_matrix(y_test,y_pred_DT)\n",
    "fig, ax = plt.subplots(figsize=(5, 5))\n",
    "ax.matshow(mat_dt, cmap=plt.cm.Oranges, alpha=0.3)\n",
    "for i in range(mat_dt.shape[0]):\n",
    "    for j in range(mat_dt.shape[1]):\n",
    "        ax.text(x=j, y=i,s=mat_dt[i, j], va='center', ha='center', size='xx-large')\n",
    "\n",
    "plt.xlabel('Predictions', fontsize=18)\n",
    "plt.ylabel('Actuals', fontsize=18)\n",
    "plt.title('Confusion Matrix', fontsize=18)\n",
    "plt.show()\n",
    "\n",
    "print(classification_report(y_test, y_pred_DT))"
   ]
  },
  {
   "cell_type": "markdown",
   "id": "049b6383",
   "metadata": {},
   "source": [
    "#### Graph for Decision Tree"
   ]
  },
  {
   "cell_type": "code",
   "execution_count": 36,
   "id": "8e59bf9c",
   "metadata": {},
   "outputs": [
    {
     "data": {
      "image/png": "[encoded data removed]",
      "text/plain": [
       "<Figure size 432x288 with 1 Axes>"
      ]
     },
     "metadata": {
      "needs_background": "light"
     },
     "output_type": "display_data"
    }
   ],
   "source": [
    "y_actual = y_test\n",
    "y_pred = y_pred_DT\n",
    "\n",
    "# create scatter plot\n",
    "plt.scatter(y_actual, y_pred)\n",
    "plt.plot([0, max(y_actual)], [0, max(y_actual)], 'k--', lw=2) # plot diagonal line\n",
    "plt.xlabel('Actual values')\n",
    "plt.ylabel('Predicted values')\n",
    "plt.title('Actual vs Predicted values')\n",
    "plt.show()"
   ]
  },
  {
   "cell_type": "code",
   "execution_count": null,
   "id": "12517499",
   "metadata": {},
   "outputs": [],
   "source": []
  }
 ],
 "metadata": {
  "kernelspec": {
   "display_name": "Python 3 (ipykernel)",
   "language": "python",
   "name": "python3"
  },
  "language_info": {
   "codemirror_mode": {
    "name": "ipython",
    "version": 3
   },
   "file_extension": ".py",
   "mimetype": "text/x-python",
   "name": "python",
   "nbconvert_exporter": "python",
   "pygments_lexer": "ipython3",
   "version": "3.9.7"
  }
 },
 "nbformat": 4,
 "nbformat_minor": 5
}
